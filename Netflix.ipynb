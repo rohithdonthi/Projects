{
  "nbformat": 4,
  "nbformat_minor": 0,
  "metadata": {
    "colab": {
      "name": "Netflix.ipynb",
      "provenance": []
    },
    "kernelspec": {
      "name": "python3",
      "display_name": "Python 3"
    },
    "language_info": {
      "name": "python"
    }
  },
  "cells": [
    {
      "cell_type": "code",
      "metadata": {
        "id": "Gfp0_WcHukv_"
      },
      "source": [
        "import pandas as pd\n",
        "import seaborn as sns"
      ],
      "execution_count": 5,
      "outputs": []
    },
    {
      "cell_type": "code",
      "metadata": {
        "id": "y8Oqcdt9vDjF"
      },
      "source": [
        "data = pd.read_csv('/content/sample_data/8. Netflix Dataset.csv')"
      ],
      "execution_count": 6,
      "outputs": []
    },
    {
      "cell_type": "code",
      "metadata": {
        "colab": {
          "base_uri": "https://localhost:8080/",
          "height": 623
        },
        "id": "KXtgFbX9vKzG",
        "outputId": "0bb05283-10cf-4dd0-8d5a-25be20241156"
      },
      "source": [
        "data "
      ],
      "execution_count": 65,
      "outputs": [
        {
          "output_type": "execute_result",
          "data": {
            "text/html": [
              "<div>\n",
              "<style scoped>\n",
              "    .dataframe tbody tr th:only-of-type {\n",
              "        vertical-align: middle;\n",
              "    }\n",
              "\n",
              "    .dataframe tbody tr th {\n",
              "        vertical-align: top;\n",
              "    }\n",
              "\n",
              "    .dataframe thead th {\n",
              "        text-align: right;\n",
              "    }\n",
              "</style>\n",
              "<table border=\"1\" class=\"dataframe\">\n",
              "  <thead>\n",
              "    <tr style=\"text-align: right;\">\n",
              "      <th></th>\n",
              "      <th>Show_Id</th>\n",
              "      <th>Category</th>\n",
              "      <th>Title</th>\n",
              "      <th>Director</th>\n",
              "      <th>Cast</th>\n",
              "      <th>Country</th>\n",
              "      <th>Release_Date</th>\n",
              "      <th>Rating</th>\n",
              "      <th>Duration</th>\n",
              "      <th>Type</th>\n",
              "      <th>Description</th>\n",
              "    </tr>\n",
              "  </thead>\n",
              "  <tbody>\n",
              "    <tr>\n",
              "      <th>0</th>\n",
              "      <td>s1</td>\n",
              "      <td>TV Show</td>\n",
              "      <td>3%</td>\n",
              "      <td>NaN</td>\n",
              "      <td>João Miguel, Bianca Comparato, Michel Gomes, R...</td>\n",
              "      <td>Brazil</td>\n",
              "      <td>August 14, 2020</td>\n",
              "      <td>TV-MA</td>\n",
              "      <td>4 Seasons</td>\n",
              "      <td>International TV Shows, TV Dramas, TV Sci-Fi &amp;...</td>\n",
              "      <td>In a future where the elite inhabit an island ...</td>\n",
              "    </tr>\n",
              "    <tr>\n",
              "      <th>1</th>\n",
              "      <td>s2</td>\n",
              "      <td>Movie</td>\n",
              "      <td>07:19</td>\n",
              "      <td>Jorge Michel Grau</td>\n",
              "      <td>Demián Bichir, Héctor Bonilla, Oscar Serrano, ...</td>\n",
              "      <td>Mexico</td>\n",
              "      <td>December 23, 2016</td>\n",
              "      <td>TV-MA</td>\n",
              "      <td>93 min</td>\n",
              "      <td>Dramas, International Movies</td>\n",
              "      <td>After a devastating earthquake hits Mexico Cit...</td>\n",
              "    </tr>\n",
              "    <tr>\n",
              "      <th>2</th>\n",
              "      <td>s3</td>\n",
              "      <td>Movie</td>\n",
              "      <td>23:59</td>\n",
              "      <td>Gilbert Chan</td>\n",
              "      <td>Tedd Chan, Stella Chung, Henley Hii, Lawrence ...</td>\n",
              "      <td>Singapore</td>\n",
              "      <td>December 20, 2018</td>\n",
              "      <td>R</td>\n",
              "      <td>78 min</td>\n",
              "      <td>Horror Movies, International Movies</td>\n",
              "      <td>When an army recruit is found dead, his fellow...</td>\n",
              "    </tr>\n",
              "    <tr>\n",
              "      <th>3</th>\n",
              "      <td>s4</td>\n",
              "      <td>Movie</td>\n",
              "      <td>9</td>\n",
              "      <td>Shane Acker</td>\n",
              "      <td>Elijah Wood, John C. Reilly, Jennifer Connelly...</td>\n",
              "      <td>United States</td>\n",
              "      <td>November 16, 2017</td>\n",
              "      <td>PG-13</td>\n",
              "      <td>80 min</td>\n",
              "      <td>Action &amp; Adventure, Independent Movies, Sci-Fi...</td>\n",
              "      <td>In a postapocalyptic world, rag-doll robots hi...</td>\n",
              "    </tr>\n",
              "    <tr>\n",
              "      <th>4</th>\n",
              "      <td>s5</td>\n",
              "      <td>Movie</td>\n",
              "      <td>21</td>\n",
              "      <td>Robert Luketic</td>\n",
              "      <td>Jim Sturgess, Kevin Spacey, Kate Bosworth, Aar...</td>\n",
              "      <td>United States</td>\n",
              "      <td>January 1, 2020</td>\n",
              "      <td>PG-13</td>\n",
              "      <td>123 min</td>\n",
              "      <td>Dramas</td>\n",
              "      <td>A brilliant group of students become card-coun...</td>\n",
              "    </tr>\n",
              "    <tr>\n",
              "      <th>...</th>\n",
              "      <td>...</td>\n",
              "      <td>...</td>\n",
              "      <td>...</td>\n",
              "      <td>...</td>\n",
              "      <td>...</td>\n",
              "      <td>...</td>\n",
              "      <td>...</td>\n",
              "      <td>...</td>\n",
              "      <td>...</td>\n",
              "      <td>...</td>\n",
              "      <td>...</td>\n",
              "    </tr>\n",
              "    <tr>\n",
              "      <th>7784</th>\n",
              "      <td>s7783</td>\n",
              "      <td>Movie</td>\n",
              "      <td>Zozo</td>\n",
              "      <td>Josef Fares</td>\n",
              "      <td>Imad Creidi, Antoinette Turk, Elias Gergi, Car...</td>\n",
              "      <td>Sweden, Czech Republic, United Kingdom, Denmar...</td>\n",
              "      <td>October 19, 2020</td>\n",
              "      <td>TV-MA</td>\n",
              "      <td>99 min</td>\n",
              "      <td>Dramas, International Movies</td>\n",
              "      <td>When Lebanon's Civil War deprives Zozo of his ...</td>\n",
              "    </tr>\n",
              "    <tr>\n",
              "      <th>7785</th>\n",
              "      <td>s7784</td>\n",
              "      <td>Movie</td>\n",
              "      <td>Zubaan</td>\n",
              "      <td>Mozez Singh</td>\n",
              "      <td>Vicky Kaushal, Sarah-Jane Dias, Raaghav Chanan...</td>\n",
              "      <td>India</td>\n",
              "      <td>March 2, 2019</td>\n",
              "      <td>TV-14</td>\n",
              "      <td>111 min</td>\n",
              "      <td>Dramas, International Movies, Music &amp; Musicals</td>\n",
              "      <td>A scrappy but poor boy worms his way into a ty...</td>\n",
              "    </tr>\n",
              "    <tr>\n",
              "      <th>7786</th>\n",
              "      <td>s7785</td>\n",
              "      <td>Movie</td>\n",
              "      <td>Zulu Man in Japan</td>\n",
              "      <td>NaN</td>\n",
              "      <td>Nasty C</td>\n",
              "      <td>NaN</td>\n",
              "      <td>September 25, 2020</td>\n",
              "      <td>TV-MA</td>\n",
              "      <td>44 min</td>\n",
              "      <td>Documentaries, International Movies, Music &amp; M...</td>\n",
              "      <td>In this documentary, South African rapper Nast...</td>\n",
              "    </tr>\n",
              "    <tr>\n",
              "      <th>7787</th>\n",
              "      <td>s7786</td>\n",
              "      <td>TV Show</td>\n",
              "      <td>Zumbo's Just Desserts</td>\n",
              "      <td>NaN</td>\n",
              "      <td>Adriano Zumbo, Rachel Khoo</td>\n",
              "      <td>Australia</td>\n",
              "      <td>October 31, 2020</td>\n",
              "      <td>TV-PG</td>\n",
              "      <td>1 Season</td>\n",
              "      <td>International TV Shows, Reality TV</td>\n",
              "      <td>Dessert wizard Adriano Zumbo looks for the nex...</td>\n",
              "    </tr>\n",
              "    <tr>\n",
              "      <th>7788</th>\n",
              "      <td>s7787</td>\n",
              "      <td>Movie</td>\n",
              "      <td>ZZ TOP: THAT LITTLE OL' BAND FROM TEXAS</td>\n",
              "      <td>Sam Dunn</td>\n",
              "      <td>NaN</td>\n",
              "      <td>United Kingdom, Canada, United States</td>\n",
              "      <td>March 1, 2020</td>\n",
              "      <td>TV-MA</td>\n",
              "      <td>90 min</td>\n",
              "      <td>Documentaries, Music &amp; Musicals</td>\n",
              "      <td>This documentary delves into the mystique behi...</td>\n",
              "    </tr>\n",
              "  </tbody>\n",
              "</table>\n",
              "<p>7789 rows × 11 columns</p>\n",
              "</div>"
            ],
            "text/plain": [
              "     Show_Id  ...                                        Description\n",
              "0         s1  ...  In a future where the elite inhabit an island ...\n",
              "1         s2  ...  After a devastating earthquake hits Mexico Cit...\n",
              "2         s3  ...  When an army recruit is found dead, his fellow...\n",
              "3         s4  ...  In a postapocalyptic world, rag-doll robots hi...\n",
              "4         s5  ...  A brilliant group of students become card-coun...\n",
              "...      ...  ...                                                ...\n",
              "7784   s7783  ...  When Lebanon's Civil War deprives Zozo of his ...\n",
              "7785   s7784  ...  A scrappy but poor boy worms his way into a ty...\n",
              "7786   s7785  ...  In this documentary, South African rapper Nast...\n",
              "7787   s7786  ...  Dessert wizard Adriano Zumbo looks for the nex...\n",
              "7788   s7787  ...  This documentary delves into the mystique behi...\n",
              "\n",
              "[7789 rows x 11 columns]"
            ]
          },
          "metadata": {
            "tags": []
          },
          "execution_count": 65
        }
      ]
    },
    {
      "cell_type": "code",
      "metadata": {
        "colab": {
          "base_uri": "https://localhost:8080/",
          "height": 289
        },
        "id": "O2jyRWXLvP_W",
        "outputId": "bfab4590-6f73-4e61-89c9-d532a56a8ffc"
      },
      "source": [
        "data.head(5) #Top 5 records of the dataset "
      ],
      "execution_count": null,
      "outputs": [
        {
          "output_type": "execute_result",
          "data": {
            "text/html": [
              "<div>\n",
              "<style scoped>\n",
              "    .dataframe tbody tr th:only-of-type {\n",
              "        vertical-align: middle;\n",
              "    }\n",
              "\n",
              "    .dataframe tbody tr th {\n",
              "        vertical-align: top;\n",
              "    }\n",
              "\n",
              "    .dataframe thead th {\n",
              "        text-align: right;\n",
              "    }\n",
              "</style>\n",
              "<table border=\"1\" class=\"dataframe\">\n",
              "  <thead>\n",
              "    <tr style=\"text-align: right;\">\n",
              "      <th></th>\n",
              "      <th>Show_Id</th>\n",
              "      <th>Category</th>\n",
              "      <th>Title</th>\n",
              "      <th>Director</th>\n",
              "      <th>Cast</th>\n",
              "      <th>Country</th>\n",
              "      <th>Release_Date</th>\n",
              "      <th>Rating</th>\n",
              "      <th>Duration</th>\n",
              "      <th>Type</th>\n",
              "      <th>Description</th>\n",
              "    </tr>\n",
              "  </thead>\n",
              "  <tbody>\n",
              "    <tr>\n",
              "      <th>0</th>\n",
              "      <td>s1</td>\n",
              "      <td>TV Show</td>\n",
              "      <td>3%</td>\n",
              "      <td>NaN</td>\n",
              "      <td>João Miguel, Bianca Comparato, Michel Gomes, R...</td>\n",
              "      <td>Brazil</td>\n",
              "      <td>August 14, 2020</td>\n",
              "      <td>TV-MA</td>\n",
              "      <td>4 Seasons</td>\n",
              "      <td>International TV Shows, TV Dramas, TV Sci-Fi &amp;...</td>\n",
              "      <td>In a future where the elite inhabit an island ...</td>\n",
              "    </tr>\n",
              "    <tr>\n",
              "      <th>1</th>\n",
              "      <td>s2</td>\n",
              "      <td>Movie</td>\n",
              "      <td>07:19</td>\n",
              "      <td>Jorge Michel Grau</td>\n",
              "      <td>Demián Bichir, Héctor Bonilla, Oscar Serrano, ...</td>\n",
              "      <td>Mexico</td>\n",
              "      <td>December 23, 2016</td>\n",
              "      <td>TV-MA</td>\n",
              "      <td>93 min</td>\n",
              "      <td>Dramas, International Movies</td>\n",
              "      <td>After a devastating earthquake hits Mexico Cit...</td>\n",
              "    </tr>\n",
              "    <tr>\n",
              "      <th>2</th>\n",
              "      <td>s3</td>\n",
              "      <td>Movie</td>\n",
              "      <td>23:59</td>\n",
              "      <td>Gilbert Chan</td>\n",
              "      <td>Tedd Chan, Stella Chung, Henley Hii, Lawrence ...</td>\n",
              "      <td>Singapore</td>\n",
              "      <td>December 20, 2018</td>\n",
              "      <td>R</td>\n",
              "      <td>78 min</td>\n",
              "      <td>Horror Movies, International Movies</td>\n",
              "      <td>When an army recruit is found dead, his fellow...</td>\n",
              "    </tr>\n",
              "    <tr>\n",
              "      <th>3</th>\n",
              "      <td>s4</td>\n",
              "      <td>Movie</td>\n",
              "      <td>9</td>\n",
              "      <td>Shane Acker</td>\n",
              "      <td>Elijah Wood, John C. Reilly, Jennifer Connelly...</td>\n",
              "      <td>United States</td>\n",
              "      <td>November 16, 2017</td>\n",
              "      <td>PG-13</td>\n",
              "      <td>80 min</td>\n",
              "      <td>Action &amp; Adventure, Independent Movies, Sci-Fi...</td>\n",
              "      <td>In a postapocalyptic world, rag-doll robots hi...</td>\n",
              "    </tr>\n",
              "    <tr>\n",
              "      <th>4</th>\n",
              "      <td>s5</td>\n",
              "      <td>Movie</td>\n",
              "      <td>21</td>\n",
              "      <td>Robert Luketic</td>\n",
              "      <td>Jim Sturgess, Kevin Spacey, Kate Bosworth, Aar...</td>\n",
              "      <td>United States</td>\n",
              "      <td>January 1, 2020</td>\n",
              "      <td>PG-13</td>\n",
              "      <td>123 min</td>\n",
              "      <td>Dramas</td>\n",
              "      <td>A brilliant group of students become card-coun...</td>\n",
              "    </tr>\n",
              "  </tbody>\n",
              "</table>\n",
              "</div>"
            ],
            "text/plain": [
              "  Show_Id  ...                                        Description\n",
              "0      s1  ...  In a future where the elite inhabit an island ...\n",
              "1      s2  ...  After a devastating earthquake hits Mexico Cit...\n",
              "2      s3  ...  When an army recruit is found dead, his fellow...\n",
              "3      s4  ...  In a postapocalyptic world, rag-doll robots hi...\n",
              "4      s5  ...  A brilliant group of students become card-coun...\n",
              "\n",
              "[5 rows x 11 columns]"
            ]
          },
          "metadata": {
            "tags": []
          },
          "execution_count": 7
        }
      ]
    },
    {
      "cell_type": "code",
      "metadata": {
        "colab": {
          "base_uri": "https://localhost:8080/",
          "height": 289
        },
        "id": "gdojmTtnvTDL",
        "outputId": "7db6c911-6e43-4b5b-e976-2252ba4f87c7"
      },
      "source": [
        "data.tail(5) #Bottom 5 records of the dataset "
      ],
      "execution_count": null,
      "outputs": [
        {
          "output_type": "execute_result",
          "data": {
            "text/html": [
              "<div>\n",
              "<style scoped>\n",
              "    .dataframe tbody tr th:only-of-type {\n",
              "        vertical-align: middle;\n",
              "    }\n",
              "\n",
              "    .dataframe tbody tr th {\n",
              "        vertical-align: top;\n",
              "    }\n",
              "\n",
              "    .dataframe thead th {\n",
              "        text-align: right;\n",
              "    }\n",
              "</style>\n",
              "<table border=\"1\" class=\"dataframe\">\n",
              "  <thead>\n",
              "    <tr style=\"text-align: right;\">\n",
              "      <th></th>\n",
              "      <th>Show_Id</th>\n",
              "      <th>Category</th>\n",
              "      <th>Title</th>\n",
              "      <th>Director</th>\n",
              "      <th>Cast</th>\n",
              "      <th>Country</th>\n",
              "      <th>Release_Date</th>\n",
              "      <th>Rating</th>\n",
              "      <th>Duration</th>\n",
              "      <th>Type</th>\n",
              "      <th>Description</th>\n",
              "    </tr>\n",
              "  </thead>\n",
              "  <tbody>\n",
              "    <tr>\n",
              "      <th>7784</th>\n",
              "      <td>s7783</td>\n",
              "      <td>Movie</td>\n",
              "      <td>Zozo</td>\n",
              "      <td>Josef Fares</td>\n",
              "      <td>Imad Creidi, Antoinette Turk, Elias Gergi, Car...</td>\n",
              "      <td>Sweden, Czech Republic, United Kingdom, Denmar...</td>\n",
              "      <td>October 19, 2020</td>\n",
              "      <td>TV-MA</td>\n",
              "      <td>99 min</td>\n",
              "      <td>Dramas, International Movies</td>\n",
              "      <td>When Lebanon's Civil War deprives Zozo of his ...</td>\n",
              "    </tr>\n",
              "    <tr>\n",
              "      <th>7785</th>\n",
              "      <td>s7784</td>\n",
              "      <td>Movie</td>\n",
              "      <td>Zubaan</td>\n",
              "      <td>Mozez Singh</td>\n",
              "      <td>Vicky Kaushal, Sarah-Jane Dias, Raaghav Chanan...</td>\n",
              "      <td>India</td>\n",
              "      <td>March 2, 2019</td>\n",
              "      <td>TV-14</td>\n",
              "      <td>111 min</td>\n",
              "      <td>Dramas, International Movies, Music &amp; Musicals</td>\n",
              "      <td>A scrappy but poor boy worms his way into a ty...</td>\n",
              "    </tr>\n",
              "    <tr>\n",
              "      <th>7786</th>\n",
              "      <td>s7785</td>\n",
              "      <td>Movie</td>\n",
              "      <td>Zulu Man in Japan</td>\n",
              "      <td>NaN</td>\n",
              "      <td>Nasty C</td>\n",
              "      <td>NaN</td>\n",
              "      <td>September 25, 2020</td>\n",
              "      <td>TV-MA</td>\n",
              "      <td>44 min</td>\n",
              "      <td>Documentaries, International Movies, Music &amp; M...</td>\n",
              "      <td>In this documentary, South African rapper Nast...</td>\n",
              "    </tr>\n",
              "    <tr>\n",
              "      <th>7787</th>\n",
              "      <td>s7786</td>\n",
              "      <td>TV Show</td>\n",
              "      <td>Zumbo's Just Desserts</td>\n",
              "      <td>NaN</td>\n",
              "      <td>Adriano Zumbo, Rachel Khoo</td>\n",
              "      <td>Australia</td>\n",
              "      <td>October 31, 2020</td>\n",
              "      <td>TV-PG</td>\n",
              "      <td>1 Season</td>\n",
              "      <td>International TV Shows, Reality TV</td>\n",
              "      <td>Dessert wizard Adriano Zumbo looks for the nex...</td>\n",
              "    </tr>\n",
              "    <tr>\n",
              "      <th>7788</th>\n",
              "      <td>s7787</td>\n",
              "      <td>Movie</td>\n",
              "      <td>ZZ TOP: THAT LITTLE OL' BAND FROM TEXAS</td>\n",
              "      <td>Sam Dunn</td>\n",
              "      <td>NaN</td>\n",
              "      <td>United Kingdom, Canada, United States</td>\n",
              "      <td>March 1, 2020</td>\n",
              "      <td>TV-MA</td>\n",
              "      <td>90 min</td>\n",
              "      <td>Documentaries, Music &amp; Musicals</td>\n",
              "      <td>This documentary delves into the mystique behi...</td>\n",
              "    </tr>\n",
              "  </tbody>\n",
              "</table>\n",
              "</div>"
            ],
            "text/plain": [
              "     Show_Id  ...                                        Description\n",
              "7784   s7783  ...  When Lebanon's Civil War deprives Zozo of his ...\n",
              "7785   s7784  ...  A scrappy but poor boy worms his way into a ty...\n",
              "7786   s7785  ...  In this documentary, South African rapper Nast...\n",
              "7787   s7786  ...  Dessert wizard Adriano Zumbo looks for the nex...\n",
              "7788   s7787  ...  This documentary delves into the mystique behi...\n",
              "\n",
              "[5 rows x 11 columns]"
            ]
          },
          "metadata": {
            "tags": []
          },
          "execution_count": 8
        }
      ]
    },
    {
      "cell_type": "code",
      "metadata": {
        "colab": {
          "base_uri": "https://localhost:8080/"
        },
        "id": "NqT0cBpDvZTH",
        "outputId": "96ed3f1b-b45f-4bf3-b4d1-3250307fd05f"
      },
      "source": [
        "data.shape  #To display the rows and columns of the dataset "
      ],
      "execution_count": null,
      "outputs": [
        {
          "output_type": "execute_result",
          "data": {
            "text/plain": [
              "(7789, 11)"
            ]
          },
          "metadata": {
            "tags": []
          },
          "execution_count": 9
        }
      ]
    },
    {
      "cell_type": "code",
      "metadata": {
        "colab": {
          "base_uri": "https://localhost:8080/"
        },
        "id": "gTvhGPpzvcIx",
        "outputId": "fe6a8e7a-bfa1-4067-adb6-df58e14eb037"
      },
      "source": [
        "data.size #To show the total elements in the dataset "
      ],
      "execution_count": null,
      "outputs": [
        {
          "output_type": "execute_result",
          "data": {
            "text/plain": [
              "85679"
            ]
          },
          "metadata": {
            "tags": []
          },
          "execution_count": 10
        }
      ]
    },
    {
      "cell_type": "code",
      "metadata": {
        "colab": {
          "base_uri": "https://localhost:8080/"
        },
        "id": "p-KP8vIDvegB",
        "outputId": "4a060b84-04b8-4fb1-f07b-2132f674b89d"
      },
      "source": [
        "data.columns #To show the column names "
      ],
      "execution_count": null,
      "outputs": [
        {
          "output_type": "execute_result",
          "data": {
            "text/plain": [
              "Index(['Show_Id', 'Category', 'Title', 'Director', 'Cast', 'Country',\n",
              "       'Release_Date', 'Rating', 'Duration', 'Type', 'Description'],\n",
              "      dtype='object')"
            ]
          },
          "metadata": {
            "tags": []
          },
          "execution_count": 11
        }
      ]
    },
    {
      "cell_type": "code",
      "metadata": {
        "colab": {
          "base_uri": "https://localhost:8080/"
        },
        "id": "N2dcnYELvh1j",
        "outputId": "8cb95059-8772-4a0c-aed4-5fa2ea9111a6"
      },
      "source": [
        "data.dtypes #Displaying the data types of each column "
      ],
      "execution_count": null,
      "outputs": [
        {
          "output_type": "execute_result",
          "data": {
            "text/plain": [
              "Show_Id         object\n",
              "Category        object\n",
              "Title           object\n",
              "Director        object\n",
              "Cast            object\n",
              "Country         object\n",
              "Release_Date    object\n",
              "Rating          object\n",
              "Duration        object\n",
              "Type            object\n",
              "Description     object\n",
              "dtype: object"
            ]
          },
          "metadata": {
            "tags": []
          },
          "execution_count": 12
        }
      ]
    },
    {
      "cell_type": "code",
      "metadata": {
        "colab": {
          "base_uri": "https://localhost:8080/"
        },
        "id": "e-L_yaobvknf",
        "outputId": "1e1c3e5d-2a0b-49ce-ada5-aca5516bd601"
      },
      "source": [
        "data.info() #To display the information of this dataset"
      ],
      "execution_count": null,
      "outputs": [
        {
          "output_type": "stream",
          "text": [
            "<class 'pandas.core.frame.DataFrame'>\n",
            "RangeIndex: 7789 entries, 0 to 7788\n",
            "Data columns (total 11 columns):\n",
            " #   Column        Non-Null Count  Dtype \n",
            "---  ------        --------------  ----- \n",
            " 0   Show_Id       7789 non-null   object\n",
            " 1   Category      7789 non-null   object\n",
            " 2   Title         7789 non-null   object\n",
            " 3   Director      5401 non-null   object\n",
            " 4   Cast          7071 non-null   object\n",
            " 5   Country       7282 non-null   object\n",
            " 6   Release_Date  7779 non-null   object\n",
            " 7   Rating        7782 non-null   object\n",
            " 8   Duration      7789 non-null   object\n",
            " 9   Type          7789 non-null   object\n",
            " 10  Description   7789 non-null   object\n",
            "dtypes: object(11)\n",
            "memory usage: 669.5+ KB\n"
          ],
          "name": "stdout"
        }
      ]
    },
    {
      "cell_type": "code",
      "metadata": {
        "id": "C3peT6EIvnvY"
      },
      "source": [
        "#Finding the duplicate records of the dataset "
      ],
      "execution_count": null,
      "outputs": []
    },
    {
      "cell_type": "code",
      "metadata": {
        "colab": {
          "base_uri": "https://localhost:8080/",
          "height": 145
        },
        "id": "FCFmCYx3vq1D",
        "outputId": "581ae8e9-680b-40a9-c17e-36476a5a780a"
      },
      "source": [
        "data[data.duplicated()] #To verify row wise and detect duplicate values "
      ],
      "execution_count": null,
      "outputs": [
        {
          "output_type": "execute_result",
          "data": {
            "text/html": [
              "<div>\n",
              "<style scoped>\n",
              "    .dataframe tbody tr th:only-of-type {\n",
              "        vertical-align: middle;\n",
              "    }\n",
              "\n",
              "    .dataframe tbody tr th {\n",
              "        vertical-align: top;\n",
              "    }\n",
              "\n",
              "    .dataframe thead th {\n",
              "        text-align: right;\n",
              "    }\n",
              "</style>\n",
              "<table border=\"1\" class=\"dataframe\">\n",
              "  <thead>\n",
              "    <tr style=\"text-align: right;\">\n",
              "      <th></th>\n",
              "      <th>Show_Id</th>\n",
              "      <th>Category</th>\n",
              "      <th>Title</th>\n",
              "      <th>Director</th>\n",
              "      <th>Cast</th>\n",
              "      <th>Country</th>\n",
              "      <th>Release_Date</th>\n",
              "      <th>Rating</th>\n",
              "      <th>Duration</th>\n",
              "      <th>Type</th>\n",
              "      <th>Description</th>\n",
              "    </tr>\n",
              "  </thead>\n",
              "  <tbody>\n",
              "    <tr>\n",
              "      <th>6300</th>\n",
              "      <td>s684</td>\n",
              "      <td>Movie</td>\n",
              "      <td>Backfire</td>\n",
              "      <td>Dave Patten</td>\n",
              "      <td>Black Deniro, Byron \"Squally\" Vinson, Dominic ...</td>\n",
              "      <td>United States</td>\n",
              "      <td>April 5, 2019</td>\n",
              "      <td>TV-MA</td>\n",
              "      <td>97 min</td>\n",
              "      <td>Dramas, Independent Movies, Thrillers</td>\n",
              "      <td>When two would-be robbers accidentally kill a ...</td>\n",
              "    </tr>\n",
              "    <tr>\n",
              "      <th>6622</th>\n",
              "      <td>s6621</td>\n",
              "      <td>Movie</td>\n",
              "      <td>The Lost Okoroshi</td>\n",
              "      <td>Abba T. Makama</td>\n",
              "      <td>Seun Ajayi, Judith Audu, Tope Tedela, Ifu Enna...</td>\n",
              "      <td>Nigeria</td>\n",
              "      <td>September 4, 2020</td>\n",
              "      <td>TV-MA</td>\n",
              "      <td>94 min</td>\n",
              "      <td>Comedies, Dramas, Independent Movies</td>\n",
              "      <td>A disillusioned security guard transforms into...</td>\n",
              "    </tr>\n",
              "  </tbody>\n",
              "</table>\n",
              "</div>"
            ],
            "text/plain": [
              "     Show_Id  ...                                        Description\n",
              "6300    s684  ...  When two would-be robbers accidentally kill a ...\n",
              "6622   s6621  ...  A disillusioned security guard transforms into...\n",
              "\n",
              "[2 rows x 11 columns]"
            ]
          },
          "metadata": {
            "tags": []
          },
          "execution_count": 15
        }
      ]
    },
    {
      "cell_type": "code",
      "metadata": {
        "id": "16NZHPm8vtgr"
      },
      "source": [
        "data.drop_duplicates(inplace=True)  #To remove duplicate values "
      ],
      "execution_count": null,
      "outputs": []
    },
    {
      "cell_type": "code",
      "metadata": {
        "colab": {
          "base_uri": "https://localhost:8080/",
          "height": 49
        },
        "id": "mA9W2xFIvyYU",
        "outputId": "e1af5db8-9458-46e4-eb41-5f03dcb045bc"
      },
      "source": [
        "data[data.duplicated()] #For verification "
      ],
      "execution_count": null,
      "outputs": [
        {
          "output_type": "execute_result",
          "data": {
            "text/html": [
              "<div>\n",
              "<style scoped>\n",
              "    .dataframe tbody tr th:only-of-type {\n",
              "        vertical-align: middle;\n",
              "    }\n",
              "\n",
              "    .dataframe tbody tr th {\n",
              "        vertical-align: top;\n",
              "    }\n",
              "\n",
              "    .dataframe thead th {\n",
              "        text-align: right;\n",
              "    }\n",
              "</style>\n",
              "<table border=\"1\" class=\"dataframe\">\n",
              "  <thead>\n",
              "    <tr style=\"text-align: right;\">\n",
              "      <th></th>\n",
              "      <th>Show_Id</th>\n",
              "      <th>Category</th>\n",
              "      <th>Title</th>\n",
              "      <th>Director</th>\n",
              "      <th>Cast</th>\n",
              "      <th>Country</th>\n",
              "      <th>Release_Date</th>\n",
              "      <th>Rating</th>\n",
              "      <th>Duration</th>\n",
              "      <th>Type</th>\n",
              "      <th>Description</th>\n",
              "    </tr>\n",
              "  </thead>\n",
              "  <tbody>\n",
              "  </tbody>\n",
              "</table>\n",
              "</div>"
            ],
            "text/plain": [
              "Empty DataFrame\n",
              "Columns: [Show_Id, Category, Title, Director, Cast, Country, Release_Date, Rating, Duration, Type, Description]\n",
              "Index: []"
            ]
          },
          "metadata": {
            "tags": []
          },
          "execution_count": 18
        }
      ]
    },
    {
      "cell_type": "code",
      "metadata": {
        "id": "HO5gmPjCv1k_"
      },
      "source": [
        "#To figure out the null values in this dataset. If yes, show with heat map"
      ],
      "execution_count": null,
      "outputs": []
    },
    {
      "cell_type": "code",
      "metadata": {
        "colab": {
          "base_uri": "https://localhost:8080/",
          "height": 419
        },
        "id": "dvuAW22Kv5MV",
        "outputId": "f47ce03f-67a1-49bc-dd4a-e6e8cca97908"
      },
      "source": [
        "data.isnull() #To show where the null value is "
      ],
      "execution_count": null,
      "outputs": [
        {
          "output_type": "execute_result",
          "data": {
            "text/html": [
              "<div>\n",
              "<style scoped>\n",
              "    .dataframe tbody tr th:only-of-type {\n",
              "        vertical-align: middle;\n",
              "    }\n",
              "\n",
              "    .dataframe tbody tr th {\n",
              "        vertical-align: top;\n",
              "    }\n",
              "\n",
              "    .dataframe thead th {\n",
              "        text-align: right;\n",
              "    }\n",
              "</style>\n",
              "<table border=\"1\" class=\"dataframe\">\n",
              "  <thead>\n",
              "    <tr style=\"text-align: right;\">\n",
              "      <th></th>\n",
              "      <th>Show_Id</th>\n",
              "      <th>Category</th>\n",
              "      <th>Title</th>\n",
              "      <th>Director</th>\n",
              "      <th>Cast</th>\n",
              "      <th>Country</th>\n",
              "      <th>Release_Date</th>\n",
              "      <th>Rating</th>\n",
              "      <th>Duration</th>\n",
              "      <th>Type</th>\n",
              "      <th>Description</th>\n",
              "    </tr>\n",
              "  </thead>\n",
              "  <tbody>\n",
              "    <tr>\n",
              "      <th>0</th>\n",
              "      <td>False</td>\n",
              "      <td>False</td>\n",
              "      <td>False</td>\n",
              "      <td>True</td>\n",
              "      <td>False</td>\n",
              "      <td>False</td>\n",
              "      <td>False</td>\n",
              "      <td>False</td>\n",
              "      <td>False</td>\n",
              "      <td>False</td>\n",
              "      <td>False</td>\n",
              "    </tr>\n",
              "    <tr>\n",
              "      <th>1</th>\n",
              "      <td>False</td>\n",
              "      <td>False</td>\n",
              "      <td>False</td>\n",
              "      <td>False</td>\n",
              "      <td>False</td>\n",
              "      <td>False</td>\n",
              "      <td>False</td>\n",
              "      <td>False</td>\n",
              "      <td>False</td>\n",
              "      <td>False</td>\n",
              "      <td>False</td>\n",
              "    </tr>\n",
              "    <tr>\n",
              "      <th>2</th>\n",
              "      <td>False</td>\n",
              "      <td>False</td>\n",
              "      <td>False</td>\n",
              "      <td>False</td>\n",
              "      <td>False</td>\n",
              "      <td>False</td>\n",
              "      <td>False</td>\n",
              "      <td>False</td>\n",
              "      <td>False</td>\n",
              "      <td>False</td>\n",
              "      <td>False</td>\n",
              "    </tr>\n",
              "    <tr>\n",
              "      <th>3</th>\n",
              "      <td>False</td>\n",
              "      <td>False</td>\n",
              "      <td>False</td>\n",
              "      <td>False</td>\n",
              "      <td>False</td>\n",
              "      <td>False</td>\n",
              "      <td>False</td>\n",
              "      <td>False</td>\n",
              "      <td>False</td>\n",
              "      <td>False</td>\n",
              "      <td>False</td>\n",
              "    </tr>\n",
              "    <tr>\n",
              "      <th>4</th>\n",
              "      <td>False</td>\n",
              "      <td>False</td>\n",
              "      <td>False</td>\n",
              "      <td>False</td>\n",
              "      <td>False</td>\n",
              "      <td>False</td>\n",
              "      <td>False</td>\n",
              "      <td>False</td>\n",
              "      <td>False</td>\n",
              "      <td>False</td>\n",
              "      <td>False</td>\n",
              "    </tr>\n",
              "    <tr>\n",
              "      <th>...</th>\n",
              "      <td>...</td>\n",
              "      <td>...</td>\n",
              "      <td>...</td>\n",
              "      <td>...</td>\n",
              "      <td>...</td>\n",
              "      <td>...</td>\n",
              "      <td>...</td>\n",
              "      <td>...</td>\n",
              "      <td>...</td>\n",
              "      <td>...</td>\n",
              "      <td>...</td>\n",
              "    </tr>\n",
              "    <tr>\n",
              "      <th>7784</th>\n",
              "      <td>False</td>\n",
              "      <td>False</td>\n",
              "      <td>False</td>\n",
              "      <td>False</td>\n",
              "      <td>False</td>\n",
              "      <td>False</td>\n",
              "      <td>False</td>\n",
              "      <td>False</td>\n",
              "      <td>False</td>\n",
              "      <td>False</td>\n",
              "      <td>False</td>\n",
              "    </tr>\n",
              "    <tr>\n",
              "      <th>7785</th>\n",
              "      <td>False</td>\n",
              "      <td>False</td>\n",
              "      <td>False</td>\n",
              "      <td>False</td>\n",
              "      <td>False</td>\n",
              "      <td>False</td>\n",
              "      <td>False</td>\n",
              "      <td>False</td>\n",
              "      <td>False</td>\n",
              "      <td>False</td>\n",
              "      <td>False</td>\n",
              "    </tr>\n",
              "    <tr>\n",
              "      <th>7786</th>\n",
              "      <td>False</td>\n",
              "      <td>False</td>\n",
              "      <td>False</td>\n",
              "      <td>True</td>\n",
              "      <td>False</td>\n",
              "      <td>True</td>\n",
              "      <td>False</td>\n",
              "      <td>False</td>\n",
              "      <td>False</td>\n",
              "      <td>False</td>\n",
              "      <td>False</td>\n",
              "    </tr>\n",
              "    <tr>\n",
              "      <th>7787</th>\n",
              "      <td>False</td>\n",
              "      <td>False</td>\n",
              "      <td>False</td>\n",
              "      <td>True</td>\n",
              "      <td>False</td>\n",
              "      <td>False</td>\n",
              "      <td>False</td>\n",
              "      <td>False</td>\n",
              "      <td>False</td>\n",
              "      <td>False</td>\n",
              "      <td>False</td>\n",
              "    </tr>\n",
              "    <tr>\n",
              "      <th>7788</th>\n",
              "      <td>False</td>\n",
              "      <td>False</td>\n",
              "      <td>False</td>\n",
              "      <td>False</td>\n",
              "      <td>True</td>\n",
              "      <td>False</td>\n",
              "      <td>False</td>\n",
              "      <td>False</td>\n",
              "      <td>False</td>\n",
              "      <td>False</td>\n",
              "      <td>False</td>\n",
              "    </tr>\n",
              "  </tbody>\n",
              "</table>\n",
              "<p>7787 rows × 11 columns</p>\n",
              "</div>"
            ],
            "text/plain": [
              "      Show_Id  Category  Title  Director  ...  Rating  Duration   Type  Description\n",
              "0       False     False  False      True  ...   False     False  False        False\n",
              "1       False     False  False     False  ...   False     False  False        False\n",
              "2       False     False  False     False  ...   False     False  False        False\n",
              "3       False     False  False     False  ...   False     False  False        False\n",
              "4       False     False  False     False  ...   False     False  False        False\n",
              "...       ...       ...    ...       ...  ...     ...       ...    ...          ...\n",
              "7784    False     False  False     False  ...   False     False  False        False\n",
              "7785    False     False  False     False  ...   False     False  False        False\n",
              "7786    False     False  False      True  ...   False     False  False        False\n",
              "7787    False     False  False      True  ...   False     False  False        False\n",
              "7788    False     False  False     False  ...   False     False  False        False\n",
              "\n",
              "[7787 rows x 11 columns]"
            ]
          },
          "metadata": {
            "tags": []
          },
          "execution_count": 20
        }
      ]
    },
    {
      "cell_type": "code",
      "metadata": {
        "colab": {
          "base_uri": "https://localhost:8080/"
        },
        "id": "9fBrf8E7v7mu",
        "outputId": "0d09a3e9-c733-46d3-f945-e7f8a0dc3428"
      },
      "source": [
        "data.isnull().sum() #To see the null values in each column "
      ],
      "execution_count": null,
      "outputs": [
        {
          "output_type": "execute_result",
          "data": {
            "text/plain": [
              "Show_Id            0\n",
              "Category           0\n",
              "Title              0\n",
              "Director        2388\n",
              "Cast             718\n",
              "Country          507\n",
              "Release_Date      10\n",
              "Rating             7\n",
              "Duration           0\n",
              "Type               0\n",
              "Description        0\n",
              "dtype: int64"
            ]
          },
          "metadata": {
            "tags": []
          },
          "execution_count": 21
        }
      ]
    },
    {
      "cell_type": "code",
      "metadata": {
        "colab": {
          "base_uri": "https://localhost:8080/",
          "height": 344
        },
        "id": "7kNLCkBYv-3g",
        "outputId": "a58648e3-00db-4042-e88d-e732d103f90c"
      },
      "source": [
        "sns.heatmap(data.isnull()) #Graphical representation of the null values using heatmap (white for null values and black for no null values)"
      ],
      "execution_count": null,
      "outputs": [
        {
          "output_type": "execute_result",
          "data": {
            "text/plain": [
              "<matplotlib.axes._subplots.AxesSubplot at 0x7f1619fbc550>"
            ]
          },
          "metadata": {
            "tags": []
          },
          "execution_count": 23
        },
        {
          "output_type": "display_data",
          "data": {
            "image/png": "[encoded data removed]",
            "text/plain": [
              "<Figure size 432x288 with 2 Axes>"
            ]
          },
          "metadata": {
            "tags": [],
            "needs_background": "light"
          }
        }
      ]
    },
    {
      "cell_type": "code",
      "metadata": {
        "id": "ShkBglvwwJY0"
      },
      "source": [
        "#To show the director and show id of \"House of Cards\" (Searching a particular record)"
      ],
      "execution_count": null,
      "outputs": []
    },
    {
      "cell_type": "code",
      "metadata": {
        "colab": {
          "base_uri": "https://localhost:8080/",
          "height": 289
        },
        "id": "l5JkWSelwMR9",
        "outputId": "8edf3d6e-e6e2-40e0-bb8d-52f2f7ae4b9a"
      },
      "source": [
        "data.head() #Viewing data for Reference"
      ],
      "execution_count": null,
      "outputs": [
        {
          "output_type": "execute_result",
          "data": {
            "text/html": [
              "<div>\n",
              "<style scoped>\n",
              "    .dataframe tbody tr th:only-of-type {\n",
              "        vertical-align: middle;\n",
              "    }\n",
              "\n",
              "    .dataframe tbody tr th {\n",
              "        vertical-align: top;\n",
              "    }\n",
              "\n",
              "    .dataframe thead th {\n",
              "        text-align: right;\n",
              "    }\n",
              "</style>\n",
              "<table border=\"1\" class=\"dataframe\">\n",
              "  <thead>\n",
              "    <tr style=\"text-align: right;\">\n",
              "      <th></th>\n",
              "      <th>Show_Id</th>\n",
              "      <th>Category</th>\n",
              "      <th>Title</th>\n",
              "      <th>Director</th>\n",
              "      <th>Cast</th>\n",
              "      <th>Country</th>\n",
              "      <th>Release_Date</th>\n",
              "      <th>Rating</th>\n",
              "      <th>Duration</th>\n",
              "      <th>Type</th>\n",
              "      <th>Description</th>\n",
              "    </tr>\n",
              "  </thead>\n",
              "  <tbody>\n",
              "    <tr>\n",
              "      <th>0</th>\n",
              "      <td>s1</td>\n",
              "      <td>TV Show</td>\n",
              "      <td>3%</td>\n",
              "      <td>NaN</td>\n",
              "      <td>João Miguel, Bianca Comparato, Michel Gomes, R...</td>\n",
              "      <td>Brazil</td>\n",
              "      <td>August 14, 2020</td>\n",
              "      <td>TV-MA</td>\n",
              "      <td>4 Seasons</td>\n",
              "      <td>International TV Shows, TV Dramas, TV Sci-Fi &amp;...</td>\n",
              "      <td>In a future where the elite inhabit an island ...</td>\n",
              "    </tr>\n",
              "    <tr>\n",
              "      <th>1</th>\n",
              "      <td>s2</td>\n",
              "      <td>Movie</td>\n",
              "      <td>07:19</td>\n",
              "      <td>Jorge Michel Grau</td>\n",
              "      <td>Demián Bichir, Héctor Bonilla, Oscar Serrano, ...</td>\n",
              "      <td>Mexico</td>\n",
              "      <td>December 23, 2016</td>\n",
              "      <td>TV-MA</td>\n",
              "      <td>93 min</td>\n",
              "      <td>Dramas, International Movies</td>\n",
              "      <td>After a devastating earthquake hits Mexico Cit...</td>\n",
              "    </tr>\n",
              "    <tr>\n",
              "      <th>2</th>\n",
              "      <td>s3</td>\n",
              "      <td>Movie</td>\n",
              "      <td>23:59</td>\n",
              "      <td>Gilbert Chan</td>\n",
              "      <td>Tedd Chan, Stella Chung, Henley Hii, Lawrence ...</td>\n",
              "      <td>Singapore</td>\n",
              "      <td>December 20, 2018</td>\n",
              "      <td>R</td>\n",
              "      <td>78 min</td>\n",
              "      <td>Horror Movies, International Movies</td>\n",
              "      <td>When an army recruit is found dead, his fellow...</td>\n",
              "    </tr>\n",
              "    <tr>\n",
              "      <th>3</th>\n",
              "      <td>s4</td>\n",
              "      <td>Movie</td>\n",
              "      <td>9</td>\n",
              "      <td>Shane Acker</td>\n",
              "      <td>Elijah Wood, John C. Reilly, Jennifer Connelly...</td>\n",
              "      <td>United States</td>\n",
              "      <td>November 16, 2017</td>\n",
              "      <td>PG-13</td>\n",
              "      <td>80 min</td>\n",
              "      <td>Action &amp; Adventure, Independent Movies, Sci-Fi...</td>\n",
              "      <td>In a postapocalyptic world, rag-doll robots hi...</td>\n",
              "    </tr>\n",
              "    <tr>\n",
              "      <th>4</th>\n",
              "      <td>s5</td>\n",
              "      <td>Movie</td>\n",
              "      <td>21</td>\n",
              "      <td>Robert Luketic</td>\n",
              "      <td>Jim Sturgess, Kevin Spacey, Kate Bosworth, Aar...</td>\n",
              "      <td>United States</td>\n",
              "      <td>January 1, 2020</td>\n",
              "      <td>PG-13</td>\n",
              "      <td>123 min</td>\n",
              "      <td>Dramas</td>\n",
              "      <td>A brilliant group of students become card-coun...</td>\n",
              "    </tr>\n",
              "  </tbody>\n",
              "</table>\n",
              "</div>"
            ],
            "text/plain": [
              "  Show_Id  ...                                        Description\n",
              "0      s1  ...  In a future where the elite inhabit an island ...\n",
              "1      s2  ...  After a devastating earthquake hits Mexico Cit...\n",
              "2      s3  ...  When an army recruit is found dead, his fellow...\n",
              "3      s4  ...  In a postapocalyptic world, rag-doll robots hi...\n",
              "4      s5  ...  A brilliant group of students become card-coun...\n",
              "\n",
              "[5 rows x 11 columns]"
            ]
          },
          "metadata": {
            "tags": []
          },
          "execution_count": 25
        }
      ]
    },
    {
      "cell_type": "code",
      "metadata": {
        "colab": {
          "base_uri": "https://localhost:8080/",
          "height": 97
        },
        "id": "Ke1PMTCqwPbf",
        "outputId": "303a111f-1e58-49b1-8e3f-e404fd306a1c"
      },
      "source": [
        "data[data['Title'].isin(['House of Cards'])] #Showing records of an item in column (Method 1)"
      ],
      "execution_count": null,
      "outputs": [
        {
          "output_type": "execute_result",
          "data": {
            "text/html": [
              "<div>\n",
              "<style scoped>\n",
              "    .dataframe tbody tr th:only-of-type {\n",
              "        vertical-align: middle;\n",
              "    }\n",
              "\n",
              "    .dataframe tbody tr th {\n",
              "        vertical-align: top;\n",
              "    }\n",
              "\n",
              "    .dataframe thead th {\n",
              "        text-align: right;\n",
              "    }\n",
              "</style>\n",
              "<table border=\"1\" class=\"dataframe\">\n",
              "  <thead>\n",
              "    <tr style=\"text-align: right;\">\n",
              "      <th></th>\n",
              "      <th>Show_Id</th>\n",
              "      <th>Category</th>\n",
              "      <th>Title</th>\n",
              "      <th>Director</th>\n",
              "      <th>Cast</th>\n",
              "      <th>Country</th>\n",
              "      <th>Release_Date</th>\n",
              "      <th>Rating</th>\n",
              "      <th>Duration</th>\n",
              "      <th>Type</th>\n",
              "      <th>Description</th>\n",
              "    </tr>\n",
              "  </thead>\n",
              "  <tbody>\n",
              "    <tr>\n",
              "      <th>2832</th>\n",
              "      <td>s2833</td>\n",
              "      <td>TV Show</td>\n",
              "      <td>House of Cards</td>\n",
              "      <td>Robin Wright, David Fincher, Gerald McRaney, J...</td>\n",
              "      <td>Kevin Spacey, Robin Wright, Kate Mara, Corey S...</td>\n",
              "      <td>United States</td>\n",
              "      <td>November 2, 2018</td>\n",
              "      <td>TV-MA</td>\n",
              "      <td>6 Seasons</td>\n",
              "      <td>TV Dramas, TV Thrillers</td>\n",
              "      <td>A ruthless politician will stop at nothing to ...</td>\n",
              "    </tr>\n",
              "  </tbody>\n",
              "</table>\n",
              "</div>"
            ],
            "text/plain": [
              "     Show_Id  ...                                        Description\n",
              "2832   s2833  ...  A ruthless politician will stop at nothing to ...\n",
              "\n",
              "[1 rows x 11 columns]"
            ]
          },
          "metadata": {
            "tags": []
          },
          "execution_count": 26
        }
      ]
    },
    {
      "cell_type": "code",
      "metadata": {
        "colab": {
          "base_uri": "https://localhost:8080/",
          "height": 97
        },
        "id": "O-rnWc-VwSdn",
        "outputId": "e680c1ae-86b7-498d-f17c-64e316f3b652"
      },
      "source": [
        "data[data['Title'].str.contains('House of Cards')] #Showing record of a string in a column (Method 2)"
      ],
      "execution_count": null,
      "outputs": [
        {
          "output_type": "execute_result",
          "data": {
            "text/html": [
              "<div>\n",
              "<style scoped>\n",
              "    .dataframe tbody tr th:only-of-type {\n",
              "        vertical-align: middle;\n",
              "    }\n",
              "\n",
              "    .dataframe tbody tr th {\n",
              "        vertical-align: top;\n",
              "    }\n",
              "\n",
              "    .dataframe thead th {\n",
              "        text-align: right;\n",
              "    }\n",
              "</style>\n",
              "<table border=\"1\" class=\"dataframe\">\n",
              "  <thead>\n",
              "    <tr style=\"text-align: right;\">\n",
              "      <th></th>\n",
              "      <th>Show_Id</th>\n",
              "      <th>Category</th>\n",
              "      <th>Title</th>\n",
              "      <th>Director</th>\n",
              "      <th>Cast</th>\n",
              "      <th>Country</th>\n",
              "      <th>Release_Date</th>\n",
              "      <th>Rating</th>\n",
              "      <th>Duration</th>\n",
              "      <th>Type</th>\n",
              "      <th>Description</th>\n",
              "    </tr>\n",
              "  </thead>\n",
              "  <tbody>\n",
              "    <tr>\n",
              "      <th>2832</th>\n",
              "      <td>s2833</td>\n",
              "      <td>TV Show</td>\n",
              "      <td>House of Cards</td>\n",
              "      <td>Robin Wright, David Fincher, Gerald McRaney, J...</td>\n",
              "      <td>Kevin Spacey, Robin Wright, Kate Mara, Corey S...</td>\n",
              "      <td>United States</td>\n",
              "      <td>November 2, 2018</td>\n",
              "      <td>TV-MA</td>\n",
              "      <td>6 Seasons</td>\n",
              "      <td>TV Dramas, TV Thrillers</td>\n",
              "      <td>A ruthless politician will stop at nothing to ...</td>\n",
              "    </tr>\n",
              "  </tbody>\n",
              "</table>\n",
              "</div>"
            ],
            "text/plain": [
              "     Show_Id  ...                                        Description\n",
              "2832   s2833  ...  A ruthless politician will stop at nothing to ...\n",
              "\n",
              "[1 rows x 11 columns]"
            ]
          },
          "metadata": {
            "tags": []
          },
          "execution_count": 27
        }
      ]
    },
    {
      "cell_type": "code",
      "metadata": {
        "id": "T4rf2Y2mwVKB"
      },
      "source": [
        "#Highest number of TV Shows and Movies released (By year) by Bar Graph "
      ],
      "execution_count": null,
      "outputs": []
    },
    {
      "cell_type": "code",
      "metadata": {
        "id": "0Xm2xqMHwX1o"
      },
      "source": [
        "data['Date'] = pd.to_datetime(data['Release_Date']) #Creating new column "
      ],
      "execution_count": null,
      "outputs": []
    },
    {
      "cell_type": "code",
      "metadata": {
        "colab": {
          "base_uri": "https://localhost:8080/",
          "height": 289
        },
        "id": "LcxrKDRtwbud",
        "outputId": "42b5864f-4a0b-4a1f-8a12-6d9838eb0297"
      },
      "source": [
        "data.head() #Update - Release_date became Date"
      ],
      "execution_count": null,
      "outputs": [
        {
          "output_type": "execute_result",
          "data": {
            "text/html": [
              "<div>\n",
              "<style scoped>\n",
              "    .dataframe tbody tr th:only-of-type {\n",
              "        vertical-align: middle;\n",
              "    }\n",
              "\n",
              "    .dataframe tbody tr th {\n",
              "        vertical-align: top;\n",
              "    }\n",
              "\n",
              "    .dataframe thead th {\n",
              "        text-align: right;\n",
              "    }\n",
              "</style>\n",
              "<table border=\"1\" class=\"dataframe\">\n",
              "  <thead>\n",
              "    <tr style=\"text-align: right;\">\n",
              "      <th></th>\n",
              "      <th>Show_Id</th>\n",
              "      <th>Category</th>\n",
              "      <th>Title</th>\n",
              "      <th>Director</th>\n",
              "      <th>Cast</th>\n",
              "      <th>Country</th>\n",
              "      <th>Release_Date</th>\n",
              "      <th>Rating</th>\n",
              "      <th>Duration</th>\n",
              "      <th>Type</th>\n",
              "      <th>Description</th>\n",
              "      <th>Date</th>\n",
              "    </tr>\n",
              "  </thead>\n",
              "  <tbody>\n",
              "    <tr>\n",
              "      <th>0</th>\n",
              "      <td>s1</td>\n",
              "      <td>TV Show</td>\n",
              "      <td>3%</td>\n",
              "      <td>NaN</td>\n",
              "      <td>João Miguel, Bianca Comparato, Michel Gomes, R...</td>\n",
              "      <td>Brazil</td>\n",
              "      <td>August 14, 2020</td>\n",
              "      <td>TV-MA</td>\n",
              "      <td>4 Seasons</td>\n",
              "      <td>International TV Shows, TV Dramas, TV Sci-Fi &amp;...</td>\n",
              "      <td>In a future where the elite inhabit an island ...</td>\n",
              "      <td>2020-08-14</td>\n",
              "    </tr>\n",
              "    <tr>\n",
              "      <th>1</th>\n",
              "      <td>s2</td>\n",
              "      <td>Movie</td>\n",
              "      <td>07:19</td>\n",
              "      <td>Jorge Michel Grau</td>\n",
              "      <td>Demián Bichir, Héctor Bonilla, Oscar Serrano, ...</td>\n",
              "      <td>Mexico</td>\n",
              "      <td>December 23, 2016</td>\n",
              "      <td>TV-MA</td>\n",
              "      <td>93 min</td>\n",
              "      <td>Dramas, International Movies</td>\n",
              "      <td>After a devastating earthquake hits Mexico Cit...</td>\n",
              "      <td>2016-12-23</td>\n",
              "    </tr>\n",
              "    <tr>\n",
              "      <th>2</th>\n",
              "      <td>s3</td>\n",
              "      <td>Movie</td>\n",
              "      <td>23:59</td>\n",
              "      <td>Gilbert Chan</td>\n",
              "      <td>Tedd Chan, Stella Chung, Henley Hii, Lawrence ...</td>\n",
              "      <td>Singapore</td>\n",
              "      <td>December 20, 2018</td>\n",
              "      <td>R</td>\n",
              "      <td>78 min</td>\n",
              "      <td>Horror Movies, International Movies</td>\n",
              "      <td>When an army recruit is found dead, his fellow...</td>\n",
              "      <td>2018-12-20</td>\n",
              "    </tr>\n",
              "    <tr>\n",
              "      <th>3</th>\n",
              "      <td>s4</td>\n",
              "      <td>Movie</td>\n",
              "      <td>9</td>\n",
              "      <td>Shane Acker</td>\n",
              "      <td>Elijah Wood, John C. Reilly, Jennifer Connelly...</td>\n",
              "      <td>United States</td>\n",
              "      <td>November 16, 2017</td>\n",
              "      <td>PG-13</td>\n",
              "      <td>80 min</td>\n",
              "      <td>Action &amp; Adventure, Independent Movies, Sci-Fi...</td>\n",
              "      <td>In a postapocalyptic world, rag-doll robots hi...</td>\n",
              "      <td>2017-11-16</td>\n",
              "    </tr>\n",
              "    <tr>\n",
              "      <th>4</th>\n",
              "      <td>s5</td>\n",
              "      <td>Movie</td>\n",
              "      <td>21</td>\n",
              "      <td>Robert Luketic</td>\n",
              "      <td>Jim Sturgess, Kevin Spacey, Kate Bosworth, Aar...</td>\n",
              "      <td>United States</td>\n",
              "      <td>January 1, 2020</td>\n",
              "      <td>PG-13</td>\n",
              "      <td>123 min</td>\n",
              "      <td>Dramas</td>\n",
              "      <td>A brilliant group of students become card-coun...</td>\n",
              "      <td>2020-01-01</td>\n",
              "    </tr>\n",
              "  </tbody>\n",
              "</table>\n",
              "</div>"
            ],
            "text/plain": [
              "  Show_Id  ...       Date\n",
              "0      s1  ... 2020-08-14\n",
              "1      s2  ... 2016-12-23\n",
              "2      s3  ... 2018-12-20\n",
              "3      s4  ... 2017-11-16\n",
              "4      s5  ... 2020-01-01\n",
              "\n",
              "[5 rows x 12 columns]"
            ]
          },
          "metadata": {
            "tags": []
          },
          "execution_count": 31
        }
      ]
    },
    {
      "cell_type": "code",
      "metadata": {
        "colab": {
          "base_uri": "https://localhost:8080/"
        },
        "id": "3ZO6005Vwd_i",
        "outputId": "9af21b0d-71a9-4d44-81d6-3279c91415eb"
      },
      "source": [
        "data.dtypes #Checking the data type"
      ],
      "execution_count": null,
      "outputs": [
        {
          "output_type": "execute_result",
          "data": {
            "text/plain": [
              "Show_Id                 object\n",
              "Category                object\n",
              "Title                   object\n",
              "Director                object\n",
              "Cast                    object\n",
              "Country                 object\n",
              "Release_Date            object\n",
              "Rating                  object\n",
              "Duration                object\n",
              "Type                    object\n",
              "Description             object\n",
              "Date            datetime64[ns]\n",
              "dtype: object"
            ]
          },
          "metadata": {
            "tags": []
          },
          "execution_count": 33
        }
      ]
    },
    {
      "cell_type": "code",
      "metadata": {
        "colab": {
          "base_uri": "https://localhost:8080/"
        },
        "id": "Qij3VJkwwhk2",
        "outputId": "69627ee2-ea09-4800-f71b-516bd31d030f"
      },
      "source": [
        "data['Date'].dt.year.value_counts() #Counts occurance of Years in Date column"
      ],
      "execution_count": null,
      "outputs": [
        {
          "output_type": "execute_result",
          "data": {
            "text/plain": [
              "2019.0    2153\n",
              "2020.0    2009\n",
              "2018.0    1685\n",
              "2017.0    1225\n",
              "2016.0     443\n",
              "2021.0     117\n",
              "2015.0      88\n",
              "2014.0      25\n",
              "2011.0      13\n",
              "2013.0      11\n",
              "2012.0       3\n",
              "2009.0       2\n",
              "2008.0       2\n",
              "2010.0       1\n",
              "Name: Date, dtype: int64"
            ]
          },
          "metadata": {
            "tags": []
          },
          "execution_count": 34
        }
      ]
    },
    {
      "cell_type": "code",
      "metadata": {
        "colab": {
          "base_uri": "https://localhost:8080/",
          "height": 307
        },
        "id": "FX3Pj__kwj7z",
        "outputId": "2e74911f-83eb-46cd-9ca2-bd5b596739b0"
      },
      "source": [
        "data['Date'].dt.year.value_counts().plot(kind='bar') #Counts occurance of Years in Date column through bar graph"
      ],
      "execution_count": null,
      "outputs": [
        {
          "output_type": "execute_result",
          "data": {
            "text/plain": [
              "<matplotlib.axes._subplots.AxesSubplot at 0x7f161123a890>"
            ]
          },
          "metadata": {
            "tags": []
          },
          "execution_count": 35
        },
        {
          "output_type": "display_data",
          "data": {
            "image/png": "[encoded data removed]",
            "text/plain": [
              "<Figure size 432x288 with 1 Axes>"
            ]
          },
          "metadata": {
            "tags": [],
            "needs_background": "light"
          }
        }
      ]
    },
    {
      "cell_type": "code",
      "metadata": {
        "id": "wTgt7cHSwnJ0"
      },
      "source": [
        "#To check the number of TV Shows and Movies in this dataset "
      ],
      "execution_count": null,
      "outputs": []
    },
    {
      "cell_type": "code",
      "metadata": {
        "colab": {
          "base_uri": "https://localhost:8080/",
          "height": 289
        },
        "id": "GRAbOYw1wqTR",
        "outputId": "93060d26-ff70-47fd-8fbf-ca316465a3c2"
      },
      "source": [
        "data.head() #Viewing records"
      ],
      "execution_count": null,
      "outputs": [
        {
          "output_type": "execute_result",
          "data": {
            "text/html": [
              "<div>\n",
              "<style scoped>\n",
              "    .dataframe tbody tr th:only-of-type {\n",
              "        vertical-align: middle;\n",
              "    }\n",
              "\n",
              "    .dataframe tbody tr th {\n",
              "        vertical-align: top;\n",
              "    }\n",
              "\n",
              "    .dataframe thead th {\n",
              "        text-align: right;\n",
              "    }\n",
              "</style>\n",
              "<table border=\"1\" class=\"dataframe\">\n",
              "  <thead>\n",
              "    <tr style=\"text-align: right;\">\n",
              "      <th></th>\n",
              "      <th>Show_Id</th>\n",
              "      <th>Category</th>\n",
              "      <th>Title</th>\n",
              "      <th>Director</th>\n",
              "      <th>Cast</th>\n",
              "      <th>Country</th>\n",
              "      <th>Release_Date</th>\n",
              "      <th>Rating</th>\n",
              "      <th>Duration</th>\n",
              "      <th>Type</th>\n",
              "      <th>Description</th>\n",
              "      <th>Date</th>\n",
              "    </tr>\n",
              "  </thead>\n",
              "  <tbody>\n",
              "    <tr>\n",
              "      <th>0</th>\n",
              "      <td>s1</td>\n",
              "      <td>TV Show</td>\n",
              "      <td>3%</td>\n",
              "      <td>NaN</td>\n",
              "      <td>João Miguel, Bianca Comparato, Michel Gomes, R...</td>\n",
              "      <td>Brazil</td>\n",
              "      <td>August 14, 2020</td>\n",
              "      <td>TV-MA</td>\n",
              "      <td>4 Seasons</td>\n",
              "      <td>International TV Shows, TV Dramas, TV Sci-Fi &amp;...</td>\n",
              "      <td>In a future where the elite inhabit an island ...</td>\n",
              "      <td>2020-08-14</td>\n",
              "    </tr>\n",
              "    <tr>\n",
              "      <th>1</th>\n",
              "      <td>s2</td>\n",
              "      <td>Movie</td>\n",
              "      <td>07:19</td>\n",
              "      <td>Jorge Michel Grau</td>\n",
              "      <td>Demián Bichir, Héctor Bonilla, Oscar Serrano, ...</td>\n",
              "      <td>Mexico</td>\n",
              "      <td>December 23, 2016</td>\n",
              "      <td>TV-MA</td>\n",
              "      <td>93 min</td>\n",
              "      <td>Dramas, International Movies</td>\n",
              "      <td>After a devastating earthquake hits Mexico Cit...</td>\n",
              "      <td>2016-12-23</td>\n",
              "    </tr>\n",
              "    <tr>\n",
              "      <th>2</th>\n",
              "      <td>s3</td>\n",
              "      <td>Movie</td>\n",
              "      <td>23:59</td>\n",
              "      <td>Gilbert Chan</td>\n",
              "      <td>Tedd Chan, Stella Chung, Henley Hii, Lawrence ...</td>\n",
              "      <td>Singapore</td>\n",
              "      <td>December 20, 2018</td>\n",
              "      <td>R</td>\n",
              "      <td>78 min</td>\n",
              "      <td>Horror Movies, International Movies</td>\n",
              "      <td>When an army recruit is found dead, his fellow...</td>\n",
              "      <td>2018-12-20</td>\n",
              "    </tr>\n",
              "    <tr>\n",
              "      <th>3</th>\n",
              "      <td>s4</td>\n",
              "      <td>Movie</td>\n",
              "      <td>9</td>\n",
              "      <td>Shane Acker</td>\n",
              "      <td>Elijah Wood, John C. Reilly, Jennifer Connelly...</td>\n",
              "      <td>United States</td>\n",
              "      <td>November 16, 2017</td>\n",
              "      <td>PG-13</td>\n",
              "      <td>80 min</td>\n",
              "      <td>Action &amp; Adventure, Independent Movies, Sci-Fi...</td>\n",
              "      <td>In a postapocalyptic world, rag-doll robots hi...</td>\n",
              "      <td>2017-11-16</td>\n",
              "    </tr>\n",
              "    <tr>\n",
              "      <th>4</th>\n",
              "      <td>s5</td>\n",
              "      <td>Movie</td>\n",
              "      <td>21</td>\n",
              "      <td>Robert Luketic</td>\n",
              "      <td>Jim Sturgess, Kevin Spacey, Kate Bosworth, Aar...</td>\n",
              "      <td>United States</td>\n",
              "      <td>January 1, 2020</td>\n",
              "      <td>PG-13</td>\n",
              "      <td>123 min</td>\n",
              "      <td>Dramas</td>\n",
              "      <td>A brilliant group of students become card-coun...</td>\n",
              "      <td>2020-01-01</td>\n",
              "    </tr>\n",
              "  </tbody>\n",
              "</table>\n",
              "</div>"
            ],
            "text/plain": [
              "  Show_Id  ...       Date\n",
              "0      s1  ... 2020-08-14\n",
              "1      s2  ... 2016-12-23\n",
              "2      s3  ... 2018-12-20\n",
              "3      s4  ... 2017-11-16\n",
              "4      s5  ... 2020-01-01\n",
              "\n",
              "[5 rows x 12 columns]"
            ]
          },
          "metadata": {
            "tags": []
          },
          "execution_count": 37
        }
      ]
    },
    {
      "cell_type": "code",
      "metadata": {
        "colab": {
          "base_uri": "https://localhost:8080/"
        },
        "id": "uT-lyt__ws2N",
        "outputId": "8ca5aac0-59e2-4c5e-9ba6-6e786b0072b0"
      },
      "source": [
        "data.groupby('Category').Category.count()   #To group all unique items and show their count "
      ],
      "execution_count": null,
      "outputs": [
        {
          "output_type": "execute_result",
          "data": {
            "text/plain": [
              "Category\n",
              "Movie      5377\n",
              "TV Show    2410\n",
              "Name: Category, dtype: int64"
            ]
          },
          "metadata": {
            "tags": []
          },
          "execution_count": 38
        }
      ]
    },
    {
      "cell_type": "code",
      "metadata": {
        "colab": {
          "base_uri": "https://localhost:8080/",
          "height": 350
        },
        "id": "bZCN-tbrwwW8",
        "outputId": "313c4bca-adfd-4ecf-f749-3c4ff0134d5e"
      },
      "source": [
        "sns.countplot(data['Category']) #Chart representation"
      ],
      "execution_count": null,
      "outputs": [
        {
          "output_type": "stream",
          "text": [
            "/usr/local/lib/python3.7/dist-packages/seaborn/_decorators.py:43: FutureWarning: Pass the following variable as a keyword arg: x. From version 0.12, the only valid positional argument will be `data`, and passing other arguments without an explicit keyword will result in an error or misinterpretation.\n",
            "  FutureWarning\n"
          ],
          "name": "stderr"
        },
        {
          "output_type": "execute_result",
          "data": {
            "text/plain": [
              "<matplotlib.axes._subplots.AxesSubplot at 0x7f160c8dfa50>"
            ]
          },
          "metadata": {
            "tags": []
          },
          "execution_count": 41
        },
        {
          "output_type": "display_data",
          "data": {
            "image/png": "[encoded data removed]",
            "text/plain": [
              "<Figure size 432x288 with 1 Axes>"
            ]
          },
          "metadata": {
            "tags": [],
            "needs_background": "light"
          }
        }
      ]
    },
    {
      "cell_type": "code",
      "metadata": {
        "id": "N_uyiTYRwy9n"
      },
      "source": [
        "#To display TV Shows that are releasing in India "
      ],
      "execution_count": null,
      "outputs": []
    },
    {
      "cell_type": "code",
      "metadata": {
        "colab": {
          "base_uri": "https://localhost:8080/",
          "height": 289
        },
        "id": "keQ7Wsb7yBhp",
        "outputId": "17ff0fb4-ffa7-44ff-de1e-cdf8ea1b917a"
      },
      "source": [
        "data.head() #Displaying data "
      ],
      "execution_count": null,
      "outputs": [
        {
          "output_type": "execute_result",
          "data": {
            "text/html": [
              "<div>\n",
              "<style scoped>\n",
              "    .dataframe tbody tr th:only-of-type {\n",
              "        vertical-align: middle;\n",
              "    }\n",
              "\n",
              "    .dataframe tbody tr th {\n",
              "        vertical-align: top;\n",
              "    }\n",
              "\n",
              "    .dataframe thead th {\n",
              "        text-align: right;\n",
              "    }\n",
              "</style>\n",
              "<table border=\"1\" class=\"dataframe\">\n",
              "  <thead>\n",
              "    <tr style=\"text-align: right;\">\n",
              "      <th></th>\n",
              "      <th>Show_Id</th>\n",
              "      <th>Category</th>\n",
              "      <th>Title</th>\n",
              "      <th>Director</th>\n",
              "      <th>Cast</th>\n",
              "      <th>Country</th>\n",
              "      <th>Release_Date</th>\n",
              "      <th>Rating</th>\n",
              "      <th>Duration</th>\n",
              "      <th>Type</th>\n",
              "      <th>Description</th>\n",
              "      <th>Date</th>\n",
              "    </tr>\n",
              "  </thead>\n",
              "  <tbody>\n",
              "    <tr>\n",
              "      <th>0</th>\n",
              "      <td>s1</td>\n",
              "      <td>TV Show</td>\n",
              "      <td>3%</td>\n",
              "      <td>NaN</td>\n",
              "      <td>João Miguel, Bianca Comparato, Michel Gomes, R...</td>\n",
              "      <td>Brazil</td>\n",
              "      <td>August 14, 2020</td>\n",
              "      <td>TV-MA</td>\n",
              "      <td>4 Seasons</td>\n",
              "      <td>International TV Shows, TV Dramas, TV Sci-Fi &amp;...</td>\n",
              "      <td>In a future where the elite inhabit an island ...</td>\n",
              "      <td>2020-08-14</td>\n",
              "    </tr>\n",
              "    <tr>\n",
              "      <th>1</th>\n",
              "      <td>s2</td>\n",
              "      <td>Movie</td>\n",
              "      <td>07:19</td>\n",
              "      <td>Jorge Michel Grau</td>\n",
              "      <td>Demián Bichir, Héctor Bonilla, Oscar Serrano, ...</td>\n",
              "      <td>Mexico</td>\n",
              "      <td>December 23, 2016</td>\n",
              "      <td>TV-MA</td>\n",
              "      <td>93 min</td>\n",
              "      <td>Dramas, International Movies</td>\n",
              "      <td>After a devastating earthquake hits Mexico Cit...</td>\n",
              "      <td>2016-12-23</td>\n",
              "    </tr>\n",
              "    <tr>\n",
              "      <th>2</th>\n",
              "      <td>s3</td>\n",
              "      <td>Movie</td>\n",
              "      <td>23:59</td>\n",
              "      <td>Gilbert Chan</td>\n",
              "      <td>Tedd Chan, Stella Chung, Henley Hii, Lawrence ...</td>\n",
              "      <td>Singapore</td>\n",
              "      <td>December 20, 2018</td>\n",
              "      <td>R</td>\n",
              "      <td>78 min</td>\n",
              "      <td>Horror Movies, International Movies</td>\n",
              "      <td>When an army recruit is found dead, his fellow...</td>\n",
              "      <td>2018-12-20</td>\n",
              "    </tr>\n",
              "    <tr>\n",
              "      <th>3</th>\n",
              "      <td>s4</td>\n",
              "      <td>Movie</td>\n",
              "      <td>9</td>\n",
              "      <td>Shane Acker</td>\n",
              "      <td>Elijah Wood, John C. Reilly, Jennifer Connelly...</td>\n",
              "      <td>United States</td>\n",
              "      <td>November 16, 2017</td>\n",
              "      <td>PG-13</td>\n",
              "      <td>80 min</td>\n",
              "      <td>Action &amp; Adventure, Independent Movies, Sci-Fi...</td>\n",
              "      <td>In a postapocalyptic world, rag-doll robots hi...</td>\n",
              "      <td>2017-11-16</td>\n",
              "    </tr>\n",
              "    <tr>\n",
              "      <th>4</th>\n",
              "      <td>s5</td>\n",
              "      <td>Movie</td>\n",
              "      <td>21</td>\n",
              "      <td>Robert Luketic</td>\n",
              "      <td>Jim Sturgess, Kevin Spacey, Kate Bosworth, Aar...</td>\n",
              "      <td>United States</td>\n",
              "      <td>January 1, 2020</td>\n",
              "      <td>PG-13</td>\n",
              "      <td>123 min</td>\n",
              "      <td>Dramas</td>\n",
              "      <td>A brilliant group of students become card-coun...</td>\n",
              "      <td>2020-01-01</td>\n",
              "    </tr>\n",
              "  </tbody>\n",
              "</table>\n",
              "</div>"
            ],
            "text/plain": [
              "  Show_Id  ...       Date\n",
              "0      s1  ... 2020-08-14\n",
              "1      s2  ... 2016-12-23\n",
              "2      s3  ... 2018-12-20\n",
              "3      s4  ... 2017-11-16\n",
              "4      s5  ... 2020-01-01\n",
              "\n",
              "[5 rows x 12 columns]"
            ]
          },
          "metadata": {
            "tags": []
          },
          "execution_count": 43
        }
      ]
    },
    {
      "cell_type": "code",
      "metadata": {
        "colab": {
          "base_uri": "https://localhost:8080/",
          "height": 589
        },
        "id": "17xjqa8YyEu8",
        "outputId": "336038f8-0082-4dc8-e6aa-8e72022f3ccf"
      },
      "source": [
        "data [(data['Category']=='TV Show') & (data['Country']=='India')] #Selects TV Shows "
      ],
      "execution_count": null,
      "outputs": [
        {
          "output_type": "execute_result",
          "data": {
            "text/html": [
              "<div>\n",
              "<style scoped>\n",
              "    .dataframe tbody tr th:only-of-type {\n",
              "        vertical-align: middle;\n",
              "    }\n",
              "\n",
              "    .dataframe tbody tr th {\n",
              "        vertical-align: top;\n",
              "    }\n",
              "\n",
              "    .dataframe thead th {\n",
              "        text-align: right;\n",
              "    }\n",
              "</style>\n",
              "<table border=\"1\" class=\"dataframe\">\n",
              "  <thead>\n",
              "    <tr style=\"text-align: right;\">\n",
              "      <th></th>\n",
              "      <th>Show_Id</th>\n",
              "      <th>Category</th>\n",
              "      <th>Title</th>\n",
              "      <th>Director</th>\n",
              "      <th>Cast</th>\n",
              "      <th>Country</th>\n",
              "      <th>Release_Date</th>\n",
              "      <th>Rating</th>\n",
              "      <th>Duration</th>\n",
              "      <th>Type</th>\n",
              "      <th>Description</th>\n",
              "      <th>Date</th>\n",
              "    </tr>\n",
              "  </thead>\n",
              "  <tbody>\n",
              "    <tr>\n",
              "      <th>86</th>\n",
              "      <td>s87</td>\n",
              "      <td>TV Show</td>\n",
              "      <td>21 Sarfarosh: Saragarhi 1897</td>\n",
              "      <td>NaN</td>\n",
              "      <td>Luke Kenny, Mohit Raina, Mukul Dev</td>\n",
              "      <td>India</td>\n",
              "      <td>December 1, 2018</td>\n",
              "      <td>TV-14</td>\n",
              "      <td>1 Season</td>\n",
              "      <td>International TV Shows, TV Dramas</td>\n",
              "      <td>In one of history's greatest last stands, a ba...</td>\n",
              "      <td>2018-12-01</td>\n",
              "    </tr>\n",
              "    <tr>\n",
              "      <th>132</th>\n",
              "      <td>s133</td>\n",
              "      <td>TV Show</td>\n",
              "      <td>7 (Seven)</td>\n",
              "      <td>Nizar Shafi</td>\n",
              "      <td>Rahman, Havish, Regina Cassandra, Nandita Swet...</td>\n",
              "      <td>India</td>\n",
              "      <td>July 30, 2019</td>\n",
              "      <td>TV-14</td>\n",
              "      <td>1 Season</td>\n",
              "      <td>TV Shows</td>\n",
              "      <td>Multiple women report their husbands as missin...</td>\n",
              "      <td>2019-07-30</td>\n",
              "    </tr>\n",
              "    <tr>\n",
              "      <th>340</th>\n",
              "      <td>s341</td>\n",
              "      <td>TV Show</td>\n",
              "      <td>Agent Raghav</td>\n",
              "      <td>NaN</td>\n",
              "      <td>Sharad Kelkar, Aahana Kumra, Mahesh Manjrekar,...</td>\n",
              "      <td>India</td>\n",
              "      <td>April 15, 2017</td>\n",
              "      <td>TV-14</td>\n",
              "      <td>1 Season</td>\n",
              "      <td>Crime TV Shows, International TV Shows, TV Act...</td>\n",
              "      <td>A mix of brilliance, erudition and skill enabl...</td>\n",
              "      <td>2017-04-15</td>\n",
              "    </tr>\n",
              "    <tr>\n",
              "      <th>364</th>\n",
              "      <td>s365</td>\n",
              "      <td>TV Show</td>\n",
              "      <td>Akbar Birbal</td>\n",
              "      <td>NaN</td>\n",
              "      <td>Kiku Sharda, Vishal Kotian, Delnaaz Irani</td>\n",
              "      <td>India</td>\n",
              "      <td>March 31, 2020</td>\n",
              "      <td>TV-G</td>\n",
              "      <td>1 Season</td>\n",
              "      <td>Kids' TV, TV Comedies, TV Dramas</td>\n",
              "      <td>From battles of wit to fights for justice, Emp...</td>\n",
              "      <td>2020-03-31</td>\n",
              "    </tr>\n",
              "    <tr>\n",
              "      <th>533</th>\n",
              "      <td>s534</td>\n",
              "      <td>TV Show</td>\n",
              "      <td>Anjaan: Rural Myths</td>\n",
              "      <td>NaN</td>\n",
              "      <td>NaN</td>\n",
              "      <td>India</td>\n",
              "      <td>December 15, 2018</td>\n",
              "      <td>TV-14</td>\n",
              "      <td>1 Season</td>\n",
              "      <td>International TV Shows, TV Horror, TV Thrillers</td>\n",
              "      <td>Spine-chilling stories of malevolent spirits u...</td>\n",
              "      <td>2018-12-15</td>\n",
              "    </tr>\n",
              "    <tr>\n",
              "      <th>...</th>\n",
              "      <td>...</td>\n",
              "      <td>...</td>\n",
              "      <td>...</td>\n",
              "      <td>...</td>\n",
              "      <td>...</td>\n",
              "      <td>...</td>\n",
              "      <td>...</td>\n",
              "      <td>...</td>\n",
              "      <td>...</td>\n",
              "      <td>...</td>\n",
              "      <td>...</td>\n",
              "      <td>...</td>\n",
              "    </tr>\n",
              "    <tr>\n",
              "      <th>6249</th>\n",
              "      <td>s6249</td>\n",
              "      <td>TV Show</td>\n",
              "      <td>The Creative Indians</td>\n",
              "      <td>NaN</td>\n",
              "      <td>NaN</td>\n",
              "      <td>India</td>\n",
              "      <td>August 24, 2020</td>\n",
              "      <td>TV-MA</td>\n",
              "      <td>2 Seasons</td>\n",
              "      <td>Docuseries, International TV Shows</td>\n",
              "      <td>From chefs and comedians to filmmakers and fas...</td>\n",
              "      <td>2020-08-24</td>\n",
              "    </tr>\n",
              "    <tr>\n",
              "      <th>6400</th>\n",
              "      <td>s6399</td>\n",
              "      <td>TV Show</td>\n",
              "      <td>The Golden Years with Javed Akhtar</td>\n",
              "      <td>NaN</td>\n",
              "      <td>NaN</td>\n",
              "      <td>India</td>\n",
              "      <td>June 1, 2017</td>\n",
              "      <td>TV-G</td>\n",
              "      <td>1 Season</td>\n",
              "      <td>Docuseries, International TV Shows</td>\n",
              "      <td>Writer, poet and lyricist Javed Akhtar hosts t...</td>\n",
              "      <td>2017-06-01</td>\n",
              "    </tr>\n",
              "    <tr>\n",
              "      <th>6469</th>\n",
              "      <td>s6468</td>\n",
              "      <td>TV Show</td>\n",
              "      <td>The House That Made Me</td>\n",
              "      <td>NaN</td>\n",
              "      <td>Vinay Pathak</td>\n",
              "      <td>India</td>\n",
              "      <td>March 31, 2017</td>\n",
              "      <td>TV-PG</td>\n",
              "      <td>3 Seasons</td>\n",
              "      <td>International TV Shows, Reality TV</td>\n",
              "      <td>With host Vinay Pathak, Indian celebrities ret...</td>\n",
              "      <td>2017-03-31</td>\n",
              "    </tr>\n",
              "    <tr>\n",
              "      <th>7294</th>\n",
              "      <td>s7293</td>\n",
              "      <td>TV Show</td>\n",
              "      <td>Typewriter</td>\n",
              "      <td>NaN</td>\n",
              "      <td>Aarna Sharma, Aaryansh Malviya, Mikail Gandhi,...</td>\n",
              "      <td>India</td>\n",
              "      <td>July 19, 2019</td>\n",
              "      <td>TV-MA</td>\n",
              "      <td>1 Season</td>\n",
              "      <td>International TV Shows, TV Horror, TV Mysteries</td>\n",
              "      <td>Three young friends in Goa plan to search an o...</td>\n",
              "      <td>2019-07-19</td>\n",
              "    </tr>\n",
              "    <tr>\n",
              "      <th>7705</th>\n",
              "      <td>s7704</td>\n",
              "      <td>TV Show</td>\n",
              "      <td>Yeh Meri Family</td>\n",
              "      <td>NaN</td>\n",
              "      <td>Vishesh Bansal, Mona Singh, Akarsh Khurana, Ah...</td>\n",
              "      <td>India</td>\n",
              "      <td>August 31, 2018</td>\n",
              "      <td>TV-PG</td>\n",
              "      <td>1 Season</td>\n",
              "      <td>International TV Shows, TV Comedies</td>\n",
              "      <td>In the summer of 1998, middle child Harshu bal...</td>\n",
              "      <td>2018-08-31</td>\n",
              "    </tr>\n",
              "  </tbody>\n",
              "</table>\n",
              "<p>71 rows × 12 columns</p>\n",
              "</div>"
            ],
            "text/plain": [
              "     Show_Id  ...       Date\n",
              "86       s87  ... 2018-12-01\n",
              "132     s133  ... 2019-07-30\n",
              "340     s341  ... 2017-04-15\n",
              "364     s365  ... 2020-03-31\n",
              "533     s534  ... 2018-12-15\n",
              "...      ...  ...        ...\n",
              "6249   s6249  ... 2020-08-24\n",
              "6400   s6399  ... 2017-06-01\n",
              "6469   s6468  ... 2017-03-31\n",
              "7294   s7293  ... 2019-07-19\n",
              "7705   s7704  ... 2018-08-31\n",
              "\n",
              "[71 rows x 12 columns]"
            ]
          },
          "metadata": {
            "tags": []
          },
          "execution_count": 45
        }
      ]
    },
    {
      "cell_type": "code",
      "metadata": {
        "colab": {
          "base_uri": "https://localhost:8080/"
        },
        "id": "EmHnBVrByOSZ",
        "outputId": "4e2a456d-b737-4b27-868f-5f002b7a1fc0"
      },
      "source": [
        "data [(data['Category']=='TV Show') & (data['Country']=='India')] ['Title'] #Selects the title of the TV shows "
      ],
      "execution_count": null,
      "outputs": [
        {
          "output_type": "execute_result",
          "data": {
            "text/plain": [
              "86            21 Sarfarosh: Saragarhi 1897\n",
              "132                              7 (Seven)\n",
              "340                           Agent Raghav\n",
              "364                           Akbar Birbal\n",
              "533                    Anjaan: Rural Myths\n",
              "                       ...                \n",
              "6249                  The Creative Indians\n",
              "6400    The Golden Years with Javed Akhtar\n",
              "6469                The House That Made Me\n",
              "7294                            Typewriter\n",
              "7705                       Yeh Meri Family\n",
              "Name: Title, Length: 71, dtype: object"
            ]
          },
          "metadata": {
            "tags": []
          },
          "execution_count": 46
        }
      ]
    },
    {
      "cell_type": "code",
      "metadata": {
        "id": "j4afQ6R3ynlC"
      },
      "source": [
        "#Displaying the top 10 Directors who gave highest number of TV Shows and Movies to Netflix "
      ],
      "execution_count": null,
      "outputs": []
    },
    {
      "cell_type": "code",
      "metadata": {
        "colab": {
          "base_uri": "https://localhost:8080/",
          "height": 193
        },
        "id": "CTKM2W7Oy4Bw",
        "outputId": "fba6cfee-3a5d-4a52-b978-2e439c520b61"
      },
      "source": [
        "data.head(3) #Viewing the data "
      ],
      "execution_count": null,
      "outputs": [
        {
          "output_type": "execute_result",
          "data": {
            "text/html": [
              "<div>\n",
              "<style scoped>\n",
              "    .dataframe tbody tr th:only-of-type {\n",
              "        vertical-align: middle;\n",
              "    }\n",
              "\n",
              "    .dataframe tbody tr th {\n",
              "        vertical-align: top;\n",
              "    }\n",
              "\n",
              "    .dataframe thead th {\n",
              "        text-align: right;\n",
              "    }\n",
              "</style>\n",
              "<table border=\"1\" class=\"dataframe\">\n",
              "  <thead>\n",
              "    <tr style=\"text-align: right;\">\n",
              "      <th></th>\n",
              "      <th>Show_Id</th>\n",
              "      <th>Category</th>\n",
              "      <th>Title</th>\n",
              "      <th>Director</th>\n",
              "      <th>Cast</th>\n",
              "      <th>Country</th>\n",
              "      <th>Release_Date</th>\n",
              "      <th>Rating</th>\n",
              "      <th>Duration</th>\n",
              "      <th>Type</th>\n",
              "      <th>Description</th>\n",
              "      <th>Date</th>\n",
              "    </tr>\n",
              "  </thead>\n",
              "  <tbody>\n",
              "    <tr>\n",
              "      <th>0</th>\n",
              "      <td>s1</td>\n",
              "      <td>TV Show</td>\n",
              "      <td>3%</td>\n",
              "      <td>NaN</td>\n",
              "      <td>João Miguel, Bianca Comparato, Michel Gomes, R...</td>\n",
              "      <td>Brazil</td>\n",
              "      <td>August 14, 2020</td>\n",
              "      <td>TV-MA</td>\n",
              "      <td>4 Seasons</td>\n",
              "      <td>International TV Shows, TV Dramas, TV Sci-Fi &amp;...</td>\n",
              "      <td>In a future where the elite inhabit an island ...</td>\n",
              "      <td>2020-08-14</td>\n",
              "    </tr>\n",
              "    <tr>\n",
              "      <th>1</th>\n",
              "      <td>s2</td>\n",
              "      <td>Movie</td>\n",
              "      <td>07:19</td>\n",
              "      <td>Jorge Michel Grau</td>\n",
              "      <td>Demián Bichir, Héctor Bonilla, Oscar Serrano, ...</td>\n",
              "      <td>Mexico</td>\n",
              "      <td>December 23, 2016</td>\n",
              "      <td>TV-MA</td>\n",
              "      <td>93 min</td>\n",
              "      <td>Dramas, International Movies</td>\n",
              "      <td>After a devastating earthquake hits Mexico Cit...</td>\n",
              "      <td>2016-12-23</td>\n",
              "    </tr>\n",
              "    <tr>\n",
              "      <th>2</th>\n",
              "      <td>s3</td>\n",
              "      <td>Movie</td>\n",
              "      <td>23:59</td>\n",
              "      <td>Gilbert Chan</td>\n",
              "      <td>Tedd Chan, Stella Chung, Henley Hii, Lawrence ...</td>\n",
              "      <td>Singapore</td>\n",
              "      <td>December 20, 2018</td>\n",
              "      <td>R</td>\n",
              "      <td>78 min</td>\n",
              "      <td>Horror Movies, International Movies</td>\n",
              "      <td>When an army recruit is found dead, his fellow...</td>\n",
              "      <td>2018-12-20</td>\n",
              "    </tr>\n",
              "  </tbody>\n",
              "</table>\n",
              "</div>"
            ],
            "text/plain": [
              "  Show_Id  ...       Date\n",
              "0      s1  ... 2020-08-14\n",
              "1      s2  ... 2016-12-23\n",
              "2      s3  ... 2018-12-20\n",
              "\n",
              "[3 rows x 12 columns]"
            ]
          },
          "metadata": {
            "tags": []
          },
          "execution_count": 48
        }
      ]
    },
    {
      "cell_type": "code",
      "metadata": {
        "colab": {
          "base_uri": "https://localhost:8080/"
        },
        "id": "-fl6lqmFy-sJ",
        "outputId": "54e5a22b-94d0-4065-db41-8808ffc6f064"
      },
      "source": [
        "data['Director'].value_counts().head(10) #Counts the 10 unique values of the Directors "
      ],
      "execution_count": null,
      "outputs": [
        {
          "output_type": "execute_result",
          "data": {
            "text/plain": [
              "Raúl Campos, Jan Suter    18\n",
              "Marcus Raboy              16\n",
              "Jay Karas                 14\n",
              "Cathy Garcia-Molina       13\n",
              "Jay Chapman               12\n",
              "Martin Scorsese           12\n",
              "Youssef Chahine           12\n",
              "Steven Spielberg          10\n",
              "David Dhawan               9\n",
              "Johnnie To                 8\n",
              "Name: Director, dtype: int64"
            ]
          },
          "metadata": {
            "tags": []
          },
          "execution_count": 49
        }
      ]
    },
    {
      "cell_type": "code",
      "metadata": {
        "id": "5XPyG9NmzPMN"
      },
      "source": [
        "#Showing the data where category of the Movies is \"Comedy\" and the Region is \"United States\""
      ],
      "execution_count": null,
      "outputs": []
    },
    {
      "cell_type": "code",
      "metadata": {
        "colab": {
          "base_uri": "https://localhost:8080/",
          "height": 589
        },
        "id": "Lpb08wx3zrX6",
        "outputId": "fa086aa7-2b15-4da4-f456-894c5d9ae43c"
      },
      "source": [
        "data[(data['Category']=='Movie')& (data['Type']=='Comedies')|(data['Country']=='United States')] #Use of the And operator & Or operator"
      ],
      "execution_count": null,
      "outputs": [
        {
          "output_type": "execute_result",
          "data": {
            "text/html": [
              "<div>\n",
              "<style scoped>\n",
              "    .dataframe tbody tr th:only-of-type {\n",
              "        vertical-align: middle;\n",
              "    }\n",
              "\n",
              "    .dataframe tbody tr th {\n",
              "        vertical-align: top;\n",
              "    }\n",
              "\n",
              "    .dataframe thead th {\n",
              "        text-align: right;\n",
              "    }\n",
              "</style>\n",
              "<table border=\"1\" class=\"dataframe\">\n",
              "  <thead>\n",
              "    <tr style=\"text-align: right;\">\n",
              "      <th></th>\n",
              "      <th>Show_Id</th>\n",
              "      <th>Category</th>\n",
              "      <th>Title</th>\n",
              "      <th>Director</th>\n",
              "      <th>Cast</th>\n",
              "      <th>Country</th>\n",
              "      <th>Release_Date</th>\n",
              "      <th>Rating</th>\n",
              "      <th>Duration</th>\n",
              "      <th>Type</th>\n",
              "      <th>Description</th>\n",
              "      <th>Date</th>\n",
              "    </tr>\n",
              "  </thead>\n",
              "  <tbody>\n",
              "    <tr>\n",
              "      <th>3</th>\n",
              "      <td>s4</td>\n",
              "      <td>Movie</td>\n",
              "      <td>9</td>\n",
              "      <td>Shane Acker</td>\n",
              "      <td>Elijah Wood, John C. Reilly, Jennifer Connelly...</td>\n",
              "      <td>United States</td>\n",
              "      <td>November 16, 2017</td>\n",
              "      <td>PG-13</td>\n",
              "      <td>80 min</td>\n",
              "      <td>Action &amp; Adventure, Independent Movies, Sci-Fi...</td>\n",
              "      <td>In a postapocalyptic world, rag-doll robots hi...</td>\n",
              "      <td>2017-11-16</td>\n",
              "    </tr>\n",
              "    <tr>\n",
              "      <th>4</th>\n",
              "      <td>s5</td>\n",
              "      <td>Movie</td>\n",
              "      <td>21</td>\n",
              "      <td>Robert Luketic</td>\n",
              "      <td>Jim Sturgess, Kevin Spacey, Kate Bosworth, Aar...</td>\n",
              "      <td>United States</td>\n",
              "      <td>January 1, 2020</td>\n",
              "      <td>PG-13</td>\n",
              "      <td>123 min</td>\n",
              "      <td>Dramas</td>\n",
              "      <td>A brilliant group of students become card-coun...</td>\n",
              "      <td>2020-01-01</td>\n",
              "    </tr>\n",
              "    <tr>\n",
              "      <th>7</th>\n",
              "      <td>s8</td>\n",
              "      <td>Movie</td>\n",
              "      <td>187</td>\n",
              "      <td>Kevin Reynolds</td>\n",
              "      <td>Samuel L. Jackson, John Heard, Kelly Rowan, Cl...</td>\n",
              "      <td>United States</td>\n",
              "      <td>November 1, 2019</td>\n",
              "      <td>R</td>\n",
              "      <td>119 min</td>\n",
              "      <td>Dramas</td>\n",
              "      <td>After one of his high school students attacks ...</td>\n",
              "      <td>2019-11-01</td>\n",
              "    </tr>\n",
              "    <tr>\n",
              "      <th>10</th>\n",
              "      <td>s11</td>\n",
              "      <td>Movie</td>\n",
              "      <td>1922</td>\n",
              "      <td>Zak Hilditch</td>\n",
              "      <td>Thomas Jane, Molly Parker, Dylan Schmid, Kaitl...</td>\n",
              "      <td>United States</td>\n",
              "      <td>October 20, 2017</td>\n",
              "      <td>TV-MA</td>\n",
              "      <td>103 min</td>\n",
              "      <td>Dramas, Thrillers</td>\n",
              "      <td>A farmer pens a confession admitting to his wi...</td>\n",
              "      <td>2017-10-20</td>\n",
              "    </tr>\n",
              "    <tr>\n",
              "      <th>14</th>\n",
              "      <td>s15</td>\n",
              "      <td>Movie</td>\n",
              "      <td>3022</td>\n",
              "      <td>John Suits</td>\n",
              "      <td>Omar Epps, Kate Walsh, Miranda Cosgrove, Angus...</td>\n",
              "      <td>United States</td>\n",
              "      <td>March 19, 2020</td>\n",
              "      <td>R</td>\n",
              "      <td>91 min</td>\n",
              "      <td>Independent Movies, Sci-Fi &amp; Fantasy, Thrillers</td>\n",
              "      <td>Stranded when the Earth is suddenly destroyed ...</td>\n",
              "      <td>2020-03-19</td>\n",
              "    </tr>\n",
              "    <tr>\n",
              "      <th>...</th>\n",
              "      <td>...</td>\n",
              "      <td>...</td>\n",
              "      <td>...</td>\n",
              "      <td>...</td>\n",
              "      <td>...</td>\n",
              "      <td>...</td>\n",
              "      <td>...</td>\n",
              "      <td>...</td>\n",
              "      <td>...</td>\n",
              "      <td>...</td>\n",
              "      <td>...</td>\n",
              "      <td>...</td>\n",
              "    </tr>\n",
              "    <tr>\n",
              "      <th>7760</th>\n",
              "      <td>s7759</td>\n",
              "      <td>Movie</td>\n",
              "      <td>Zack and Miri Make a Porno</td>\n",
              "      <td>Kevin Smith</td>\n",
              "      <td>Seth Rogen, Elizabeth Banks, Craig Robinson, J...</td>\n",
              "      <td>United States</td>\n",
              "      <td>October 1, 2018</td>\n",
              "      <td>R</td>\n",
              "      <td>101 min</td>\n",
              "      <td>Comedies, Independent Movies, Romantic Movies</td>\n",
              "      <td>Zack and Miri make and star in an adult film t...</td>\n",
              "      <td>2018-10-01</td>\n",
              "    </tr>\n",
              "    <tr>\n",
              "      <th>7773</th>\n",
              "      <td>s7772</td>\n",
              "      <td>Movie</td>\n",
              "      <td>Zion</td>\n",
              "      <td>Floyd Russ</td>\n",
              "      <td>Zion Clark</td>\n",
              "      <td>United States</td>\n",
              "      <td>August 10, 2018</td>\n",
              "      <td>TV-PG</td>\n",
              "      <td>12 min</td>\n",
              "      <td>Documentaries, Sports Movies</td>\n",
              "      <td>Born without legs and stuck in foster care for...</td>\n",
              "      <td>2018-08-10</td>\n",
              "    </tr>\n",
              "    <tr>\n",
              "      <th>7776</th>\n",
              "      <td>s7775</td>\n",
              "      <td>Movie</td>\n",
              "      <td>Zodiac</td>\n",
              "      <td>David Fincher</td>\n",
              "      <td>Mark Ruffalo, Jake Gyllenhaal, Robert Downey J...</td>\n",
              "      <td>United States</td>\n",
              "      <td>November 20, 2019</td>\n",
              "      <td>R</td>\n",
              "      <td>158 min</td>\n",
              "      <td>Cult Movies, Dramas, Thrillers</td>\n",
              "      <td>A political cartoonist, a crime reporter and a...</td>\n",
              "      <td>2019-11-20</td>\n",
              "    </tr>\n",
              "    <tr>\n",
              "      <th>7780</th>\n",
              "      <td>s7779</td>\n",
              "      <td>Movie</td>\n",
              "      <td>Zombieland</td>\n",
              "      <td>Ruben Fleischer</td>\n",
              "      <td>Jesse Eisenberg, Woody Harrelson, Emma Stone, ...</td>\n",
              "      <td>United States</td>\n",
              "      <td>November 1, 2019</td>\n",
              "      <td>R</td>\n",
              "      <td>88 min</td>\n",
              "      <td>Comedies, Horror Movies</td>\n",
              "      <td>Looking to survive in a world taken over by zo...</td>\n",
              "      <td>2019-11-01</td>\n",
              "    </tr>\n",
              "    <tr>\n",
              "      <th>7783</th>\n",
              "      <td>s7782</td>\n",
              "      <td>Movie</td>\n",
              "      <td>Zoom</td>\n",
              "      <td>Peter Hewitt</td>\n",
              "      <td>Tim Allen, Courteney Cox, Chevy Chase, Kate Ma...</td>\n",
              "      <td>United States</td>\n",
              "      <td>January 11, 2020</td>\n",
              "      <td>PG</td>\n",
              "      <td>88 min</td>\n",
              "      <td>Children &amp; Family Movies, Comedies</td>\n",
              "      <td>Dragged from civilian life, a former superhero...</td>\n",
              "      <td>2020-01-11</td>\n",
              "    </tr>\n",
              "  </tbody>\n",
              "</table>\n",
              "<p>2578 rows × 12 columns</p>\n",
              "</div>"
            ],
            "text/plain": [
              "     Show_Id  ...       Date\n",
              "3         s4  ... 2017-11-16\n",
              "4         s5  ... 2020-01-01\n",
              "7         s8  ... 2019-11-01\n",
              "10       s11  ... 2017-10-20\n",
              "14       s15  ... 2020-03-19\n",
              "...      ...  ...        ...\n",
              "7760   s7759  ... 2018-10-01\n",
              "7773   s7772  ... 2018-08-10\n",
              "7776   s7775  ... 2019-11-20\n",
              "7780   s7779  ... 2019-11-01\n",
              "7783   s7782  ... 2020-01-11\n",
              "\n",
              "[2578 rows x 12 columns]"
            ]
          },
          "metadata": {
            "tags": []
          },
          "execution_count": 55
        }
      ]
    },
    {
      "cell_type": "code",
      "metadata": {
        "id": "C7IxArk-0JXZ"
      },
      "source": [
        "#Movies/TV Shows Tom Cruise got casted "
      ],
      "execution_count": null,
      "outputs": []
    },
    {
      "cell_type": "code",
      "metadata": {
        "colab": {
          "base_uri": "https://localhost:8080/",
          "height": 145
        },
        "id": "EsiaAYRF5X2Y",
        "outputId": "35bd4332-6a75-4430-d447-09d1a388e254"
      },
      "source": [
        "data.head(2) #Viewing data for reference "
      ],
      "execution_count": null,
      "outputs": [
        {
          "output_type": "execute_result",
          "data": {
            "text/html": [
              "<div>\n",
              "<style scoped>\n",
              "    .dataframe tbody tr th:only-of-type {\n",
              "        vertical-align: middle;\n",
              "    }\n",
              "\n",
              "    .dataframe tbody tr th {\n",
              "        vertical-align: top;\n",
              "    }\n",
              "\n",
              "    .dataframe thead th {\n",
              "        text-align: right;\n",
              "    }\n",
              "</style>\n",
              "<table border=\"1\" class=\"dataframe\">\n",
              "  <thead>\n",
              "    <tr style=\"text-align: right;\">\n",
              "      <th></th>\n",
              "      <th>Show_Id</th>\n",
              "      <th>Category</th>\n",
              "      <th>Title</th>\n",
              "      <th>Director</th>\n",
              "      <th>Cast</th>\n",
              "      <th>Country</th>\n",
              "      <th>Release_Date</th>\n",
              "      <th>Rating</th>\n",
              "      <th>Duration</th>\n",
              "      <th>Type</th>\n",
              "      <th>Description</th>\n",
              "      <th>Date</th>\n",
              "    </tr>\n",
              "  </thead>\n",
              "  <tbody>\n",
              "    <tr>\n",
              "      <th>0</th>\n",
              "      <td>s1</td>\n",
              "      <td>TV Show</td>\n",
              "      <td>3%</td>\n",
              "      <td>NaN</td>\n",
              "      <td>João Miguel, Bianca Comparato, Michel Gomes, R...</td>\n",
              "      <td>Brazil</td>\n",
              "      <td>August 14, 2020</td>\n",
              "      <td>TV-MA</td>\n",
              "      <td>4 Seasons</td>\n",
              "      <td>International TV Shows, TV Dramas, TV Sci-Fi &amp;...</td>\n",
              "      <td>In a future where the elite inhabit an island ...</td>\n",
              "      <td>2020-08-14</td>\n",
              "    </tr>\n",
              "    <tr>\n",
              "      <th>1</th>\n",
              "      <td>s2</td>\n",
              "      <td>Movie</td>\n",
              "      <td>07:19</td>\n",
              "      <td>Jorge Michel Grau</td>\n",
              "      <td>Demián Bichir, Héctor Bonilla, Oscar Serrano, ...</td>\n",
              "      <td>Mexico</td>\n",
              "      <td>December 23, 2016</td>\n",
              "      <td>TV-MA</td>\n",
              "      <td>93 min</td>\n",
              "      <td>Dramas, International Movies</td>\n",
              "      <td>After a devastating earthquake hits Mexico Cit...</td>\n",
              "      <td>2016-12-23</td>\n",
              "    </tr>\n",
              "  </tbody>\n",
              "</table>\n",
              "</div>"
            ],
            "text/plain": [
              "  Show_Id  ...       Date\n",
              "0      s1  ... 2020-08-14\n",
              "1      s2  ... 2016-12-23\n",
              "\n",
              "[2 rows x 12 columns]"
            ]
          },
          "metadata": {
            "tags": []
          },
          "execution_count": 58
        }
      ]
    },
    {
      "cell_type": "code",
      "metadata": {
        "colab": {
          "base_uri": "https://localhost:8080/",
          "height": 49
        },
        "id": "KpV6zk9b5aXa",
        "outputId": "814203e8-9081-4bdc-96ba-cb4e3c5f8f56"
      },
      "source": [
        "data[data['Cast']=='Tom Cruise'] #Selecting the column Cast to view Tom Cruise "
      ],
      "execution_count": null,
      "outputs": [
        {
          "output_type": "execute_result",
          "data": {
            "text/html": [
              "<div>\n",
              "<style scoped>\n",
              "    .dataframe tbody tr th:only-of-type {\n",
              "        vertical-align: middle;\n",
              "    }\n",
              "\n",
              "    .dataframe tbody tr th {\n",
              "        vertical-align: top;\n",
              "    }\n",
              "\n",
              "    .dataframe thead th {\n",
              "        text-align: right;\n",
              "    }\n",
              "</style>\n",
              "<table border=\"1\" class=\"dataframe\">\n",
              "  <thead>\n",
              "    <tr style=\"text-align: right;\">\n",
              "      <th></th>\n",
              "      <th>Show_Id</th>\n",
              "      <th>Category</th>\n",
              "      <th>Title</th>\n",
              "      <th>Director</th>\n",
              "      <th>Cast</th>\n",
              "      <th>Country</th>\n",
              "      <th>Release_Date</th>\n",
              "      <th>Rating</th>\n",
              "      <th>Duration</th>\n",
              "      <th>Type</th>\n",
              "      <th>Description</th>\n",
              "      <th>Date</th>\n",
              "    </tr>\n",
              "  </thead>\n",
              "  <tbody>\n",
              "  </tbody>\n",
              "</table>\n",
              "</div>"
            ],
            "text/plain": [
              "Empty DataFrame\n",
              "Columns: [Show_Id, Category, Title, Director, Cast, Country, Release_Date, Rating, Duration, Type, Description, Date]\n",
              "Index: []"
            ]
          },
          "metadata": {
            "tags": []
          },
          "execution_count": 59
        }
      ]
    },
    {
      "cell_type": "code",
      "metadata": {
        "id": "syhSDI9I5-KX"
      },
      "source": [
        "data_new = data.dropna() #This drops the rows containing all missing values "
      ],
      "execution_count": 69,
      "outputs": []
    },
    {
      "cell_type": "code",
      "metadata": {
        "colab": {
          "base_uri": "https://localhost:8080/",
          "height": 145
        },
        "id": "1OpAzQaSshzA",
        "outputId": "e41c9d6d-d389-44a5-af74-5cece0b3f5c3"
      },
      "source": [
        "data.head(2) #Viewing data for reference "
      ],
      "execution_count": 10,
      "outputs": [
        {
          "output_type": "execute_result",
          "data": {
            "text/html": [
              "<div>\n",
              "<style scoped>\n",
              "    .dataframe tbody tr th:only-of-type {\n",
              "        vertical-align: middle;\n",
              "    }\n",
              "\n",
              "    .dataframe tbody tr th {\n",
              "        vertical-align: top;\n",
              "    }\n",
              "\n",
              "    .dataframe thead th {\n",
              "        text-align: right;\n",
              "    }\n",
              "</style>\n",
              "<table border=\"1\" class=\"dataframe\">\n",
              "  <thead>\n",
              "    <tr style=\"text-align: right;\">\n",
              "      <th></th>\n",
              "      <th>Show_Id</th>\n",
              "      <th>Category</th>\n",
              "      <th>Title</th>\n",
              "      <th>Director</th>\n",
              "      <th>Cast</th>\n",
              "      <th>Country</th>\n",
              "      <th>Release_Date</th>\n",
              "      <th>Rating</th>\n",
              "      <th>Duration</th>\n",
              "      <th>Type</th>\n",
              "      <th>Description</th>\n",
              "    </tr>\n",
              "  </thead>\n",
              "  <tbody>\n",
              "    <tr>\n",
              "      <th>0</th>\n",
              "      <td>s1</td>\n",
              "      <td>TV Show</td>\n",
              "      <td>3%</td>\n",
              "      <td>NaN</td>\n",
              "      <td>João Miguel, Bianca Comparato, Michel Gomes, R...</td>\n",
              "      <td>Brazil</td>\n",
              "      <td>August 14, 2020</td>\n",
              "      <td>TV-MA</td>\n",
              "      <td>4 Seasons</td>\n",
              "      <td>International TV Shows, TV Dramas, TV Sci-Fi &amp;...</td>\n",
              "      <td>In a future where the elite inhabit an island ...</td>\n",
              "    </tr>\n",
              "    <tr>\n",
              "      <th>1</th>\n",
              "      <td>s2</td>\n",
              "      <td>Movie</td>\n",
              "      <td>07:19</td>\n",
              "      <td>Jorge Michel Grau</td>\n",
              "      <td>Demián Bichir, Héctor Bonilla, Oscar Serrano, ...</td>\n",
              "      <td>Mexico</td>\n",
              "      <td>December 23, 2016</td>\n",
              "      <td>TV-MA</td>\n",
              "      <td>93 min</td>\n",
              "      <td>Dramas, International Movies</td>\n",
              "      <td>After a devastating earthquake hits Mexico Cit...</td>\n",
              "    </tr>\n",
              "  </tbody>\n",
              "</table>\n",
              "</div>"
            ],
            "text/plain": [
              "  Show_Id  ...                                        Description\n",
              "0      s1  ...  In a future where the elite inhabit an island ...\n",
              "1      s2  ...  After a devastating earthquake hits Mexico Cit...\n",
              "\n",
              "[2 rows x 11 columns]"
            ]
          },
          "metadata": {
            "tags": []
          },
          "execution_count": 10
        }
      ]
    },
    {
      "cell_type": "code",
      "metadata": {
        "colab": {
          "base_uri": "https://localhost:8080/",
          "height": 145
        },
        "id": "g2SlyDjOsj_V",
        "outputId": "9338a5d8-9bc6-412c-8eaf-35a15d978d3e"
      },
      "source": [
        "data_new[data_new['Cast'].str.contains('Tom Cruise')]"
      ],
      "execution_count": 12,
      "outputs": [
        {
          "output_type": "execute_result",
          "data": {
            "text/html": [
              "<div>\n",
              "<style scoped>\n",
              "    .dataframe tbody tr th:only-of-type {\n",
              "        vertical-align: middle;\n",
              "    }\n",
              "\n",
              "    .dataframe tbody tr th {\n",
              "        vertical-align: top;\n",
              "    }\n",
              "\n",
              "    .dataframe thead th {\n",
              "        text-align: right;\n",
              "    }\n",
              "</style>\n",
              "<table border=\"1\" class=\"dataframe\">\n",
              "  <thead>\n",
              "    <tr style=\"text-align: right;\">\n",
              "      <th></th>\n",
              "      <th>Show_Id</th>\n",
              "      <th>Category</th>\n",
              "      <th>Title</th>\n",
              "      <th>Director</th>\n",
              "      <th>Cast</th>\n",
              "      <th>Country</th>\n",
              "      <th>Release_Date</th>\n",
              "      <th>Rating</th>\n",
              "      <th>Duration</th>\n",
              "      <th>Type</th>\n",
              "      <th>Description</th>\n",
              "    </tr>\n",
              "  </thead>\n",
              "  <tbody>\n",
              "    <tr>\n",
              "      <th>3860</th>\n",
              "      <td>s3861</td>\n",
              "      <td>Movie</td>\n",
              "      <td>Magnolia</td>\n",
              "      <td>Paul Thomas Anderson</td>\n",
              "      <td>Jeremy Blackman, Tom Cruise, Melinda Dillon, A...</td>\n",
              "      <td>United States</td>\n",
              "      <td>January 1, 2020</td>\n",
              "      <td>R</td>\n",
              "      <td>189 min</td>\n",
              "      <td>Dramas, Independent Movies</td>\n",
              "      <td>Through chance, human action, past history and...</td>\n",
              "    </tr>\n",
              "    <tr>\n",
              "      <th>5071</th>\n",
              "      <td>s5071</td>\n",
              "      <td>Movie</td>\n",
              "      <td>Rain Man</td>\n",
              "      <td>Barry Levinson</td>\n",
              "      <td>Dustin Hoffman, Tom Cruise, Valeria Golino, Ge...</td>\n",
              "      <td>United States</td>\n",
              "      <td>July 1, 2019</td>\n",
              "      <td>R</td>\n",
              "      <td>134 min</td>\n",
              "      <td>Classic Movies, Dramas</td>\n",
              "      <td>A fast-talking yuppie is forced to slow down w...</td>\n",
              "    </tr>\n",
              "  </tbody>\n",
              "</table>\n",
              "</div>"
            ],
            "text/plain": [
              "     Show_Id  ...                                        Description\n",
              "3860   s3861  ...  Through chance, human action, past history and...\n",
              "5071   s5071  ...  A fast-talking yuppie is forced to slow down w...\n",
              "\n",
              "[2 rows x 11 columns]"
            ]
          },
          "metadata": {
            "tags": []
          },
          "execution_count": 12
        }
      ]
    },
    {
      "cell_type": "code",
      "metadata": {
        "id": "Vbcs6dzhs1hS"
      },
      "source": [
        "#Different ratings in Netflix"
      ],
      "execution_count": 13,
      "outputs": []
    },
    {
      "cell_type": "code",
      "metadata": {
        "colab": {
          "base_uri": "https://localhost:8080/"
        },
        "id": "9hk6OzWutAvr",
        "outputId": "552b5142-a039-4224-c5b4-db4d37c57f09"
      },
      "source": [
        "data['Rating'].nunique() #To view ratings "
      ],
      "execution_count": 15,
      "outputs": [
        {
          "output_type": "execute_result",
          "data": {
            "text/plain": [
              "14"
            ]
          },
          "metadata": {
            "tags": []
          },
          "execution_count": 15
        }
      ]
    },
    {
      "cell_type": "code",
      "metadata": {
        "colab": {
          "base_uri": "https://localhost:8080/"
        },
        "id": "ljB5TytjtbR5",
        "outputId": "a82ce686-8aac-47cd-d426-4d942ef0158f"
      },
      "source": [
        "data['Rating'].unique() #To view different types of ratings "
      ],
      "execution_count": 16,
      "outputs": [
        {
          "output_type": "execute_result",
          "data": {
            "text/plain": [
              "array(['TV-MA', 'R', 'PG-13', 'TV-14', 'TV-PG', 'NR', 'TV-G', 'TV-Y', nan,\n",
              "       'TV-Y7', 'PG', 'G', 'NC-17', 'TV-Y7-FV', 'UR'], dtype=object)"
            ]
          },
          "metadata": {
            "tags": []
          },
          "execution_count": 16
        }
      ]
    },
    {
      "cell_type": "code",
      "metadata": {
        "id": "DrWut4aMtweL"
      },
      "source": [
        "#Movies with \"TV-14\" rating"
      ],
      "execution_count": 17,
      "outputs": []
    },
    {
      "cell_type": "code",
      "metadata": {
        "colab": {
          "base_uri": "https://localhost:8080/",
          "height": 589
        },
        "id": "WJ7x_Oc6t1NI",
        "outputId": "ce720536-47c1-4584-bfc2-4cf45286db48"
      },
      "source": [
        "data[(data['Category'] == 'Movie') & (data['Rating'] == 'TV-14')] #To show the data of movies with TV - 14 ratings"
      ],
      "execution_count": 25,
      "outputs": [
        {
          "output_type": "execute_result",
          "data": {
            "text/html": [
              "<div>\n",
              "<style scoped>\n",
              "    .dataframe tbody tr th:only-of-type {\n",
              "        vertical-align: middle;\n",
              "    }\n",
              "\n",
              "    .dataframe tbody tr th {\n",
              "        vertical-align: top;\n",
              "    }\n",
              "\n",
              "    .dataframe thead th {\n",
              "        text-align: right;\n",
              "    }\n",
              "</style>\n",
              "<table border=\"1\" class=\"dataframe\">\n",
              "  <thead>\n",
              "    <tr style=\"text-align: right;\">\n",
              "      <th></th>\n",
              "      <th>Show_Id</th>\n",
              "      <th>Category</th>\n",
              "      <th>Title</th>\n",
              "      <th>Director</th>\n",
              "      <th>Cast</th>\n",
              "      <th>Country</th>\n",
              "      <th>Release_Date</th>\n",
              "      <th>Rating</th>\n",
              "      <th>Duration</th>\n",
              "      <th>Type</th>\n",
              "      <th>Description</th>\n",
              "    </tr>\n",
              "  </thead>\n",
              "  <tbody>\n",
              "    <tr>\n",
              "      <th>8</th>\n",
              "      <td>s9</td>\n",
              "      <td>Movie</td>\n",
              "      <td>706</td>\n",
              "      <td>Shravan Kumar</td>\n",
              "      <td>Divya Dutta, Atul Kulkarni, Mohan Agashe, Anup...</td>\n",
              "      <td>India</td>\n",
              "      <td>April 1, 2019</td>\n",
              "      <td>TV-14</td>\n",
              "      <td>118 min</td>\n",
              "      <td>Horror Movies, International Movies</td>\n",
              "      <td>When a doctor goes missing, his psychiatrist w...</td>\n",
              "    </tr>\n",
              "    <tr>\n",
              "      <th>15</th>\n",
              "      <td>s16</td>\n",
              "      <td>Movie</td>\n",
              "      <td>Oct-01</td>\n",
              "      <td>Kunle Afolayan</td>\n",
              "      <td>Sadiq Daba, David Bailie, Kayode Olaiya, Kehin...</td>\n",
              "      <td>Nigeria</td>\n",
              "      <td>September 1, 2019</td>\n",
              "      <td>TV-14</td>\n",
              "      <td>149 min</td>\n",
              "      <td>Dramas, International Movies, Thrillers</td>\n",
              "      <td>Against the backdrop of Nigeria's looming inde...</td>\n",
              "    </tr>\n",
              "    <tr>\n",
              "      <th>18</th>\n",
              "      <td>s19</td>\n",
              "      <td>Movie</td>\n",
              "      <td>15-Aug</td>\n",
              "      <td>Swapnaneel Jayakar</td>\n",
              "      <td>Rahul Pethe, Mrunmayee Deshpande, Adinath Koth...</td>\n",
              "      <td>India</td>\n",
              "      <td>March 29, 2019</td>\n",
              "      <td>TV-14</td>\n",
              "      <td>124 min</td>\n",
              "      <td>Comedies, Dramas, Independent Movies</td>\n",
              "      <td>On India's Independence Day, a zany mishap in ...</td>\n",
              "    </tr>\n",
              "    <tr>\n",
              "      <th>20</th>\n",
              "      <td>s21</td>\n",
              "      <td>Movie</td>\n",
              "      <td>​​Kuch Bheege Alfaaz</td>\n",
              "      <td>Onir</td>\n",
              "      <td>Geetanjali Thapa, Zain Khan Durrani, Shray Rai...</td>\n",
              "      <td>India</td>\n",
              "      <td>September 1, 2018</td>\n",
              "      <td>TV-14</td>\n",
              "      <td>110 min</td>\n",
              "      <td>Dramas, Independent Movies, International Movies</td>\n",
              "      <td>After accidentally connecting over the Interne...</td>\n",
              "    </tr>\n",
              "    <tr>\n",
              "      <th>21</th>\n",
              "      <td>s22</td>\n",
              "      <td>Movie</td>\n",
              "      <td>​Goli Soda 2</td>\n",
              "      <td>Vijay Milton</td>\n",
              "      <td>Samuthirakani, Bharath Seeni, Vinoth, Esakki B...</td>\n",
              "      <td>India</td>\n",
              "      <td>September 15, 2018</td>\n",
              "      <td>TV-14</td>\n",
              "      <td>128 min</td>\n",
              "      <td>Action &amp; Adventure, Dramas, International Movies</td>\n",
              "      <td>A taxi driver, a gangster and an athlete strug...</td>\n",
              "    </tr>\n",
              "    <tr>\n",
              "      <th>...</th>\n",
              "      <td>...</td>\n",
              "      <td>...</td>\n",
              "      <td>...</td>\n",
              "      <td>...</td>\n",
              "      <td>...</td>\n",
              "      <td>...</td>\n",
              "      <td>...</td>\n",
              "      <td>...</td>\n",
              "      <td>...</td>\n",
              "      <td>...</td>\n",
              "      <td>...</td>\n",
              "    </tr>\n",
              "    <tr>\n",
              "      <th>7765</th>\n",
              "      <td>s7764</td>\n",
              "      <td>Movie</td>\n",
              "      <td>Zenda</td>\n",
              "      <td>Avadhoot Gupte</td>\n",
              "      <td>Santosh Juvekar, Siddharth Chandekar, Sachit P...</td>\n",
              "      <td>India</td>\n",
              "      <td>February 15, 2018</td>\n",
              "      <td>TV-14</td>\n",
              "      <td>120 min</td>\n",
              "      <td>Dramas, International Movies</td>\n",
              "      <td>A change in the leadership of a political part...</td>\n",
              "    </tr>\n",
              "    <tr>\n",
              "      <th>7766</th>\n",
              "      <td>s7765</td>\n",
              "      <td>Movie</td>\n",
              "      <td>Zero</td>\n",
              "      <td>Aanand Rai</td>\n",
              "      <td>Shah Rukh Khan, Anushka Sharma, Katrina Kaif, ...</td>\n",
              "      <td>India</td>\n",
              "      <td>May 21, 2019</td>\n",
              "      <td>TV-14</td>\n",
              "      <td>159 min</td>\n",
              "      <td>Comedies, Dramas, International Movies</td>\n",
              "      <td>Through his relationships with two wildly diff...</td>\n",
              "    </tr>\n",
              "    <tr>\n",
              "      <th>7770</th>\n",
              "      <td>s7769</td>\n",
              "      <td>Movie</td>\n",
              "      <td>Zindagi Kitni Haseen Hay</td>\n",
              "      <td>Anjum Shahzad</td>\n",
              "      <td>Feroze Khan, Sajal Ali, Jibrayl Ahmed Rajput, ...</td>\n",
              "      <td>Pakistan</td>\n",
              "      <td>October 1, 2018</td>\n",
              "      <td>TV-14</td>\n",
              "      <td>126 min</td>\n",
              "      <td>Dramas, International Movies, Romantic Movies</td>\n",
              "      <td>Two young parents struggle to keep their marri...</td>\n",
              "    </tr>\n",
              "    <tr>\n",
              "      <th>7771</th>\n",
              "      <td>s7770</td>\n",
              "      <td>Movie</td>\n",
              "      <td>Zindagi Na Milegi Dobara</td>\n",
              "      <td>Zoya Akhtar</td>\n",
              "      <td>Hrithik Roshan, Abhay Deol, Farhan Akhtar, Kat...</td>\n",
              "      <td>India</td>\n",
              "      <td>December 15, 2019</td>\n",
              "      <td>TV-14</td>\n",
              "      <td>154 min</td>\n",
              "      <td>Comedies, Dramas, International Movies</td>\n",
              "      <td>Three friends on an adventurous road trip/bach...</td>\n",
              "    </tr>\n",
              "    <tr>\n",
              "      <th>7785</th>\n",
              "      <td>s7784</td>\n",
              "      <td>Movie</td>\n",
              "      <td>Zubaan</td>\n",
              "      <td>Mozez Singh</td>\n",
              "      <td>Vicky Kaushal, Sarah-Jane Dias, Raaghav Chanan...</td>\n",
              "      <td>India</td>\n",
              "      <td>March 2, 2019</td>\n",
              "      <td>TV-14</td>\n",
              "      <td>111 min</td>\n",
              "      <td>Dramas, International Movies, Music &amp; Musicals</td>\n",
              "      <td>A scrappy but poor boy worms his way into a ty...</td>\n",
              "    </tr>\n",
              "  </tbody>\n",
              "</table>\n",
              "<p>1272 rows × 11 columns</p>\n",
              "</div>"
            ],
            "text/plain": [
              "     Show_Id  ...                                        Description\n",
              "8         s9  ...  When a doctor goes missing, his psychiatrist w...\n",
              "15       s16  ...  Against the backdrop of Nigeria's looming inde...\n",
              "18       s19  ...  On India's Independence Day, a zany mishap in ...\n",
              "20       s21  ...  After accidentally connecting over the Interne...\n",
              "21       s22  ...  A taxi driver, a gangster and an athlete strug...\n",
              "...      ...  ...                                                ...\n",
              "7765   s7764  ...  A change in the leadership of a political part...\n",
              "7766   s7765  ...  Through his relationships with two wildly diff...\n",
              "7770   s7769  ...  Two young parents struggle to keep their marri...\n",
              "7771   s7770  ...  Three friends on an adventurous road trip/bach...\n",
              "7785   s7784  ...  A scrappy but poor boy worms his way into a ty...\n",
              "\n",
              "[1272 rows x 11 columns]"
            ]
          },
          "metadata": {
            "tags": []
          },
          "execution_count": 25
        }
      ]
    },
    {
      "cell_type": "code",
      "metadata": {
        "colab": {
          "base_uri": "https://localhost:8080/"
        },
        "id": "nMX_fToouKzJ",
        "outputId": "3cf576ff-298a-46ae-d1eb-574991a505a5"
      },
      "source": [
        "data[(data['Category'] == 'Movie') & (data['Rating'] == 'TV-14')].shape #To show the rows and columsn of the above data "
      ],
      "execution_count": 21,
      "outputs": [
        {
          "output_type": "execute_result",
          "data": {
            "text/plain": [
              "(1272, 11)"
            ]
          },
          "metadata": {
            "tags": []
          },
          "execution_count": 21
        }
      ]
    },
    {
      "cell_type": "code",
      "metadata": {
        "colab": {
          "base_uri": "https://localhost:8080/",
          "height": 577
        },
        "id": "wNGF0CXxuYrZ",
        "outputId": "3267bb2c-c163-4841-8ade-d62cecfa9b10"
      },
      "source": [
        "data[(data['Category'] == 'Movie') & (data['Rating'] == 'TV-14') & (data['Country']=='Canada')] #Included the country (in this case its canada)"
      ],
      "execution_count": 28,
      "outputs": [
        {
          "output_type": "execute_result",
          "data": {
            "text/html": [
              "<div>\n",
              "<style scoped>\n",
              "    .dataframe tbody tr th:only-of-type {\n",
              "        vertical-align: middle;\n",
              "    }\n",
              "\n",
              "    .dataframe tbody tr th {\n",
              "        vertical-align: top;\n",
              "    }\n",
              "\n",
              "    .dataframe thead th {\n",
              "        text-align: right;\n",
              "    }\n",
              "</style>\n",
              "<table border=\"1\" class=\"dataframe\">\n",
              "  <thead>\n",
              "    <tr style=\"text-align: right;\">\n",
              "      <th></th>\n",
              "      <th>Show_Id</th>\n",
              "      <th>Category</th>\n",
              "      <th>Title</th>\n",
              "      <th>Director</th>\n",
              "      <th>Cast</th>\n",
              "      <th>Country</th>\n",
              "      <th>Release_Date</th>\n",
              "      <th>Rating</th>\n",
              "      <th>Duration</th>\n",
              "      <th>Type</th>\n",
              "      <th>Description</th>\n",
              "    </tr>\n",
              "  </thead>\n",
              "  <tbody>\n",
              "    <tr>\n",
              "      <th>30</th>\n",
              "      <td>s31</td>\n",
              "      <td>Movie</td>\n",
              "      <td>#cats_the_mewvie</td>\n",
              "      <td>Michael Margolis</td>\n",
              "      <td>NaN</td>\n",
              "      <td>Canada</td>\n",
              "      <td>February 5, 2020</td>\n",
              "      <td>TV-14</td>\n",
              "      <td>90 min</td>\n",
              "      <td>Documentaries, International Movies</td>\n",
              "      <td>This pawesome documentary explores how our fel...</td>\n",
              "    </tr>\n",
              "    <tr>\n",
              "      <th>34</th>\n",
              "      <td>s35</td>\n",
              "      <td>Movie</td>\n",
              "      <td>#Roxy</td>\n",
              "      <td>Michael Kennedy</td>\n",
              "      <td>Jake Short, Sarah Fisher, Booboo Stewart, Dann...</td>\n",
              "      <td>Canada</td>\n",
              "      <td>April 10, 2019</td>\n",
              "      <td>TV-14</td>\n",
              "      <td>105 min</td>\n",
              "      <td>Comedies, Romantic Movies</td>\n",
              "      <td>A teenage hacker with a huge nose helps a cool...</td>\n",
              "    </tr>\n",
              "    <tr>\n",
              "      <th>608</th>\n",
              "      <td>s609</td>\n",
              "      <td>Movie</td>\n",
              "      <td>At First Light</td>\n",
              "      <td>Jason Stone</td>\n",
              "      <td>Stefanie Scott, Theodore Pellerin, Percy Hynes...</td>\n",
              "      <td>Canada</td>\n",
              "      <td>December 27, 2018</td>\n",
              "      <td>TV-14</td>\n",
              "      <td>91 min</td>\n",
              "      <td>Dramas, Sci-Fi &amp; Fantasy</td>\n",
              "      <td>After mysterious lights imbue her with extraor...</td>\n",
              "    </tr>\n",
              "    <tr>\n",
              "      <th>1506</th>\n",
              "      <td>s1507</td>\n",
              "      <td>Movie</td>\n",
              "      <td>Counterfeiting in Suburbia</td>\n",
              "      <td>Jason Bourque</td>\n",
              "      <td>Sarah Butler, Larissa Albuquerque, Kayla Walla...</td>\n",
              "      <td>Canada</td>\n",
              "      <td>July 1, 2018</td>\n",
              "      <td>TV-14</td>\n",
              "      <td>88 min</td>\n",
              "      <td>Dramas, Thrillers</td>\n",
              "      <td>Two teenagers print counterfeit money in their...</td>\n",
              "    </tr>\n",
              "    <tr>\n",
              "      <th>3713</th>\n",
              "      <td>s3714</td>\n",
              "      <td>Movie</td>\n",
              "      <td>Long Time Running</td>\n",
              "      <td>Jennifer Baichwal, Nicholas de Pencier</td>\n",
              "      <td>Gord Downie, Paul Langlois, Gord Sinclair, Rob...</td>\n",
              "      <td>Canada</td>\n",
              "      <td>November 12, 2017</td>\n",
              "      <td>TV-14</td>\n",
              "      <td>96 min</td>\n",
              "      <td>Documentaries, International Movies, Music &amp; M...</td>\n",
              "      <td>This documentary follows the 2016 tour of belo...</td>\n",
              "    </tr>\n",
              "    <tr>\n",
              "      <th>3956</th>\n",
              "      <td>s3957</td>\n",
              "      <td>Movie</td>\n",
              "      <td>Martin Matte: La vie, la mort...eh la la..!</td>\n",
              "      <td>Jean-François Blais</td>\n",
              "      <td>Martin Matte</td>\n",
              "      <td>Canada</td>\n",
              "      <td>October 14, 2019</td>\n",
              "      <td>TV-14</td>\n",
              "      <td>62 min</td>\n",
              "      <td>Stand-Up Comedy</td>\n",
              "      <td>Quebecois comedy star Martin Matte serves up e...</td>\n",
              "    </tr>\n",
              "    <tr>\n",
              "      <th>5336</th>\n",
              "      <td>s5336</td>\n",
              "      <td>Movie</td>\n",
              "      <td>Sadie's Last Days on Earth</td>\n",
              "      <td>Michael Seater</td>\n",
              "      <td>Morgan Taylor Campbell, Clark Backo, Ricardo H...</td>\n",
              "      <td>Canada</td>\n",
              "      <td>August 22, 2017</td>\n",
              "      <td>TV-14</td>\n",
              "      <td>94 min</td>\n",
              "      <td>Comedies, Sci-Fi &amp; Fantasy</td>\n",
              "      <td>High schooler Sadie Mitchell believes the worl...</td>\n",
              "    </tr>\n",
              "    <tr>\n",
              "      <th>5393</th>\n",
              "      <td>s5393</td>\n",
              "      <td>Movie</td>\n",
              "      <td>Sardaar ji</td>\n",
              "      <td>Rohit Jugraj</td>\n",
              "      <td>Diljit Dosanjh, Neeru Bajwa, Mandy Takhar, Jas...</td>\n",
              "      <td>Canada</td>\n",
              "      <td>December 1, 2017</td>\n",
              "      <td>TV-14</td>\n",
              "      <td>140 min</td>\n",
              "      <td>Comedies, International Movies, Music &amp; Musicals</td>\n",
              "      <td>When a palatial wedding venue turns out to be ...</td>\n",
              "    </tr>\n",
              "    <tr>\n",
              "      <th>6062</th>\n",
              "      <td>s6062</td>\n",
              "      <td>Movie</td>\n",
              "      <td>The Accountant of Auschwitz</td>\n",
              "      <td>Matthew Shoychet</td>\n",
              "      <td>NaN</td>\n",
              "      <td>Canada</td>\n",
              "      <td>July 1, 2019</td>\n",
              "      <td>TV-14</td>\n",
              "      <td>78 min</td>\n",
              "      <td>Documentaries, International Movies</td>\n",
              "      <td>Decades after WWII, a former SS officer stands...</td>\n",
              "    </tr>\n",
              "    <tr>\n",
              "      <th>7025</th>\n",
              "      <td>s7024</td>\n",
              "      <td>Movie</td>\n",
              "      <td>The Wrong Babysitter</td>\n",
              "      <td>George Mendeluk</td>\n",
              "      <td>Daphne Zuniga, Seann Gallagher, Lisa Marie Car...</td>\n",
              "      <td>Canada</td>\n",
              "      <td>June 18, 2019</td>\n",
              "      <td>TV-14</td>\n",
              "      <td>89 min</td>\n",
              "      <td>Thrillers</td>\n",
              "      <td>A widow searches for her missing teenage daugh...</td>\n",
              "    </tr>\n",
              "    <tr>\n",
              "      <th>7041</th>\n",
              "      <td>s7040</td>\n",
              "      <td>Movie</td>\n",
              "      <td>There's Something in the Water</td>\n",
              "      <td>Ellen Page, Ian Daniel</td>\n",
              "      <td>Ellen Page</td>\n",
              "      <td>Canada</td>\n",
              "      <td>March 27, 2020</td>\n",
              "      <td>TV-14</td>\n",
              "      <td>72 min</td>\n",
              "      <td>Documentaries, International Movies</td>\n",
              "      <td>This documentary spotlights the struggle of mi...</td>\n",
              "    </tr>\n",
              "  </tbody>\n",
              "</table>\n",
              "</div>"
            ],
            "text/plain": [
              "     Show_Id  ...                                        Description\n",
              "30       s31  ...  This pawesome documentary explores how our fel...\n",
              "34       s35  ...  A teenage hacker with a huge nose helps a cool...\n",
              "608     s609  ...  After mysterious lights imbue her with extraor...\n",
              "1506   s1507  ...  Two teenagers print counterfeit money in their...\n",
              "3713   s3714  ...  This documentary follows the 2016 tour of belo...\n",
              "3956   s3957  ...  Quebecois comedy star Martin Matte serves up e...\n",
              "5336   s5336  ...  High schooler Sadie Mitchell believes the worl...\n",
              "5393   s5393  ...  When a palatial wedding venue turns out to be ...\n",
              "6062   s6062  ...  Decades after WWII, a former SS officer stands...\n",
              "7025   s7024  ...  A widow searches for her missing teenage daugh...\n",
              "7041   s7040  ...  This documentary spotlights the struggle of mi...\n",
              "\n",
              "[11 rows x 11 columns]"
            ]
          },
          "metadata": {
            "tags": []
          },
          "execution_count": 28
        }
      ]
    },
    {
      "cell_type": "code",
      "metadata": {
        "colab": {
          "base_uri": "https://localhost:8080/"
        },
        "id": "aaE6j1w7unO3",
        "outputId": "c560282b-d8a4-42d7-d227-cfc30505b6a5"
      },
      "source": [
        "data[(data['Category'] == 'Movie') & (data['Rating'] == 'TV-14') & (data['Country']=='Canada')].shape #Number of records with this condition valid "
      ],
      "execution_count": 30,
      "outputs": [
        {
          "output_type": "execute_result",
          "data": {
            "text/plain": [
              "(11, 11)"
            ]
          },
          "metadata": {
            "tags": []
          },
          "execution_count": 30
        }
      ]
    },
    {
      "cell_type": "code",
      "metadata": {
        "id": "sDOwdXdBvhs6"
      },
      "source": [
        "#TV Shows with \"R\" rating "
      ],
      "execution_count": 31,
      "outputs": []
    },
    {
      "cell_type": "code",
      "metadata": {
        "colab": {
          "base_uri": "https://localhost:8080/",
          "height": 193
        },
        "id": "aN-g5JVWvoCf",
        "outputId": "9c29d54a-e8b4-4b49-ceba-4cb075c02ee2"
      },
      "source": [
        "data.head(3) #Reference data"
      ],
      "execution_count": 33,
      "outputs": [
        {
          "output_type": "execute_result",
          "data": {
            "text/html": [
              "<div>\n",
              "<style scoped>\n",
              "    .dataframe tbody tr th:only-of-type {\n",
              "        vertical-align: middle;\n",
              "    }\n",
              "\n",
              "    .dataframe tbody tr th {\n",
              "        vertical-align: top;\n",
              "    }\n",
              "\n",
              "    .dataframe thead th {\n",
              "        text-align: right;\n",
              "    }\n",
              "</style>\n",
              "<table border=\"1\" class=\"dataframe\">\n",
              "  <thead>\n",
              "    <tr style=\"text-align: right;\">\n",
              "      <th></th>\n",
              "      <th>Show_Id</th>\n",
              "      <th>Category</th>\n",
              "      <th>Title</th>\n",
              "      <th>Director</th>\n",
              "      <th>Cast</th>\n",
              "      <th>Country</th>\n",
              "      <th>Release_Date</th>\n",
              "      <th>Rating</th>\n",
              "      <th>Duration</th>\n",
              "      <th>Type</th>\n",
              "      <th>Description</th>\n",
              "    </tr>\n",
              "  </thead>\n",
              "  <tbody>\n",
              "    <tr>\n",
              "      <th>0</th>\n",
              "      <td>s1</td>\n",
              "      <td>TV Show</td>\n",
              "      <td>3%</td>\n",
              "      <td>NaN</td>\n",
              "      <td>João Miguel, Bianca Comparato, Michel Gomes, R...</td>\n",
              "      <td>Brazil</td>\n",
              "      <td>August 14, 2020</td>\n",
              "      <td>TV-MA</td>\n",
              "      <td>4 Seasons</td>\n",
              "      <td>International TV Shows, TV Dramas, TV Sci-Fi &amp;...</td>\n",
              "      <td>In a future where the elite inhabit an island ...</td>\n",
              "    </tr>\n",
              "    <tr>\n",
              "      <th>1</th>\n",
              "      <td>s2</td>\n",
              "      <td>Movie</td>\n",
              "      <td>07:19</td>\n",
              "      <td>Jorge Michel Grau</td>\n",
              "      <td>Demián Bichir, Héctor Bonilla, Oscar Serrano, ...</td>\n",
              "      <td>Mexico</td>\n",
              "      <td>December 23, 2016</td>\n",
              "      <td>TV-MA</td>\n",
              "      <td>93 min</td>\n",
              "      <td>Dramas, International Movies</td>\n",
              "      <td>After a devastating earthquake hits Mexico Cit...</td>\n",
              "    </tr>\n",
              "    <tr>\n",
              "      <th>2</th>\n",
              "      <td>s3</td>\n",
              "      <td>Movie</td>\n",
              "      <td>23:59</td>\n",
              "      <td>Gilbert Chan</td>\n",
              "      <td>Tedd Chan, Stella Chung, Henley Hii, Lawrence ...</td>\n",
              "      <td>Singapore</td>\n",
              "      <td>December 20, 2018</td>\n",
              "      <td>R</td>\n",
              "      <td>78 min</td>\n",
              "      <td>Horror Movies, International Movies</td>\n",
              "      <td>When an army recruit is found dead, his fellow...</td>\n",
              "    </tr>\n",
              "  </tbody>\n",
              "</table>\n",
              "</div>"
            ],
            "text/plain": [
              "  Show_Id  ...                                        Description\n",
              "0      s1  ...  In a future where the elite inhabit an island ...\n",
              "1      s2  ...  After a devastating earthquake hits Mexico Cit...\n",
              "2      s3  ...  When an army recruit is found dead, his fellow...\n",
              "\n",
              "[3 rows x 11 columns]"
            ]
          },
          "metadata": {
            "tags": []
          },
          "execution_count": 33
        }
      ]
    },
    {
      "cell_type": "code",
      "metadata": {
        "colab": {
          "base_uri": "https://localhost:8080/",
          "height": 145
        },
        "id": "5uifEvt_vqh8",
        "outputId": "f23a6473-749f-4f7c-8b67-5f2fd66ec678"
      },
      "source": [
        "data[(data['Category'] == 'TV Show') & (data['Rating'] == 'R')] #Shows the records "
      ],
      "execution_count": 38,
      "outputs": [
        {
          "output_type": "execute_result",
          "data": {
            "text/html": [
              "<div>\n",
              "<style scoped>\n",
              "    .dataframe tbody tr th:only-of-type {\n",
              "        vertical-align: middle;\n",
              "    }\n",
              "\n",
              "    .dataframe tbody tr th {\n",
              "        vertical-align: top;\n",
              "    }\n",
              "\n",
              "    .dataframe thead th {\n",
              "        text-align: right;\n",
              "    }\n",
              "</style>\n",
              "<table border=\"1\" class=\"dataframe\">\n",
              "  <thead>\n",
              "    <tr style=\"text-align: right;\">\n",
              "      <th></th>\n",
              "      <th>Show_Id</th>\n",
              "      <th>Category</th>\n",
              "      <th>Title</th>\n",
              "      <th>Director</th>\n",
              "      <th>Cast</th>\n",
              "      <th>Country</th>\n",
              "      <th>Release_Date</th>\n",
              "      <th>Rating</th>\n",
              "      <th>Duration</th>\n",
              "      <th>Type</th>\n",
              "      <th>Description</th>\n",
              "    </tr>\n",
              "  </thead>\n",
              "  <tbody>\n",
              "    <tr>\n",
              "      <th>4497</th>\n",
              "      <td>s4498</td>\n",
              "      <td>TV Show</td>\n",
              "      <td>Nobel</td>\n",
              "      <td>NaN</td>\n",
              "      <td>Aksel Hennie, Tuva Novotny, Anders Danielsen L...</td>\n",
              "      <td>Norway</td>\n",
              "      <td>December 10, 2016</td>\n",
              "      <td>R</td>\n",
              "      <td>1 Season</td>\n",
              "      <td>International TV Shows, TV Dramas, TV Thrillers</td>\n",
              "      <td>A series of incidents in Afghanistan set compl...</td>\n",
              "    </tr>\n",
              "    <tr>\n",
              "      <th>6437</th>\n",
              "      <td>s6436</td>\n",
              "      <td>TV Show</td>\n",
              "      <td>The Hateful Eight: Extended Version</td>\n",
              "      <td>Quentin Tarantino</td>\n",
              "      <td>Samuel L. Jackson, Kurt Russell, Jennifer Jaso...</td>\n",
              "      <td>NaN</td>\n",
              "      <td>April 25, 2019</td>\n",
              "      <td>R</td>\n",
              "      <td>1 Season</td>\n",
              "      <td>TV Shows</td>\n",
              "      <td>Trapped at a stagecoach stop as a storm rages ...</td>\n",
              "    </tr>\n",
              "  </tbody>\n",
              "</table>\n",
              "</div>"
            ],
            "text/plain": [
              "     Show_Id  ...                                        Description\n",
              "4497   s4498  ...  A series of incidents in Afghanistan set compl...\n",
              "6437   s6436  ...  Trapped at a stagecoach stop as a storm rages ...\n",
              "\n",
              "[2 rows x 11 columns]"
            ]
          },
          "metadata": {
            "tags": []
          },
          "execution_count": 38
        }
      ]
    },
    {
      "cell_type": "code",
      "metadata": {
        "id": "rZNoEC4S0L8p"
      },
      "source": [
        "#Maximum duration of a movie/show on Netflix"
      ],
      "execution_count": 40,
      "outputs": []
    },
    {
      "cell_type": "code",
      "metadata": {
        "colab": {
          "base_uri": "https://localhost:8080/",
          "height": 193
        },
        "id": "7-KOQNZP0ePR",
        "outputId": "cdb1a7ba-e32b-41f3-a12b-856bd4a69c92"
      },
      "source": [
        "data.head(3) #Data for reference "
      ],
      "execution_count": 41,
      "outputs": [
        {
          "output_type": "execute_result",
          "data": {
            "text/html": [
              "<div>\n",
              "<style scoped>\n",
              "    .dataframe tbody tr th:only-of-type {\n",
              "        vertical-align: middle;\n",
              "    }\n",
              "\n",
              "    .dataframe tbody tr th {\n",
              "        vertical-align: top;\n",
              "    }\n",
              "\n",
              "    .dataframe thead th {\n",
              "        text-align: right;\n",
              "    }\n",
              "</style>\n",
              "<table border=\"1\" class=\"dataframe\">\n",
              "  <thead>\n",
              "    <tr style=\"text-align: right;\">\n",
              "      <th></th>\n",
              "      <th>Show_Id</th>\n",
              "      <th>Category</th>\n",
              "      <th>Title</th>\n",
              "      <th>Director</th>\n",
              "      <th>Cast</th>\n",
              "      <th>Country</th>\n",
              "      <th>Release_Date</th>\n",
              "      <th>Rating</th>\n",
              "      <th>Duration</th>\n",
              "      <th>Type</th>\n",
              "      <th>Description</th>\n",
              "    </tr>\n",
              "  </thead>\n",
              "  <tbody>\n",
              "    <tr>\n",
              "      <th>0</th>\n",
              "      <td>s1</td>\n",
              "      <td>TV Show</td>\n",
              "      <td>3%</td>\n",
              "      <td>NaN</td>\n",
              "      <td>João Miguel, Bianca Comparato, Michel Gomes, R...</td>\n",
              "      <td>Brazil</td>\n",
              "      <td>August 14, 2020</td>\n",
              "      <td>TV-MA</td>\n",
              "      <td>4 Seasons</td>\n",
              "      <td>International TV Shows, TV Dramas, TV Sci-Fi &amp;...</td>\n",
              "      <td>In a future where the elite inhabit an island ...</td>\n",
              "    </tr>\n",
              "    <tr>\n",
              "      <th>1</th>\n",
              "      <td>s2</td>\n",
              "      <td>Movie</td>\n",
              "      <td>07:19</td>\n",
              "      <td>Jorge Michel Grau</td>\n",
              "      <td>Demián Bichir, Héctor Bonilla, Oscar Serrano, ...</td>\n",
              "      <td>Mexico</td>\n",
              "      <td>December 23, 2016</td>\n",
              "      <td>TV-MA</td>\n",
              "      <td>93 min</td>\n",
              "      <td>Dramas, International Movies</td>\n",
              "      <td>After a devastating earthquake hits Mexico Cit...</td>\n",
              "    </tr>\n",
              "    <tr>\n",
              "      <th>2</th>\n",
              "      <td>s3</td>\n",
              "      <td>Movie</td>\n",
              "      <td>23:59</td>\n",
              "      <td>Gilbert Chan</td>\n",
              "      <td>Tedd Chan, Stella Chung, Henley Hii, Lawrence ...</td>\n",
              "      <td>Singapore</td>\n",
              "      <td>December 20, 2018</td>\n",
              "      <td>R</td>\n",
              "      <td>78 min</td>\n",
              "      <td>Horror Movies, International Movies</td>\n",
              "      <td>When an army recruit is found dead, his fellow...</td>\n",
              "    </tr>\n",
              "  </tbody>\n",
              "</table>\n",
              "</div>"
            ],
            "text/plain": [
              "  Show_Id  ...                                        Description\n",
              "0      s1  ...  In a future where the elite inhabit an island ...\n",
              "1      s2  ...  After a devastating earthquake hits Mexico Cit...\n",
              "2      s3  ...  When an army recruit is found dead, his fellow...\n",
              "\n",
              "[3 rows x 11 columns]"
            ]
          },
          "metadata": {
            "tags": []
          },
          "execution_count": 41
        }
      ]
    },
    {
      "cell_type": "code",
      "metadata": {
        "colab": {
          "base_uri": "https://localhost:8080/"
        },
        "id": "YttNwFJO0hcS",
        "outputId": "1cc9f891-2c0f-4533-8cda-d5802ccacb58"
      },
      "source": [
        "data['Duration'].unique() #Finding unique values of Duration "
      ],
      "execution_count": 43,
      "outputs": [
        {
          "output_type": "execute_result",
          "data": {
            "text/plain": [
              "array(['4 Seasons', '93 min', '78 min', '80 min', '123 min', '1 Season',\n",
              "       '95 min', '119 min', '118 min', '143 min', '103 min', '89 min',\n",
              "       '91 min', '149 min', '144 min', '124 min', '87 min', '110 min',\n",
              "       '128 min', '117 min', '100 min', '2 Seasons', '84 min', '99 min',\n",
              "       '90 min', '102 min', '104 min', '105 min', '56 min', '125 min',\n",
              "       '81 min', '97 min', '106 min', '107 min', '109 min', '44 min',\n",
              "       '75 min', '101 min', '3 Seasons', '37 min', '113 min', '114 min',\n",
              "       '130 min', '94 min', '140 min', '135 min', '82 min', '70 min',\n",
              "       '121 min', '92 min', '164 min', '53 min', '83 min', '116 min',\n",
              "       '86 min', '120 min', '96 min', '126 min', '129 min', '77 min',\n",
              "       '137 min', '148 min', '28 min', '122 min', '176 min', '85 min',\n",
              "       '22 min', '68 min', '111 min', '29 min', '142 min', '168 min',\n",
              "       '21 min', '59 min', '20 min', '98 min', '108 min', '76 min',\n",
              "       '26 min', '156 min', '30 min', '57 min', '150 min', '133 min',\n",
              "       '115 min', '154 min', '127 min', '146 min', '136 min', '88 min',\n",
              "       '131 min', '24 min', '112 min', '74 min', '63 min', '38 min',\n",
              "       '25 min', '174 min', '60 min', '153 min', '158 min', '151 min',\n",
              "       '162 min', '54 min', '51 min', '69 min', '64 min', '147 min',\n",
              "       '42 min', '79 min', '5 Seasons', '40 min', '45 min', '172 min',\n",
              "       '10 min', '163 min', '9 Seasons', '55 min', '72 min', '61 min',\n",
              "       '71 min', '160 min', '171 min', '48 min', '139 min', '157 min',\n",
              "       '15 min', '65 min', '134 min', '161 min', '62 min', '8 Seasons',\n",
              "       '186 min', '49 min', '73 min', '58 min', '165 min', '166 min',\n",
              "       '138 min', '159 min', '141 min', '132 min', '52 min', '67 min',\n",
              "       '34 min', '66 min', '312 min', '180 min', '47 min', '6 Seasons',\n",
              "       '155 min', '14 min', '177 min', '11 min', '9 min', '46 min',\n",
              "       '145 min', '11 Seasons', '7 Seasons', '13 Seasons', '8 min',\n",
              "       '12 min', '12 Seasons', '10 Seasons', '43 min', '50 min', '23 min',\n",
              "       '185 min', '200 min', '169 min', '27 min', '170 min', '196 min',\n",
              "       '33 min', '181 min', '204 min', '32 min', '35 min', '167 min',\n",
              "       '16 Seasons', '179 min', '193 min', '13 min', '214 min', '17 min',\n",
              "       '173 min', '192 min', '209 min', '187 min', '41 min', '182 min',\n",
              "       '224 min', '233 min', '189 min', '152 min', '19 min', '15 Seasons',\n",
              "       '208 min', '237 min', '31 min', '178 min', '230 min', '194 min',\n",
              "       '228 min', '195 min', '3 min', '16 min', '5 min', '18 min',\n",
              "       '205 min', '190 min', '36 min', '201 min', '253 min', '203 min',\n",
              "       '191 min'], dtype=object)"
            ]
          },
          "metadata": {
            "tags": []
          },
          "execution_count": 43
        }
      ]
    },
    {
      "cell_type": "code",
      "metadata": {
        "colab": {
          "base_uri": "https://localhost:8080/",
          "height": 35
        },
        "id": "fTEZhJKj1Pla",
        "outputId": "09e6e8b4-124d-4cb1-ca8f-703ceb414c61"
      },
      "source": [
        "data.Duration.max() #Maximum duration "
      ],
      "execution_count": 51,
      "outputs": [
        {
          "output_type": "execute_result",
          "data": {
            "application/vnd.google.colaboratory.intrinsic+json": {
              "type": "string"
            },
            "text/plain": [
              "'99 min'"
            ]
          },
          "metadata": {
            "tags": []
          },
          "execution_count": 51
        }
      ]
    },
    {
      "cell_type": "code",
      "metadata": {
        "id": "-Qh7UBRs2Byc"
      },
      "source": [
        "#Which country has the highest TV Shows "
      ],
      "execution_count": 53,
      "outputs": []
    },
    {
      "cell_type": "code",
      "metadata": {
        "colab": {
          "base_uri": "https://localhost:8080/",
          "height": 145
        },
        "id": "xp9hhQAW2L3W",
        "outputId": "8e9f6d62-2fd2-4165-cbc0-3553c8854a9f"
      },
      "source": [
        "data.head(2)"
      ],
      "execution_count": 54,
      "outputs": [
        {
          "output_type": "execute_result",
          "data": {
            "text/html": [
              "<div>\n",
              "<style scoped>\n",
              "    .dataframe tbody tr th:only-of-type {\n",
              "        vertical-align: middle;\n",
              "    }\n",
              "\n",
              "    .dataframe tbody tr th {\n",
              "        vertical-align: top;\n",
              "    }\n",
              "\n",
              "    .dataframe thead th {\n",
              "        text-align: right;\n",
              "    }\n",
              "</style>\n",
              "<table border=\"1\" class=\"dataframe\">\n",
              "  <thead>\n",
              "    <tr style=\"text-align: right;\">\n",
              "      <th></th>\n",
              "      <th>Show_Id</th>\n",
              "      <th>Category</th>\n",
              "      <th>Title</th>\n",
              "      <th>Director</th>\n",
              "      <th>Cast</th>\n",
              "      <th>Country</th>\n",
              "      <th>Release_Date</th>\n",
              "      <th>Rating</th>\n",
              "      <th>Duration</th>\n",
              "      <th>Type</th>\n",
              "      <th>Description</th>\n",
              "    </tr>\n",
              "  </thead>\n",
              "  <tbody>\n",
              "    <tr>\n",
              "      <th>0</th>\n",
              "      <td>s1</td>\n",
              "      <td>TV Show</td>\n",
              "      <td>3%</td>\n",
              "      <td>NaN</td>\n",
              "      <td>João Miguel, Bianca Comparato, Michel Gomes, R...</td>\n",
              "      <td>Brazil</td>\n",
              "      <td>August 14, 2020</td>\n",
              "      <td>TV-MA</td>\n",
              "      <td>4 Seasons</td>\n",
              "      <td>International TV Shows, TV Dramas, TV Sci-Fi &amp;...</td>\n",
              "      <td>In a future where the elite inhabit an island ...</td>\n",
              "    </tr>\n",
              "    <tr>\n",
              "      <th>1</th>\n",
              "      <td>s2</td>\n",
              "      <td>Movie</td>\n",
              "      <td>07:19</td>\n",
              "      <td>Jorge Michel Grau</td>\n",
              "      <td>Demián Bichir, Héctor Bonilla, Oscar Serrano, ...</td>\n",
              "      <td>Mexico</td>\n",
              "      <td>December 23, 2016</td>\n",
              "      <td>TV-MA</td>\n",
              "      <td>93 min</td>\n",
              "      <td>Dramas, International Movies</td>\n",
              "      <td>After a devastating earthquake hits Mexico Cit...</td>\n",
              "    </tr>\n",
              "  </tbody>\n",
              "</table>\n",
              "</div>"
            ],
            "text/plain": [
              "  Show_Id  ...                                        Description\n",
              "0      s1  ...  In a future where the elite inhabit an island ...\n",
              "1      s2  ...  After a devastating earthquake hits Mexico Cit...\n",
              "\n",
              "[2 rows x 11 columns]"
            ]
          },
          "metadata": {
            "tags": []
          },
          "execution_count": 54
        }
      ]
    },
    {
      "cell_type": "code",
      "metadata": {
        "id": "rdJyoiZv2NJE"
      },
      "source": [
        "data_tvshow = data[data['Category']=='TV Show'] #Declaring a new dataframe "
      ],
      "execution_count": 57,
      "outputs": []
    },
    {
      "cell_type": "code",
      "metadata": {
        "colab": {
          "base_uri": "https://localhost:8080/",
          "height": 145
        },
        "id": "lGYXvQvw2aPx",
        "outputId": "59104ee8-8d8e-4d04-e52e-ea801eebf510"
      },
      "source": [
        "data_tvshow.head(2) #Checking the new dataframe "
      ],
      "execution_count": 56,
      "outputs": [
        {
          "output_type": "execute_result",
          "data": {
            "text/html": [
              "<div>\n",
              "<style scoped>\n",
              "    .dataframe tbody tr th:only-of-type {\n",
              "        vertical-align: middle;\n",
              "    }\n",
              "\n",
              "    .dataframe tbody tr th {\n",
              "        vertical-align: top;\n",
              "    }\n",
              "\n",
              "    .dataframe thead th {\n",
              "        text-align: right;\n",
              "    }\n",
              "</style>\n",
              "<table border=\"1\" class=\"dataframe\">\n",
              "  <thead>\n",
              "    <tr style=\"text-align: right;\">\n",
              "      <th></th>\n",
              "      <th>Show_Id</th>\n",
              "      <th>Category</th>\n",
              "      <th>Title</th>\n",
              "      <th>Director</th>\n",
              "      <th>Cast</th>\n",
              "      <th>Country</th>\n",
              "      <th>Release_Date</th>\n",
              "      <th>Rating</th>\n",
              "      <th>Duration</th>\n",
              "      <th>Type</th>\n",
              "      <th>Description</th>\n",
              "    </tr>\n",
              "  </thead>\n",
              "  <tbody>\n",
              "    <tr>\n",
              "      <th>0</th>\n",
              "      <td>s1</td>\n",
              "      <td>TV Show</td>\n",
              "      <td>3%</td>\n",
              "      <td>NaN</td>\n",
              "      <td>João Miguel, Bianca Comparato, Michel Gomes, R...</td>\n",
              "      <td>Brazil</td>\n",
              "      <td>August 14, 2020</td>\n",
              "      <td>TV-MA</td>\n",
              "      <td>4 Seasons</td>\n",
              "      <td>International TV Shows, TV Dramas, TV Sci-Fi &amp;...</td>\n",
              "      <td>In a future where the elite inhabit an island ...</td>\n",
              "    </tr>\n",
              "    <tr>\n",
              "      <th>5</th>\n",
              "      <td>s6</td>\n",
              "      <td>TV Show</td>\n",
              "      <td>46</td>\n",
              "      <td>Serdar Akar</td>\n",
              "      <td>Erdal Beşikçioğlu, Yasemin Allen, Melis Birkan...</td>\n",
              "      <td>Turkey</td>\n",
              "      <td>July 1, 2017</td>\n",
              "      <td>TV-MA</td>\n",
              "      <td>1 Season</td>\n",
              "      <td>International TV Shows, TV Dramas, TV Mysteries</td>\n",
              "      <td>A genetics professor experiments with a treatm...</td>\n",
              "    </tr>\n",
              "  </tbody>\n",
              "</table>\n",
              "</div>"
            ],
            "text/plain": [
              "  Show_Id  ...                                        Description\n",
              "0      s1  ...  In a future where the elite inhabit an island ...\n",
              "5      s6  ...  A genetics professor experiments with a treatm...\n",
              "\n",
              "[2 rows x 11 columns]"
            ]
          },
          "metadata": {
            "tags": []
          },
          "execution_count": 56
        }
      ]
    },
    {
      "cell_type": "code",
      "metadata": {
        "colab": {
          "base_uri": "https://localhost:8080/"
        },
        "id": "_7gK-YCZ2f6b",
        "outputId": "e6cccaa4-6631-4111-a5be-278e15a15d92"
      },
      "source": [
        "data_tvshow.Country.value_counts() #Counting the TV shows from different regions "
      ],
      "execution_count": 59,
      "outputs": [
        {
          "output_type": "execute_result",
          "data": {
            "text/plain": [
              "United States                                  705\n",
              "United Kingdom                                 204\n",
              "Japan                                          157\n",
              "South Korea                                    147\n",
              "India                                           71\n",
              "                                              ... \n",
              "Japan, Canada                                    1\n",
              "China, Hong Kong                                 1\n",
              "China, United Kingdom                            1\n",
              "Saudi Arabia, Syria, Egypt, Lebanon, Kuwait      1\n",
              "United States, Russia                            1\n",
              "Name: Country, Length: 183, dtype: int64"
            ]
          },
          "metadata": {
            "tags": []
          },
          "execution_count": 59
        }
      ]
    },
    {
      "cell_type": "code",
      "metadata": {
        "id": "ySUMG5yM2nbq"
      },
      "source": [
        "#United States has the highest number of TV Shows "
      ],
      "execution_count": 61,
      "outputs": []
    },
    {
      "cell_type": "code",
      "metadata": {
        "id": "EU1h_OpW20-k"
      },
      "source": [
        "#Merging 2 or more conditions using AND OR operators"
      ],
      "execution_count": 73,
      "outputs": []
    },
    {
      "cell_type": "code",
      "metadata": {
        "colab": {
          "base_uri": "https://localhost:8080/",
          "height": 145
        },
        "id": "zvD5fwSC3lW1",
        "outputId": "f3618ae8-e776-43bd-dd11-e10271e6041f"
      },
      "source": [
        "data.head(2) #Viewing data for reference "
      ],
      "execution_count": 78,
      "outputs": [
        {
          "output_type": "execute_result",
          "data": {
            "text/html": [
              "<div>\n",
              "<style scoped>\n",
              "    .dataframe tbody tr th:only-of-type {\n",
              "        vertical-align: middle;\n",
              "    }\n",
              "\n",
              "    .dataframe tbody tr th {\n",
              "        vertical-align: top;\n",
              "    }\n",
              "\n",
              "    .dataframe thead th {\n",
              "        text-align: right;\n",
              "    }\n",
              "</style>\n",
              "<table border=\"1\" class=\"dataframe\">\n",
              "  <thead>\n",
              "    <tr style=\"text-align: right;\">\n",
              "      <th></th>\n",
              "      <th>Show_Id</th>\n",
              "      <th>Category</th>\n",
              "      <th>Title</th>\n",
              "      <th>Director</th>\n",
              "      <th>Cast</th>\n",
              "      <th>Country</th>\n",
              "      <th>Release_Date</th>\n",
              "      <th>Rating</th>\n",
              "      <th>Duration</th>\n",
              "      <th>Type</th>\n",
              "      <th>Description</th>\n",
              "    </tr>\n",
              "  </thead>\n",
              "  <tbody>\n",
              "    <tr>\n",
              "      <th>0</th>\n",
              "      <td>s1</td>\n",
              "      <td>TV Show</td>\n",
              "      <td>3%</td>\n",
              "      <td>NaN</td>\n",
              "      <td>João Miguel, Bianca Comparato, Michel Gomes, R...</td>\n",
              "      <td>Brazil</td>\n",
              "      <td>August 14, 2020</td>\n",
              "      <td>TV-MA</td>\n",
              "      <td>4 Seasons</td>\n",
              "      <td>International TV Shows, TV Dramas, TV Sci-Fi &amp;...</td>\n",
              "      <td>In a future where the elite inhabit an island ...</td>\n",
              "    </tr>\n",
              "    <tr>\n",
              "      <th>1</th>\n",
              "      <td>s2</td>\n",
              "      <td>Movie</td>\n",
              "      <td>07:19</td>\n",
              "      <td>Jorge Michel Grau</td>\n",
              "      <td>Demián Bichir, Héctor Bonilla, Oscar Serrano, ...</td>\n",
              "      <td>Mexico</td>\n",
              "      <td>December 23, 2016</td>\n",
              "      <td>TV-MA</td>\n",
              "      <td>93 min</td>\n",
              "      <td>Dramas, International Movies</td>\n",
              "      <td>After a devastating earthquake hits Mexico Cit...</td>\n",
              "    </tr>\n",
              "  </tbody>\n",
              "</table>\n",
              "</div>"
            ],
            "text/plain": [
              "  Show_Id  ...                                        Description\n",
              "0      s1  ...  In a future where the elite inhabit an island ...\n",
              "1      s2  ...  After a devastating earthquake hits Mexico Cit...\n",
              "\n",
              "[2 rows x 11 columns]"
            ]
          },
          "metadata": {
            "tags": []
          },
          "execution_count": 78
        }
      ]
    },
    {
      "cell_type": "code",
      "metadata": {
        "colab": {
          "base_uri": "https://localhost:8080/",
          "height": 589
        },
        "id": "AyWjwdwn4_Yr",
        "outputId": "501c536d-d5d9-4ce4-8083-f23d6051b6f2"
      },
      "source": [
        "data[(data['Category'] == 'Movie')&(data['Type']=='Dramas') | (data['Category'] =='TV Show') & (data['Type'] == 'Kids TV')] #Merged data using AND OR operator "
      ],
      "execution_count": 80,
      "outputs": [
        {
          "output_type": "execute_result",
          "data": {
            "text/html": [
              "<div>\n",
              "<style scoped>\n",
              "    .dataframe tbody tr th:only-of-type {\n",
              "        vertical-align: middle;\n",
              "    }\n",
              "\n",
              "    .dataframe tbody tr th {\n",
              "        vertical-align: top;\n",
              "    }\n",
              "\n",
              "    .dataframe thead th {\n",
              "        text-align: right;\n",
              "    }\n",
              "</style>\n",
              "<table border=\"1\" class=\"dataframe\">\n",
              "  <thead>\n",
              "    <tr style=\"text-align: right;\">\n",
              "      <th></th>\n",
              "      <th>Show_Id</th>\n",
              "      <th>Category</th>\n",
              "      <th>Title</th>\n",
              "      <th>Director</th>\n",
              "      <th>Cast</th>\n",
              "      <th>Country</th>\n",
              "      <th>Release_Date</th>\n",
              "      <th>Rating</th>\n",
              "      <th>Duration</th>\n",
              "      <th>Type</th>\n",
              "      <th>Description</th>\n",
              "    </tr>\n",
              "  </thead>\n",
              "  <tbody>\n",
              "    <tr>\n",
              "      <th>4</th>\n",
              "      <td>s5</td>\n",
              "      <td>Movie</td>\n",
              "      <td>21</td>\n",
              "      <td>Robert Luketic</td>\n",
              "      <td>Jim Sturgess, Kevin Spacey, Kate Bosworth, Aar...</td>\n",
              "      <td>United States</td>\n",
              "      <td>January 1, 2020</td>\n",
              "      <td>PG-13</td>\n",
              "      <td>123 min</td>\n",
              "      <td>Dramas</td>\n",
              "      <td>A brilliant group of students become card-coun...</td>\n",
              "    </tr>\n",
              "    <tr>\n",
              "      <th>7</th>\n",
              "      <td>s8</td>\n",
              "      <td>Movie</td>\n",
              "      <td>187</td>\n",
              "      <td>Kevin Reynolds</td>\n",
              "      <td>Samuel L. Jackson, John Heard, Kelly Rowan, Cl...</td>\n",
              "      <td>United States</td>\n",
              "      <td>November 1, 2019</td>\n",
              "      <td>R</td>\n",
              "      <td>119 min</td>\n",
              "      <td>Dramas</td>\n",
              "      <td>After one of his high school students attacks ...</td>\n",
              "    </tr>\n",
              "    <tr>\n",
              "      <th>170</th>\n",
              "      <td>s171</td>\n",
              "      <td>Movie</td>\n",
              "      <td>A Family Man</td>\n",
              "      <td>Mark Williams</td>\n",
              "      <td>Gerard Butler, Gretchen Mol, Alison Brie, Will...</td>\n",
              "      <td>Canada, United States</td>\n",
              "      <td>December 15, 2019</td>\n",
              "      <td>R</td>\n",
              "      <td>110 min</td>\n",
              "      <td>Dramas</td>\n",
              "      <td>A ruthless corporate headhunter battles his ri...</td>\n",
              "    </tr>\n",
              "    <tr>\n",
              "      <th>232</th>\n",
              "      <td>s233</td>\n",
              "      <td>Movie</td>\n",
              "      <td>A Stoning in Fulham County</td>\n",
              "      <td>Larry Elikann</td>\n",
              "      <td>Ken Olin, Jill Eikenberry, Maureen Mueller, Gr...</td>\n",
              "      <td>United States</td>\n",
              "      <td>October 1, 2011</td>\n",
              "      <td>TV-14</td>\n",
              "      <td>95 min</td>\n",
              "      <td>Dramas</td>\n",
              "      <td>After reckless teens kill an Amish child, a pr...</td>\n",
              "    </tr>\n",
              "    <tr>\n",
              "      <th>295</th>\n",
              "      <td>s296</td>\n",
              "      <td>Movie</td>\n",
              "      <td>Across Grace Alley</td>\n",
              "      <td>Ralph Macchio</td>\n",
              "      <td>Ben Hyland, Marsha Mason, Karina Smirnoff, Col...</td>\n",
              "      <td>United States</td>\n",
              "      <td>December 1, 2016</td>\n",
              "      <td>TV-PG</td>\n",
              "      <td>24 min</td>\n",
              "      <td>Dramas</td>\n",
              "      <td>A young boy, upset by his parents' divorce, be...</td>\n",
              "    </tr>\n",
              "    <tr>\n",
              "      <th>...</th>\n",
              "      <td>...</td>\n",
              "      <td>...</td>\n",
              "      <td>...</td>\n",
              "      <td>...</td>\n",
              "      <td>...</td>\n",
              "      <td>...</td>\n",
              "      <td>...</td>\n",
              "      <td>...</td>\n",
              "      <td>...</td>\n",
              "      <td>...</td>\n",
              "      <td>...</td>\n",
              "    </tr>\n",
              "    <tr>\n",
              "      <th>7417</th>\n",
              "      <td>s7416</td>\n",
              "      <td>Movie</td>\n",
              "      <td>Victor</td>\n",
              "      <td>Brandon Dickerson</td>\n",
              "      <td>Patrick Davis, Lisa Vidal, Josh Pence, José Zú...</td>\n",
              "      <td>United States</td>\n",
              "      <td>July 24, 2017</td>\n",
              "      <td>PG-13</td>\n",
              "      <td>110 min</td>\n",
              "      <td>Dramas</td>\n",
              "      <td>In 1962 Brooklyn, a Puerto Rican teen who join...</td>\n",
              "    </tr>\n",
              "    <tr>\n",
              "      <th>7422</th>\n",
              "      <td>s7421</td>\n",
              "      <td>Movie</td>\n",
              "      <td>Villain</td>\n",
              "      <td>Philip Barantini</td>\n",
              "      <td>Craig Fairbrass, George Russo, Robert Gleniste...</td>\n",
              "      <td>United Kingdom</td>\n",
              "      <td>September 5, 2020</td>\n",
              "      <td>R</td>\n",
              "      <td>97 min</td>\n",
              "      <td>Dramas</td>\n",
              "      <td>Fresh out of prison, an ex-con tries to save h...</td>\n",
              "    </tr>\n",
              "    <tr>\n",
              "      <th>7449</th>\n",
              "      <td>s7448</td>\n",
              "      <td>Movie</td>\n",
              "      <td>VS.</td>\n",
              "      <td>Ed Lilly</td>\n",
              "      <td>Connor Swindells, Fola Evans-Akingbola, Nichol...</td>\n",
              "      <td>United Kingdom</td>\n",
              "      <td>June 19, 2019</td>\n",
              "      <td>TV-MA</td>\n",
              "      <td>99 min</td>\n",
              "      <td>Dramas</td>\n",
              "      <td>A young man in foster care finds his voice in ...</td>\n",
              "    </tr>\n",
              "    <tr>\n",
              "      <th>7465</th>\n",
              "      <td>s7464</td>\n",
              "      <td>Movie</td>\n",
              "      <td>Wakefield</td>\n",
              "      <td>Robin Swicord</td>\n",
              "      <td>Bryan Cranston, Jennifer Garner, Jason O'Mara,...</td>\n",
              "      <td>United States</td>\n",
              "      <td>March 2, 2019</td>\n",
              "      <td>R</td>\n",
              "      <td>109 min</td>\n",
              "      <td>Dramas</td>\n",
              "      <td>An unhappy father and lawyer quits his suburba...</td>\n",
              "    </tr>\n",
              "    <tr>\n",
              "      <th>7480</th>\n",
              "      <td>s7479</td>\n",
              "      <td>Movie</td>\n",
              "      <td>War Horse</td>\n",
              "      <td>Steven Spielberg</td>\n",
              "      <td>Emily Watson, David Thewlis, Peter Mullan, Nie...</td>\n",
              "      <td>United States, India</td>\n",
              "      <td>May 6, 2019</td>\n",
              "      <td>PG-13</td>\n",
              "      <td>147 min</td>\n",
              "      <td>Dramas</td>\n",
              "      <td>During World War I, the bond between a young E...</td>\n",
              "    </tr>\n",
              "  </tbody>\n",
              "</table>\n",
              "<p>117 rows × 11 columns</p>\n",
              "</div>"
            ],
            "text/plain": [
              "     Show_Id  ...                                        Description\n",
              "4         s5  ...  A brilliant group of students become card-coun...\n",
              "7         s8  ...  After one of his high school students attacks ...\n",
              "170     s171  ...  A ruthless corporate headhunter battles his ri...\n",
              "232     s233  ...  After reckless teens kill an Amish child, a pr...\n",
              "295     s296  ...  A young boy, upset by his parents' divorce, be...\n",
              "...      ...  ...                                                ...\n",
              "7417   s7416  ...  In 1962 Brooklyn, a Puerto Rican teen who join...\n",
              "7422   s7421  ...  Fresh out of prison, an ex-con tries to save h...\n",
              "7449   s7448  ...  A young man in foster care finds his voice in ...\n",
              "7465   s7464  ...  An unhappy father and lawyer quits his suburba...\n",
              "7480   s7479  ...  During World War I, the bond between a young E...\n",
              "\n",
              "[117 rows x 11 columns]"
            ]
          },
          "metadata": {
            "tags": []
          },
          "execution_count": 80
        }
      ]
    },
    {
      "cell_type": "code",
      "metadata": {
        "colab": {
          "base_uri": "https://localhost:8080/"
        },
        "id": "CNYqddQb5lg7",
        "outputId": "329ea8ab-a691-4d24-e3bf-91a2233ee388"
      },
      "source": [
        "data[(data['Category'] == 'Movie')&(data['Type']=='Dramas') | (data['Category'] =='TV Show') & (data['Type'] == 'Kids TV')].shape#To confirm the number of rows and columsn of the filtered dataset"
      ],
      "execution_count": 81,
      "outputs": [
        {
          "output_type": "execute_result",
          "data": {
            "text/plain": [
              "(117, 11)"
            ]
          },
          "metadata": {
            "tags": []
          },
          "execution_count": 81
        }
      ]
    }
  ]
}