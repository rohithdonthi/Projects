{
  "nbformat": 4,
  "nbformat_minor": 0,
  "metadata": {
    "colab": {
      "name": "Amazon_Customer_Data_Analysis.ipynb",
      "provenance": [],
      "mount_file_id": "1O_dfS3-xqzZnLgIATKckl0yztRnd8MoS",
      "authorship_tag": "ABX9TyNyHDdFSKK3KJw6GdZ0OVW7",
      "include_colab_link": true
    },
    "kernelspec": {
      "name": "python3",
      "display_name": "Python 3"
    },
    "language_info": {
      "name": "python"
    }
  },
  "cells": [
    {
      "cell_type": "markdown",
      "metadata": {
        "id": "view-in-github",
        "colab_type": "text"
      },
      "source": [
        "<a href=\"https://colab.research.google.com/github/rohithdonthi/Projects/blob/main/Amazon_Customer_Data_Analysis.ipynb\" target=\"_parent\"><img src=\"https://colab.research.google.com/assets/colab-badge.svg\" alt=\"Open In Colab\"/></a>"
      ]
    },
    {
      "cell_type": "code",
      "metadata": {
        "id": "DgC1FbYic-is"
      },
      "source": [
        "import pandas as pd \n",
        "import numpy as np \n",
        "import matplotlib.pyplot as plt\n",
        "import seaborn as sns\n",
        "import sqlite3"
      ],
      "execution_count": null,
      "outputs": []
    },
    {
      "cell_type": "code",
      "metadata": {
        "id": "Qywnw0qxdUXW"
      },
      "source": [
        "con = sqlite3.connect('/content/drive/MyDrive/Colab Notebooks/Project 5-->> Amazon Customers Data Analysis/database.sqlite')"
      ],
      "execution_count": null,
      "outputs": []
    },
    {
      "cell_type": "code",
      "metadata": {
        "colab": {
          "base_uri": "https://localhost:8080/"
        },
        "id": "bdjR4dhwezkv",
        "outputId": "89780a30-9e7f-4c08-c676-274ccd91083f"
      },
      "source": [
        "type(con)"
      ],
      "execution_count": null,
      "outputs": [
        {
          "output_type": "execute_result",
          "data": {
            "text/plain": [
              "sqlite3.Connection"
            ]
          },
          "metadata": {},
          "execution_count": 5
        }
      ]
    },
    {
      "cell_type": "code",
      "metadata": {
        "colab": {
          "base_uri": "https://localhost:8080/",
          "height": 204
        },
        "id": "niuvwsope1su",
        "outputId": "c4284ee5-23ef-4a1c-8871-7d8a5ac0c004"
      },
      "source": [
        "df = pd.read_sql_query('SELECT * FROM Reviews', con)\n",
        "df.head()"
      ],
      "execution_count": null,
      "outputs": [
        {
          "output_type": "execute_result",
          "data": {
            "text/html": [
              "<div>\n",
              "<style scoped>\n",
              "    .dataframe tbody tr th:only-of-type {\n",
              "        vertical-align: middle;\n",
              "    }\n",
              "\n",
              "    .dataframe tbody tr th {\n",
              "        vertical-align: top;\n",
              "    }\n",
              "\n",
              "    .dataframe thead th {\n",
              "        text-align: right;\n",
              "    }\n",
              "</style>\n",
              "<table border=\"1\" class=\"dataframe\">\n",
              "  <thead>\n",
              "    <tr style=\"text-align: right;\">\n",
              "      <th></th>\n",
              "      <th>Id</th>\n",
              "      <th>ProductId</th>\n",
              "      <th>UserId</th>\n",
              "      <th>ProfileName</th>\n",
              "      <th>HelpfulnessNumerator</th>\n",
              "      <th>HelpfulnessDenominator</th>\n",
              "      <th>Score</th>\n",
              "      <th>Time</th>\n",
              "      <th>Summary</th>\n",
              "      <th>Text</th>\n",
              "    </tr>\n",
              "  </thead>\n",
              "  <tbody>\n",
              "    <tr>\n",
              "      <th>0</th>\n",
              "      <td>1</td>\n",
              "      <td>B001E4KFG0</td>\n",
              "      <td>A3SGXH7AUHU8GW</td>\n",
              "      <td>delmartian</td>\n",
              "      <td>1</td>\n",
              "      <td>1</td>\n",
              "      <td>5</td>\n",
              "      <td>1303862400</td>\n",
              "      <td>Good Quality Dog Food</td>\n",
              "      <td>I have bought several of the Vitality canned d...</td>\n",
              "    </tr>\n",
              "    <tr>\n",
              "      <th>1</th>\n",
              "      <td>2</td>\n",
              "      <td>B00813GRG4</td>\n",
              "      <td>A1D87F6ZCVE5NK</td>\n",
              "      <td>dll pa</td>\n",
              "      <td>0</td>\n",
              "      <td>0</td>\n",
              "      <td>1</td>\n",
              "      <td>1346976000</td>\n",
              "      <td>Not as Advertised</td>\n",
              "      <td>Product arrived labeled as Jumbo Salted Peanut...</td>\n",
              "    </tr>\n",
              "    <tr>\n",
              "      <th>2</th>\n",
              "      <td>3</td>\n",
              "      <td>B000LQOCH0</td>\n",
              "      <td>ABXLMWJIXXAIN</td>\n",
              "      <td>Natalia Corres \"Natalia Corres\"</td>\n",
              "      <td>1</td>\n",
              "      <td>1</td>\n",
              "      <td>4</td>\n",
              "      <td>1219017600</td>\n",
              "      <td>\"Delight\" says it all</td>\n",
              "      <td>This is a confection that has been around a fe...</td>\n",
              "    </tr>\n",
              "    <tr>\n",
              "      <th>3</th>\n",
              "      <td>4</td>\n",
              "      <td>B000UA0QIQ</td>\n",
              "      <td>A395BORC6FGVXV</td>\n",
              "      <td>Karl</td>\n",
              "      <td>3</td>\n",
              "      <td>3</td>\n",
              "      <td>2</td>\n",
              "      <td>1307923200</td>\n",
              "      <td>Cough Medicine</td>\n",
              "      <td>If you are looking for the secret ingredient i...</td>\n",
              "    </tr>\n",
              "    <tr>\n",
              "      <th>4</th>\n",
              "      <td>5</td>\n",
              "      <td>B006K2ZZ7K</td>\n",
              "      <td>A1UQRSCLF8GW1T</td>\n",
              "      <td>Michael D. Bigham \"M. Wassir\"</td>\n",
              "      <td>0</td>\n",
              "      <td>0</td>\n",
              "      <td>5</td>\n",
              "      <td>1350777600</td>\n",
              "      <td>Great taffy</td>\n",
              "      <td>Great taffy at a great price.  There was a wid...</td>\n",
              "    </tr>\n",
              "  </tbody>\n",
              "</table>\n",
              "</div>"
            ],
            "text/plain": [
              "   Id  ...                                               Text\n",
              "0   1  ...  I have bought several of the Vitality canned d...\n",
              "1   2  ...  Product arrived labeled as Jumbo Salted Peanut...\n",
              "2   3  ...  This is a confection that has been around a fe...\n",
              "3   4  ...  If you are looking for the secret ingredient i...\n",
              "4   5  ...  Great taffy at a great price.  There was a wid...\n",
              "\n",
              "[5 rows x 10 columns]"
            ]
          },
          "metadata": {},
          "execution_count": 8
        }
      ]
    },
    {
      "cell_type": "code",
      "metadata": {
        "colab": {
          "base_uri": "https://localhost:8080/"
        },
        "id": "dL2F9DrofFmU",
        "outputId": "e6454be7-f6fa-4810-c9a8-1717e81e2324"
      },
      "source": [
        "df.shape"
      ],
      "execution_count": null,
      "outputs": [
        {
          "output_type": "execute_result",
          "data": {
            "text/plain": [
              "(568454, 10)"
            ]
          },
          "metadata": {},
          "execution_count": 9
        }
      ]
    },
    {
      "cell_type": "code",
      "metadata": {
        "colab": {
          "base_uri": "https://localhost:8080/",
          "height": 142
        },
        "id": "LiX7Ne8HfRLi",
        "outputId": "0301288f-95e6-49ad-b7d6-f7d21b590dbc"
      },
      "source": [
        "pd.read_sql_query('SELECT * FROM Reviews LIMIT 3', con)"
      ],
      "execution_count": null,
      "outputs": [
        {
          "output_type": "execute_result",
          "data": {
            "text/html": [
              "<div>\n",
              "<style scoped>\n",
              "    .dataframe tbody tr th:only-of-type {\n",
              "        vertical-align: middle;\n",
              "    }\n",
              "\n",
              "    .dataframe tbody tr th {\n",
              "        vertical-align: top;\n",
              "    }\n",
              "\n",
              "    .dataframe thead th {\n",
              "        text-align: right;\n",
              "    }\n",
              "</style>\n",
              "<table border=\"1\" class=\"dataframe\">\n",
              "  <thead>\n",
              "    <tr style=\"text-align: right;\">\n",
              "      <th></th>\n",
              "      <th>Id</th>\n",
              "      <th>ProductId</th>\n",
              "      <th>UserId</th>\n",
              "      <th>ProfileName</th>\n",
              "      <th>HelpfulnessNumerator</th>\n",
              "      <th>HelpfulnessDenominator</th>\n",
              "      <th>Score</th>\n",
              "      <th>Time</th>\n",
              "      <th>Summary</th>\n",
              "      <th>Text</th>\n",
              "    </tr>\n",
              "  </thead>\n",
              "  <tbody>\n",
              "    <tr>\n",
              "      <th>0</th>\n",
              "      <td>1</td>\n",
              "      <td>B001E4KFG0</td>\n",
              "      <td>A3SGXH7AUHU8GW</td>\n",
              "      <td>delmartian</td>\n",
              "      <td>1</td>\n",
              "      <td>1</td>\n",
              "      <td>5</td>\n",
              "      <td>1303862400</td>\n",
              "      <td>Good Quality Dog Food</td>\n",
              "      <td>I have bought several of the Vitality canned d...</td>\n",
              "    </tr>\n",
              "    <tr>\n",
              "      <th>1</th>\n",
              "      <td>2</td>\n",
              "      <td>B00813GRG4</td>\n",
              "      <td>A1D87F6ZCVE5NK</td>\n",
              "      <td>dll pa</td>\n",
              "      <td>0</td>\n",
              "      <td>0</td>\n",
              "      <td>1</td>\n",
              "      <td>1346976000</td>\n",
              "      <td>Not as Advertised</td>\n",
              "      <td>Product arrived labeled as Jumbo Salted Peanut...</td>\n",
              "    </tr>\n",
              "    <tr>\n",
              "      <th>2</th>\n",
              "      <td>3</td>\n",
              "      <td>B000LQOCH0</td>\n",
              "      <td>ABXLMWJIXXAIN</td>\n",
              "      <td>Natalia Corres \"Natalia Corres\"</td>\n",
              "      <td>1</td>\n",
              "      <td>1</td>\n",
              "      <td>4</td>\n",
              "      <td>1219017600</td>\n",
              "      <td>\"Delight\" says it all</td>\n",
              "      <td>This is a confection that has been around a fe...</td>\n",
              "    </tr>\n",
              "  </tbody>\n",
              "</table>\n",
              "</div>"
            ],
            "text/plain": [
              "   Id  ...                                               Text\n",
              "0   1  ...  I have bought several of the Vitality canned d...\n",
              "1   2  ...  Product arrived labeled as Jumbo Salted Peanut...\n",
              "2   3  ...  This is a confection that has been around a fe...\n",
              "\n",
              "[3 rows x 10 columns]"
            ]
          },
          "metadata": {},
          "execution_count": 10
        }
      ]
    },
    {
      "cell_type": "code",
      "metadata": {
        "colab": {
          "base_uri": "https://localhost:8080/",
          "height": 589
        },
        "id": "nn3zvW5afXqR",
        "outputId": "d8df9007-1d47-49c8-d926-90c73d396543"
      },
      "source": [
        "pd.read_csv('/content/drive/MyDrive/Colab Notebooks/Project 5-->> Amazon Customers Data Analysis/Reviews.csv')"
      ],
      "execution_count": null,
      "outputs": [
        {
          "output_type": "execute_result",
          "data": {
            "text/html": [
              "<div>\n",
              "<style scoped>\n",
              "    .dataframe tbody tr th:only-of-type {\n",
              "        vertical-align: middle;\n",
              "    }\n",
              "\n",
              "    .dataframe tbody tr th {\n",
              "        vertical-align: top;\n",
              "    }\n",
              "\n",
              "    .dataframe thead th {\n",
              "        text-align: right;\n",
              "    }\n",
              "</style>\n",
              "<table border=\"1\" class=\"dataframe\">\n",
              "  <thead>\n",
              "    <tr style=\"text-align: right;\">\n",
              "      <th></th>\n",
              "      <th>Id</th>\n",
              "      <th>ProductId</th>\n",
              "      <th>UserId</th>\n",
              "      <th>ProfileName</th>\n",
              "      <th>HelpfulnessNumerator</th>\n",
              "      <th>HelpfulnessDenominator</th>\n",
              "      <th>Score</th>\n",
              "      <th>Time</th>\n",
              "      <th>Summary</th>\n",
              "      <th>Text</th>\n",
              "    </tr>\n",
              "  </thead>\n",
              "  <tbody>\n",
              "    <tr>\n",
              "      <th>0</th>\n",
              "      <td>1</td>\n",
              "      <td>B001E4KFG0</td>\n",
              "      <td>A3SGXH7AUHU8GW</td>\n",
              "      <td>delmartian</td>\n",
              "      <td>1</td>\n",
              "      <td>1</td>\n",
              "      <td>5</td>\n",
              "      <td>1303862400</td>\n",
              "      <td>Good Quality Dog Food</td>\n",
              "      <td>I have bought several of the Vitality canned d...</td>\n",
              "    </tr>\n",
              "    <tr>\n",
              "      <th>1</th>\n",
              "      <td>2</td>\n",
              "      <td>B00813GRG4</td>\n",
              "      <td>A1D87F6ZCVE5NK</td>\n",
              "      <td>dll pa</td>\n",
              "      <td>0</td>\n",
              "      <td>0</td>\n",
              "      <td>1</td>\n",
              "      <td>1346976000</td>\n",
              "      <td>Not as Advertised</td>\n",
              "      <td>Product arrived labeled as Jumbo Salted Peanut...</td>\n",
              "    </tr>\n",
              "    <tr>\n",
              "      <th>2</th>\n",
              "      <td>3</td>\n",
              "      <td>B000LQOCH0</td>\n",
              "      <td>ABXLMWJIXXAIN</td>\n",
              "      <td>Natalia Corres \"Natalia Corres\"</td>\n",
              "      <td>1</td>\n",
              "      <td>1</td>\n",
              "      <td>4</td>\n",
              "      <td>1219017600</td>\n",
              "      <td>\"Delight\" says it all</td>\n",
              "      <td>This is a confection that has been around a fe...</td>\n",
              "    </tr>\n",
              "    <tr>\n",
              "      <th>3</th>\n",
              "      <td>4</td>\n",
              "      <td>B000UA0QIQ</td>\n",
              "      <td>A395BORC6FGVXV</td>\n",
              "      <td>Karl</td>\n",
              "      <td>3</td>\n",
              "      <td>3</td>\n",
              "      <td>2</td>\n",
              "      <td>1307923200</td>\n",
              "      <td>Cough Medicine</td>\n",
              "      <td>If you are looking for the secret ingredient i...</td>\n",
              "    </tr>\n",
              "    <tr>\n",
              "      <th>4</th>\n",
              "      <td>5</td>\n",
              "      <td>B006K2ZZ7K</td>\n",
              "      <td>A1UQRSCLF8GW1T</td>\n",
              "      <td>Michael D. Bigham \"M. Wassir\"</td>\n",
              "      <td>0</td>\n",
              "      <td>0</td>\n",
              "      <td>5</td>\n",
              "      <td>1350777600</td>\n",
              "      <td>Great taffy</td>\n",
              "      <td>Great taffy at a great price.  There was a wid...</td>\n",
              "    </tr>\n",
              "    <tr>\n",
              "      <th>...</th>\n",
              "      <td>...</td>\n",
              "      <td>...</td>\n",
              "      <td>...</td>\n",
              "      <td>...</td>\n",
              "      <td>...</td>\n",
              "      <td>...</td>\n",
              "      <td>...</td>\n",
              "      <td>...</td>\n",
              "      <td>...</td>\n",
              "      <td>...</td>\n",
              "    </tr>\n",
              "    <tr>\n",
              "      <th>568449</th>\n",
              "      <td>568450</td>\n",
              "      <td>B001EO7N10</td>\n",
              "      <td>A28KG5XORO54AY</td>\n",
              "      <td>Lettie D. Carter</td>\n",
              "      <td>0</td>\n",
              "      <td>0</td>\n",
              "      <td>5</td>\n",
              "      <td>1299628800</td>\n",
              "      <td>Will not do without</td>\n",
              "      <td>Great for sesame chicken..this is a good if no...</td>\n",
              "    </tr>\n",
              "    <tr>\n",
              "      <th>568450</th>\n",
              "      <td>568451</td>\n",
              "      <td>B003S1WTCU</td>\n",
              "      <td>A3I8AFVPEE8KI5</td>\n",
              "      <td>R. Sawyer</td>\n",
              "      <td>0</td>\n",
              "      <td>0</td>\n",
              "      <td>2</td>\n",
              "      <td>1331251200</td>\n",
              "      <td>disappointed</td>\n",
              "      <td>I'm disappointed with the flavor. The chocolat...</td>\n",
              "    </tr>\n",
              "    <tr>\n",
              "      <th>568451</th>\n",
              "      <td>568452</td>\n",
              "      <td>B004I613EE</td>\n",
              "      <td>A121AA1GQV751Z</td>\n",
              "      <td>pksd \"pk_007\"</td>\n",
              "      <td>2</td>\n",
              "      <td>2</td>\n",
              "      <td>5</td>\n",
              "      <td>1329782400</td>\n",
              "      <td>Perfect for our maltipoo</td>\n",
              "      <td>These stars are small, so you can give 10-15 o...</td>\n",
              "    </tr>\n",
              "    <tr>\n",
              "      <th>568452</th>\n",
              "      <td>568453</td>\n",
              "      <td>B004I613EE</td>\n",
              "      <td>A3IBEVCTXKNOH</td>\n",
              "      <td>Kathy A. Welch \"katwel\"</td>\n",
              "      <td>1</td>\n",
              "      <td>1</td>\n",
              "      <td>5</td>\n",
              "      <td>1331596800</td>\n",
              "      <td>Favorite Training and reward treat</td>\n",
              "      <td>These are the BEST treats for training and rew...</td>\n",
              "    </tr>\n",
              "    <tr>\n",
              "      <th>568453</th>\n",
              "      <td>568454</td>\n",
              "      <td>B001LR2CU2</td>\n",
              "      <td>A3LGQPJCZVL9UC</td>\n",
              "      <td>srfell17</td>\n",
              "      <td>0</td>\n",
              "      <td>0</td>\n",
              "      <td>5</td>\n",
              "      <td>1338422400</td>\n",
              "      <td>Great Honey</td>\n",
              "      <td>I am very satisfied ,product is as advertised,...</td>\n",
              "    </tr>\n",
              "  </tbody>\n",
              "</table>\n",
              "<p>568454 rows × 10 columns</p>\n",
              "</div>"
            ],
            "text/plain": [
              "            Id  ...                                               Text\n",
              "0            1  ...  I have bought several of the Vitality canned d...\n",
              "1            2  ...  Product arrived labeled as Jumbo Salted Peanut...\n",
              "2            3  ...  This is a confection that has been around a fe...\n",
              "3            4  ...  If you are looking for the secret ingredient i...\n",
              "4            5  ...  Great taffy at a great price.  There was a wid...\n",
              "...        ...  ...                                                ...\n",
              "568449  568450  ...  Great for sesame chicken..this is a good if no...\n",
              "568450  568451  ...  I'm disappointed with the flavor. The chocolat...\n",
              "568451  568452  ...  These stars are small, so you can give 10-15 o...\n",
              "568452  568453  ...  These are the BEST treats for training and rew...\n",
              "568453  568454  ...  I am very satisfied ,product is as advertised,...\n",
              "\n",
              "[568454 rows x 10 columns]"
            ]
          },
          "metadata": {},
          "execution_count": 12
        }
      ]
    },
    {
      "cell_type": "code",
      "metadata": {
        "id": "j2xdmGnJfjCj"
      },
      "source": [
        "#Perform Sentiment Analysis "
      ],
      "execution_count": null,
      "outputs": []
    },
    {
      "cell_type": "code",
      "metadata": {
        "colab": {
          "base_uri": "https://localhost:8080/"
        },
        "id": "E82cZOZnhNQu",
        "outputId": "b0129672-4b8d-4cdf-a4d1-203b9ae31257"
      },
      "source": [
        "!pip install TextBlob"
      ],
      "execution_count": null,
      "outputs": [
        {
          "output_type": "stream",
          "name": "stdout",
          "text": [
            "Requirement already satisfied: TextBlob in /usr/local/lib/python3.7/dist-packages (0.15.3)\n",
            "Requirement already satisfied: nltk>=3.1 in /usr/local/lib/python3.7/dist-packages (from TextBlob) (3.2.5)\n",
            "Requirement already satisfied: six in /usr/local/lib/python3.7/dist-packages (from nltk>=3.1->TextBlob) (1.15.0)\n"
          ]
        }
      ]
    },
    {
      "cell_type": "code",
      "metadata": {
        "id": "ovUcfklJhmRR"
      },
      "source": [
        "from textblob import TextBlob"
      ],
      "execution_count": null,
      "outputs": []
    },
    {
      "cell_type": "code",
      "metadata": {
        "colab": {
          "base_uri": "https://localhost:8080/",
          "height": 35
        },
        "id": "2xBywQfNhziF",
        "outputId": "987b1493-2eba-4559-937e-515351c20fda"
      },
      "source": [
        "text = df['Summary'][0]\n",
        "text"
      ],
      "execution_count": null,
      "outputs": [
        {
          "output_type": "execute_result",
          "data": {
            "application/vnd.google.colaboratory.intrinsic+json": {
              "type": "string"
            },
            "text/plain": [
              "'Good Quality Dog Food'"
            ]
          },
          "metadata": {},
          "execution_count": 18
        }
      ]
    },
    {
      "cell_type": "code",
      "metadata": {
        "colab": {
          "base_uri": "https://localhost:8080/"
        },
        "id": "BZ59_9PciGjH",
        "outputId": "9fe327e6-7fb8-462c-96f7-7c38cfbce9aa"
      },
      "source": [
        "TextBlob(text).sentiment.polarity"
      ],
      "execution_count": null,
      "outputs": [
        {
          "output_type": "execute_result",
          "data": {
            "text/plain": [
              "0.7"
            ]
          },
          "metadata": {},
          "execution_count": 19
        }
      ]
    },
    {
      "cell_type": "code",
      "metadata": {
        "id": "J9tS9axJiQZn"
      },
      "source": [
        "polarity =[]\n",
        "\n",
        "for i in df['Summary']:\n",
        "  try:\n",
        "    polarity.append(TextBlob(i).sentiment.polarity)\n",
        "  except:\n",
        "    polarity.append(0)"
      ],
      "execution_count": null,
      "outputs": []
    },
    {
      "cell_type": "code",
      "metadata": {
        "colab": {
          "base_uri": "https://localhost:8080/"
        },
        "id": "yhiVrNI8jyJM",
        "outputId": "02795c87-5475-4d06-c24a-10c4b620dae2"
      },
      "source": [
        "len(polarity)"
      ],
      "execution_count": null,
      "outputs": [
        {
          "output_type": "execute_result",
          "data": {
            "text/plain": [
              "568454"
            ]
          },
          "metadata": {},
          "execution_count": 21
        }
      ]
    },
    {
      "cell_type": "code",
      "metadata": {
        "id": "Hnr0ZsVtkP_E"
      },
      "source": [
        "data = df.copy()"
      ],
      "execution_count": null,
      "outputs": []
    },
    {
      "cell_type": "code",
      "metadata": {
        "colab": {
          "base_uri": "https://localhost:8080/",
          "height": 289
        },
        "id": "8lwSSBJDkYOw",
        "outputId": "888bb2fb-1a94-47fe-a550-fc1fe820767b"
      },
      "source": [
        "data['Polarity'] = polarity\n",
        "data.head()"
      ],
      "execution_count": null,
      "outputs": [
        {
          "output_type": "execute_result",
          "data": {
            "text/html": [
              "<div>\n",
              "<style scoped>\n",
              "    .dataframe tbody tr th:only-of-type {\n",
              "        vertical-align: middle;\n",
              "    }\n",
              "\n",
              "    .dataframe tbody tr th {\n",
              "        vertical-align: top;\n",
              "    }\n",
              "\n",
              "    .dataframe thead th {\n",
              "        text-align: right;\n",
              "    }\n",
              "</style>\n",
              "<table border=\"1\" class=\"dataframe\">\n",
              "  <thead>\n",
              "    <tr style=\"text-align: right;\">\n",
              "      <th></th>\n",
              "      <th>Id</th>\n",
              "      <th>ProductId</th>\n",
              "      <th>UserId</th>\n",
              "      <th>ProfileName</th>\n",
              "      <th>HelpfulnessNumerator</th>\n",
              "      <th>HelpfulnessDenominator</th>\n",
              "      <th>Score</th>\n",
              "      <th>Time</th>\n",
              "      <th>Summary</th>\n",
              "      <th>Text</th>\n",
              "      <th>Polarity</th>\n",
              "    </tr>\n",
              "  </thead>\n",
              "  <tbody>\n",
              "    <tr>\n",
              "      <th>0</th>\n",
              "      <td>1</td>\n",
              "      <td>B001E4KFG0</td>\n",
              "      <td>A3SGXH7AUHU8GW</td>\n",
              "      <td>delmartian</td>\n",
              "      <td>1</td>\n",
              "      <td>1</td>\n",
              "      <td>5</td>\n",
              "      <td>1303862400</td>\n",
              "      <td>Good Quality Dog Food</td>\n",
              "      <td>I have bought several of the Vitality canned d...</td>\n",
              "      <td>0.7</td>\n",
              "    </tr>\n",
              "    <tr>\n",
              "      <th>1</th>\n",
              "      <td>2</td>\n",
              "      <td>B00813GRG4</td>\n",
              "      <td>A1D87F6ZCVE5NK</td>\n",
              "      <td>dll pa</td>\n",
              "      <td>0</td>\n",
              "      <td>0</td>\n",
              "      <td>1</td>\n",
              "      <td>1346976000</td>\n",
              "      <td>Not as Advertised</td>\n",
              "      <td>Product arrived labeled as Jumbo Salted Peanut...</td>\n",
              "      <td>0.0</td>\n",
              "    </tr>\n",
              "    <tr>\n",
              "      <th>2</th>\n",
              "      <td>3</td>\n",
              "      <td>B000LQOCH0</td>\n",
              "      <td>ABXLMWJIXXAIN</td>\n",
              "      <td>Natalia Corres \"Natalia Corres\"</td>\n",
              "      <td>1</td>\n",
              "      <td>1</td>\n",
              "      <td>4</td>\n",
              "      <td>1219017600</td>\n",
              "      <td>\"Delight\" says it all</td>\n",
              "      <td>This is a confection that has been around a fe...</td>\n",
              "      <td>0.0</td>\n",
              "    </tr>\n",
              "    <tr>\n",
              "      <th>3</th>\n",
              "      <td>4</td>\n",
              "      <td>B000UA0QIQ</td>\n",
              "      <td>A395BORC6FGVXV</td>\n",
              "      <td>Karl</td>\n",
              "      <td>3</td>\n",
              "      <td>3</td>\n",
              "      <td>2</td>\n",
              "      <td>1307923200</td>\n",
              "      <td>Cough Medicine</td>\n",
              "      <td>If you are looking for the secret ingredient i...</td>\n",
              "      <td>0.0</td>\n",
              "    </tr>\n",
              "    <tr>\n",
              "      <th>4</th>\n",
              "      <td>5</td>\n",
              "      <td>B006K2ZZ7K</td>\n",
              "      <td>A1UQRSCLF8GW1T</td>\n",
              "      <td>Michael D. Bigham \"M. Wassir\"</td>\n",
              "      <td>0</td>\n",
              "      <td>0</td>\n",
              "      <td>5</td>\n",
              "      <td>1350777600</td>\n",
              "      <td>Great taffy</td>\n",
              "      <td>Great taffy at a great price.  There was a wid...</td>\n",
              "      <td>0.8</td>\n",
              "    </tr>\n",
              "  </tbody>\n",
              "</table>\n",
              "</div>"
            ],
            "text/plain": [
              "   Id   ProductId  ...                                               Text Polarity\n",
              "0   1  B001E4KFG0  ...  I have bought several of the Vitality canned d...      0.7\n",
              "1   2  B00813GRG4  ...  Product arrived labeled as Jumbo Salted Peanut...      0.0\n",
              "2   3  B000LQOCH0  ...  This is a confection that has been around a fe...      0.0\n",
              "3   4  B000UA0QIQ  ...  If you are looking for the secret ingredient i...      0.0\n",
              "4   5  B006K2ZZ7K  ...  Great taffy at a great price.  There was a wid...      0.8\n",
              "\n",
              "[5 rows x 11 columns]"
            ]
          },
          "metadata": {},
          "execution_count": 25
        }
      ]
    },
    {
      "cell_type": "code",
      "metadata": {
        "id": "SRXHAVIfkcGh"
      },
      "source": [
        "#Positive sentences "
      ],
      "execution_count": null,
      "outputs": []
    },
    {
      "cell_type": "code",
      "metadata": {
        "id": "bE5Nd6spkkXd"
      },
      "source": [
        "data_positive = data[data['Polarity'] > 0]"
      ],
      "execution_count": null,
      "outputs": []
    },
    {
      "cell_type": "code",
      "metadata": {
        "colab": {
          "base_uri": "https://localhost:8080/"
        },
        "id": "klGcWjVvksww",
        "outputId": "38ee9819-81b3-4a2c-8a3a-ad84593cef1a"
      },
      "source": [
        "data_positive.shape"
      ],
      "execution_count": null,
      "outputs": [
        {
          "output_type": "execute_result",
          "data": {
            "text/plain": [
              "(331665, 11)"
            ]
          },
          "metadata": {},
          "execution_count": 33
        }
      ]
    },
    {
      "cell_type": "code",
      "metadata": {
        "colab": {
          "base_uri": "https://localhost:8080/"
        },
        "id": "kRNHS3Jjkv8f",
        "outputId": "bb6810f8-de8d-43c0-8bb8-112a757cf363"
      },
      "source": [
        "!pip install wordcloud"
      ],
      "execution_count": null,
      "outputs": [
        {
          "output_type": "stream",
          "name": "stdout",
          "text": [
            "Requirement already satisfied: wordcloud in /usr/local/lib/python3.7/dist-packages (1.5.0)\n",
            "Requirement already satisfied: numpy>=1.6.1 in /usr/local/lib/python3.7/dist-packages (from wordcloud) (1.19.5)\n",
            "Requirement already satisfied: pillow in /usr/local/lib/python3.7/dist-packages (from wordcloud) (7.1.2)\n"
          ]
        }
      ]
    },
    {
      "cell_type": "code",
      "metadata": {
        "id": "vlPJo99-mntO"
      },
      "source": [
        "from wordcloud import WordCloud,STOPWORDS"
      ],
      "execution_count": null,
      "outputs": []
    },
    {
      "cell_type": "code",
      "metadata": {
        "id": "SLqVXE9umtnS"
      },
      "source": [
        "stopwords = set(STOPWORDS)"
      ],
      "execution_count": null,
      "outputs": []
    },
    {
      "cell_type": "code",
      "metadata": {
        "id": "XxGLKfdTmxHu"
      },
      "source": [
        "total_text = (' '.join(data_positive['Summary']))"
      ],
      "execution_count": null,
      "outputs": []
    },
    {
      "cell_type": "code",
      "metadata": {
        "colab": {
          "base_uri": "https://localhost:8080/"
        },
        "id": "XcMbssminCRx",
        "outputId": "59f787ab-e5aa-44ce-a241-ff79d0deb0f6"
      },
      "source": [
        "len(total_text)"
      ],
      "execution_count": null,
      "outputs": [
        {
          "output_type": "execute_result",
          "data": {
            "text/plain": [
              "8465012"
            ]
          },
          "metadata": {},
          "execution_count": 39
        }
      ]
    },
    {
      "cell_type": "code",
      "metadata": {
        "colab": {
          "base_uri": "https://localhost:8080/",
          "height": 120
        },
        "id": "MxR_u3ySnESY",
        "outputId": "3c17facb-2ea2-435a-87b6-f23e08d2bb00"
      },
      "source": [
        "total_text[0:10000]"
      ],
      "execution_count": null,
      "outputs": [
        {
          "output_type": "execute_result",
          "data": {
            "application/vnd.google.colaboratory.intrinsic+json": {
              "type": "string"
            },
            "text/plain": [
              "'Good Quality Dog Food Great taffy Nice Taffy Great!  Just as good as the expensive brands! Wonderful, tasty taffy Healthy Dog Food The Best Hot Sauce in the World My cats LOVE this \"diet\" food better than their regular food My Cats Are Not Fans of the New Food fresh and greasy! Love it! GREAT SWEET CANDY! Always fresh Delicious product! Great Bargain for the Price The Best Hot Sauce in the World Great machine! Best of the Instant Oatmeals Good Instant Great Irish oatmeal for those in a hurry! satisfying Love Gluten Free Oatmeal!!! GOOD WAY TO START THE DAY.... Wife\\'s favorite Breakfast Why wouldn\\'t you buy oatmeal from Mcanns? Tastes great! Good Hot Breakfast Great taste and convenience good Very good but next time I won\\'t order the Variety Pack HOT!  And good!  Came back for more  :) Roasts up a smooth brew Our guests love it! Awesome Deal! Awsome - Kids in neighborhood loved us! great deal. Better price for this at Target great source of electrolytes Great for preventing cramps Taste is not so good. How much would you pay for a bag of chocolate pretzels? Great Gummi! Best ever latice tart nothing special Good Taste great this is the best Delicious! Great Natural Balance Lamb and Rice Great food! Great for my dogs allergies Great for stomach problems! Better life for you dog! Great Food Great food for my my dog who has a sensitive stomach. Great dog food Mmmmm  Mmmmm good. Great Dog Food! Good healthy dog food Great dog food Great allergy sensitive dog food, dogs love it Perfect for our English Bulldog with Allergies Taste wise it is a 6 star item Great Support Loved these Tartlets The best My Idea of a Good Diet Food. Delicious tea the best tea ever... freah bright clean Wonderful Tea Great cookies Best everyday cookie! So Far So Good Best Cat Food Great food. Perfect Cat Food For Older Cats! Good for Feline UTI Palatable and healthy Healthy & They LOVE It! Wonderful food - perfect for allergic kitties Tastes great. Love Hot & Spicy. Bad price here. My favorite ramen Amazing to the last bite. Great spicy flavor Great value and convenient ramen great flavor Tastes great, but is cheaper locally. Tastes awesome & looks beautiful Happy Face Simply the BEST! Excellent Product/Life Saver Nice snack Good Licorice I love these!!!!!!!! Great for the kids! Sweet with a nice kick! Love the salsa!! awesome cornmeal GREAT marinade! Awesome stuff tastes good Great flavor of Jell-o. Great Deal Great tasting sea salt WITH iodine tastes very fresh Simple but good Not the greatest tasting.. Not Bad Right size, taste This stuff is sooooo good! Best Stuff Ever Worked great! Delicious! Fluffy, Soft, Delicious and Sugary Sweet Great but not as good as it was back in the day as a teen EXCELLENT LEMON JUICE Great Product Handy Never paid that much ! Great product to help you sleep Perfect for gluten-free chocolate chip cookies Make a fresh fruit tart, light and beautiful not bad for instant healthy coffee It\\'s ok I love it! great taste and has health benefits! Tastes Great. Arrived in 2 days! Great for after lunch Nice little mints, but pricey. These mints are awesome! Love these! And reusable containers A huge hit at the office! Love \\'em, they\\'re great! Love these! fresh! better than average, more expensive than average. Great For Fat Cats and Senior Citizens Best by the case More Hot/Spicy than McCormick\\'s Brand Ahmad Loose Imperial Blend Tea is great for the price Nice tea Best Ahmad Tea My favorite tea Best tea ever! DELICIOUS Best Bloody Mary mixer The Best Love this tea! Really Nice Taste! High Quality... But it gave my dog wicked gas.. Great tasting green tea and such a great deal. OMG best chocolate jelly belly Excellent loose tea. Good anytime hot tea Wonderful! Best way to buy kcups delicious Super!  SuperFoods are Super easy! Best Energy Shot For Me Great for Gluten-free lifestyle!! Excellent but not perfect Good product Thanks for the review Scott great Awesome Sugar! Great product - weak packaging Excellent! Excellent for G/F Amazing! Very tasty chips! Excellent Taste it\\'s fabulous, but *not* from amazon! Not mild enough for me lol Great Natural Energy Great Energy The best energy shot out there, smooth and organic! Fantastic, natural energy Way better than Guayaki! Doesn\\'t taste that good but provides you the energy Favorite energy shot and all natural too! natural energy boost Best energy shot I have ever tasted! The Best Good Stuff Great energy drink without artificial ingredients Flavor getting better, energy is great Fantastic! WOW Very Dissapointed Very Good Coffee Very Tasty Excellent coffee Hot! Hot and delicious ABSOLUTELY DELICIOUS! Great gag gift arrived FAST No broken creamers! Shipped great Better Packaging Perfect for work Yes, this is real excellent coffee!!! Does not taste very good Love, Love, Love These! great for eating whole foods, clean with veggie brush Absolutely LOVE IT!! Only good for ice Great for teething Wonderful idea-difficult to clean. I wasn\\'t that impressed Love the Fresh Food Feeder!! Great Beans!!! Good stuff! excellent - exactly what I expected These are the Best! Love Love Love The product is great but the price is out of line Perfect! great taste Excellent Everyday Olive Oil Love Weavers, I am a fan. Treat yourself to the best coffee! Drinking it now, love the latin america \"aroma\" GREAT SNACK Best Bar My New Granola Bar Another Husband Favorite Very Smooth Coffee - Highly Recommended My favorite Good Coffee Greatest Oil since slice bread !!!!!!! Best Ever! Deliciously scrumptious This is really good stuff Porcini Mushrooms an excellent product Excellent flavor, mostly large pieces The Best Good for the money not the highest quality, but good for the price. Fresh - Whole.. perfect Fresh and Tasty Cat won\\'t go near it! Simply WIld Chick & Brown RIce for Cats A Great All Around Mix Great mix Perfect mix for egg-allergic! Arrowhead Mills whole grain buttermilk Pancakes are easy! Good for Egg Allergy Great Healthy Snack Sweet and Soothing A Fantastic & Healthy Product Great product Excellent tea! best roast ever Franch\\'s is the best VERY GOOD! Great taste and easy for a single guy! Look elsewhere for your whole grains These are Famous for a reason. Wow God, I love these cookies!!! Fresh, Lightly-Spiced, Crunchy Kettle Chips. Good Value, Good Product. glad to find them in 1 oz size pretty good, could be better Best chips ever Kettle potato chips:  Sweet onion Ridiculously Good Delicious! I love these chips.  They are thick and crunchy! Quite good Delicious WOW!!!! Best gluten-free dairy-free chips A unique flavor for fans of Thai food Honey Dijon leaves bad aftertaste, NY Cheddar are pretty good Very good. Excellent! A delicious, crisp chip with good flavor BEST BUY in BBQ Chips Love Them! Best deal ever! Excellent Thai-flavored chip Best Kettle Chips! Delicious as always! Not quite the best... One of Their Best Flavors Love these chips! Highly addicitive chips These are AWESOME! By far my favorite chips Good chips, more cheese Pretty good tasting chip Best sour cream & onion chip I\\'ve had Great chips Fabulous! Great Chip! Excellent balance of taste, crunchiness, and moisture Very good chips at a great price. Great chips! Good and tangy the best chips ever I do not even like kettle chips and I love these You have to love sea salt and vinegar already amazing chips Best Chip Ever Tangy, spicy, and sweet- oh my! The best I\\'ve had Excellent chip! Delicious!! Love Kettle Chips Best unsalted chips Love Kettle Chips, but not this flavor! Crisp Delicious, what else did you expect? Great Value I have had better \"Jalapeno Kettle Chips\" Spicy but good boulder salt and malt vinegar chips are way better Lightly Salted, Heavily Delicious! Too Much Flavor Love at first bite!  Tongue-puckering tang and crunch! The Best Chips...PERIOD! Delicious Extra Crunchy Best Salt & Vinegar! Gourmet powerful Salt & Vinegar chips! Great deal Best Chips out there!!! Great price, but not as tangy as I expected. Absotively, Posilutely Delicious completely ripped off C H I P.....C H I P.....H O O R A Y....!!!!!  :  )  ( B A C K Y A R D.....B A R B E C U E ) Not the Best THESE ARE VERY GOOD USED to be my favorite chips Not as good as the English sell Not so good. delicious Kettle Chips Make Great Mouse Food great (hot) new flavor.... Favorite Kettle flavor and a great value! Kettle Brand Potato Chips - New York Cheddar My favorite flavor So much flavor your farts will smell like sweet onions Great Chip! Awesome and delicious! Good chips YUM! If you want a snack, have something REALLY good! a good buy Good chips Awesome Great chips with very low sodium My favorite Kettle Chip Best salt & vinegar chips out there! Amazing Service Pretty tasty and decently spiced. . . . Great Tasting Chips Good deal but close expiration date! GREAT TASTING CHIPS Buy These, Eat These, Be Happy! Fantastic Sweet, salty, tangy: the way a snack should be Some of the best chips anywhere Delicious! Lightly salted, yet tasty Crunch. Wow! Great strong flavor Best Chips Out There! These chips tasted good awesome chips Delicious! Tangy and delicious snack Best Chip Best Chips I\\'ve Ever Tasted Love the smaller bags! Ok but Miss Vickie\\'s Are Better These chips are awesome if not best but.... GREAT DEAL What a great tea at this price delicious Great well balanced Earl Grey Best Earl Grey ever favorite Earl Grey tea Delicious The best A HUGE Success Do not taste from bottle! Mix with vanilla for true flavor. The oldest soft drink is still the best! Caramel flavor, excellent for baking and toppings (tips for using agave, too) Great buy! excellent sweetner Good, but container could be better Great stuff! Healthy Sweetener Great way replacing the sugar Great substitute sweetener The Best Healthy Stuff Sweet success great product Best price on agave nectar that I\\'ve found How this could be good? Best tea I ever had Who needs salsa when chips taste this good? Delicious! Organic yummy chips what more can you ask for These are the best widely available bbq chips'"
            ]
          },
          "metadata": {},
          "execution_count": 40
        }
      ]
    },
    {
      "cell_type": "code",
      "metadata": {
        "id": "_-GBBtc8o-P2"
      },
      "source": [
        "data_negative = data[data['Polarity'] < 0]"
      ],
      "execution_count": 59,
      "outputs": []
    },
    {
      "cell_type": "code",
      "metadata": {
        "colab": {
          "base_uri": "https://localhost:8080/"
        },
        "id": "8jWatYehvNVd",
        "outputId": "2c93ded8-2202-4626-f409-d5447b22bfe4"
      },
      "source": [
        "data_negative.shape"
      ],
      "execution_count": 60,
      "outputs": [
        {
          "output_type": "execute_result",
          "data": {
            "text/plain": [
              "(52516, 11)"
            ]
          },
          "metadata": {},
          "execution_count": 60
        }
      ]
    },
    {
      "cell_type": "code",
      "metadata": {
        "id": "TERzHEeXvQW0"
      },
      "source": [
        "total_text = (' '.join(data_negative['Summary']))"
      ],
      "execution_count": 62,
      "outputs": []
    },
    {
      "cell_type": "code",
      "metadata": {
        "colab": {
          "base_uri": "https://localhost:8080/"
        },
        "id": "KoZ-_RqHvXS2",
        "outputId": "b47abf58-1c37-4a34-fb6a-69299193f1da"
      },
      "source": [
        "len(total_text)"
      ],
      "execution_count": 63,
      "outputs": [
        {
          "output_type": "execute_result",
          "data": {
            "text/plain": [
              "1438541"
            ]
          },
          "metadata": {},
          "execution_count": 63
        }
      ]
    },
    {
      "cell_type": "code",
      "metadata": {
        "colab": {
          "base_uri": "https://localhost:8080/",
          "height": 120
        },
        "id": "bPdeV7GbvbNV",
        "outputId": "c6a3c77a-235e-47c8-a29b-4d410823dade"
      },
      "source": [
        "total_text[0:10000]"
      ],
      "execution_count": 64,
      "outputs": [
        {
          "output_type": "execute_result",
          "data": {
            "application/vnd.google.colaboratory.intrinsic+json": {
              "type": "string"
            },
            "text/plain": [
              "'poor taste Nasty No flavor How can you go wrong! pretty expensive stale product. Bigger then other brands Order only in cold weather Bad disappointing My every day green tea BROKEN BOTTLE BOTTOMS! Tasteless but low calorie Marley\\'s Mellow Mood Lite - Half Tea Half Lemonade Nearly killed the cats CHANGED FORMULA MAKES CATS SICK!!!! Not a real tea Mcclures bloody Mary mix Not Good Eukanuba puppy small breed dog food My everyday cup of Tea Disappointed Sad outcome Don\\'t Waste Your Money Disappointed! sugar in the raw Good product but terrible agricultural practices Sugar in the raw Sugar in the raw too expensive Not sure So awful I can barely describe AWFUL Bitter A saving grace for Green Mountain Coffee... Fantastic Chicken Noodle soup Heinz no more! Disappointing Waste of money Ham Base MSG Ham Base Love the product disappointed in the shipping. poor item packaging Awful disappointing Hard a slight taste of jalapeno Heavy on the Vinegar These chips make me weak at the knees Not bad but a little hard to get used to Firm quality chip Not  Very Creamy or Chivey... Prefer other flavors Maybe the worst chips ever. They changed the Chips now they taste horrible Gaaak!  An \"extreme\" potato chip...! Gone down hill STALE.  Beware buying these on special! Stale, Rancid Oil Taste, And if You Like Even the Tiniest Bit of Salt Flavor on Your Chips... Disgusting Taste terrible, way too strong VERY DISAPPOINTED Too SOUR! AWFUL TASTE Kettle has sold out, the chips are horrible now HORRIBLE I CANT BELIEVE THIS! The only thing I have ever been addicted too...these chips! ONLY awful because SOMETIMES they are awful So Faboo: Dangerous for those prone to Chips Binges!!! WRONG FLAVOR - got Country BBQ instead of Chili Chipotle Addicted Broken chips but tasty a bit on the stale side Disappointed! Perhaps something was wrong with the batch... $4 down the drain Big Disappointment Worst Frosting Ever worst frosting ever City Steam, not much steam in this brew. great coffee - terrible price Horrible .. dont buy it Not one but twice came broken. disappointment is this serious??? 10 bucks?? Even at $15 seems a little overpriced. Chocolate - How can you go wrong? Odd Fake Flavor - Not Recommended Not like other countries Cadbury Mediocre, but cheap You can\\'t go wrong Yummy, but small... Be Very Berry Wary. Too thin the garbanzo beans in it give horrible gas hard to find tea The most awful taste Not Hot Not hot, not habanero Not good Hard to find cereal found! Cereal is great.  Price is awful. Delicate Asian salad dressing... Not exactly as described Crumbled cookies are no fun to eat Impossible to Find! awful awful Unbelievable deal on a hard to find pruduct! No more stale chips. Cheap! Ketchup powdery coating excessive, overdone gritty PLEASE!!!!!Don\\'t waste your money Hard to please kitty LOVES it Non Alcoholic.. bland Arrived broken and isn\\'t eligible for return? Items in this Gift Basket were bad -- old and stale Dried UP Mostly dry Like to gamble? Buying the St. Patty\\'s Dried Fruit Basket is a Crap-Shoot Vendor ripped off all of their cultures from other vendors Not nearly as good as Bissinger\\'s French Long False Advertising Not what I expected small swirled lollipops Cute, small lollipops, a few arrived broken Omaha Chicken and Stuffed Baked Potatoies Horrible! Hard to find - Bird\\'s custard powder Our dogs go crazy for this! Waste of money Hard to find Beer Nuts Expensive But Worth It! outrageous Equidorian OJio Arriba Carillo \"RAW Oranic\" Cacao Poor quality product Got a chest cold with a nasty cough????? a little to hard Sorry, taste is not pleasing. Difficult to review. Worst Caviar Ever fishy little devils Disappointing... too much red dye and too little taste.... other than that it is great-lol Smaller Than Expected Not very good Chicken and Rice ??? THICK SOUP Not a lot of flavor, not a lot of chicken Chicken noodle not good Noodles not good HORRIBLE. weak coffee not good for a premium product and price We couldn\\'t tell the difference in a blind taste test. makes nasty loose poo! Disgusting Worst cookies ever!!!!! artificial flavor Needs a little something Horrible smell Tasteless mess product is great price is insane My dog now sheds less! Hard to find locally No good . . . Fun Game Beware hidden ingredients Eat without feeling guilty! Everyone Should To Try These At Least Once Deliciousness for little calories! Weird flavors.... Not impressed disgusting Hidden sources of MSG in the ingredients Awful TASTE AVERAGE, INSANELY EXPENSIVE I only like the plain ones Buy them less from here!!! (While you can) Not bad, but not impressive! .8 oz equals about 15 chips. Not bad But not great Like slightly charred popcorn A little hard to open Too small, too hard to open Works, but hard to open...Buy larger version instead of pod Caveat emptor! Disappointing Not Safe! Dirty Martini Olive Juice My husband loves his Dirty Martinis... Dirty Martini Olive Juice Dirty Martini Not really olive juice It\\'s not worth it! Hard to control the quantity. Disappointing Disappointed!! Disappointed with my first farmhouse pancake Addicted Tasty pancakes, but a little flat No better than Jiffy Not sure what the hype is ... Confused... Extremely Disappointing Worst Summer EVER Are these all the k cups that come out of other packages? Wrong product Don\\'t waste your money Not impressed Not Real Peanut Satay Bitter stale cigars False advertising! False advertising! Great Product, Awful Price All 12 cans were terribly banged up and dented! D.O.P? Not really.... a little disappointing Too Expensive Not sure what I got This formula is terrible! Little Flavor Disappointing Dispenser too small Rishi Tea Loose Leaf Tea Bags, 100-count (Pack of 6) Rishi Tea Loose Leaf Tea Bags SKIMPY for the price charged!!  Shocked! Cheaper than other brands I got the wrong food but dog ate it up tasty, but stale (hard) A box of stale crumbs Great cookies - TERRIBLE PRICE Like it but hard to find down to almost none .... New formulation for 10/2012 is not good at all! Terrible flavor Bland Caution - poorly balanced nutrition! Disgusting, nasty, inedible Bad tasting soup a little expensive \"Health food\" from China? Doubtful But quality seems to be slipping lots of uses for this green tea... Crushed up leaves! Stash Instant Green Tea Stash Premium Mint Green Iced Tea Powder No Flavor - Not Authentic Stash Green Tea Powder Great for on the go!  Makes water a little less boring! Way too weak for my tastes Way too weak for my tastes way too weak for my tastes Awful Powdered Green Tea by Stash Just as expected waste of money Terrible Not worth it! I hope I just got a bad batch NO MORE PEPSI FOR ME!! Don\\'t waste your money Shipping is INSANE!!! Too small, too much shell & not enough white fluffy part Small pops Spoiled me for other popcorn average taste Poor product Received wrong product Pops well, not much flavor the worst popcorn on the planet Small Kernals great popcorn  terrible price for shipping Amish County Baby White Popcorn not really in stock Tasteless Not very good Bit of a disappointment on two fronts Not great, not bad Decent, but not great Not full leaf, 1 pound, not 20 pounds USA Chicken Stix I was addicted to this stuff for a while, but wore myself out cold and refreshing Nutritional content of this brand does not live up to what\\'s on the label. So Addicted Wrong Product displayed for order Extremely Disappointed Green Mountain K Cups Green Mountain compared with Tully\\'s French Roast Flavor in, Calories Down, Fat Nearly Out Seemingly impossible... Cookie chips were not very tasty Oreo Thin Crisps 100 Calorie Packs Oreo Thin Crisps work for me Not impressed The worst snap-lock reseal ever made? All By-Product & Corn -- Don\\'t Waste Your Money! Not happy with the product! Superlative store bought cookies: very hard to find! Awful strange flavor Just awful boring boring boring No more guilt snacking the grand-babies! Cafe Excellence Crazy caramet whole beans 2 pound Not particularly good Needs a few additions Not extraordinary Got them for my dog with heart failure Flavor & texture not good in this batch Single worst coffee ever The Worst Tasting Coffee I Have EVER Tasted! 30 bottles instead of the usual 24 Awful Shipping packaging is poor Suzie\\'s Puffed Thin Cakes new recipe gone bad Decent Flavors but a little weak Disgusting If you like the taste of artificial sweetner it is ok. Found the secret HARD TO BELIEVE Can taste artificial sweetner. NASTY Horrible Not good Really Awful Should have listened to other bad reviews :( Not good! Artificial Sweetener! YUCK! So bad I had trouble giving it away! Horrible Taste! Not Good A little thin Much better and less expensive than that ordered from Keurig! At least it wasn\\'t expensive. Too much artificial sweetner Too sweet, too weak Not good Not bad, but not good either Bad Taste Worst Hot chocolate ever! Why, oh why, add fake sugar? Not Good W-E-A-K! NOT WORTH THE COST!!!! Cocoa wasn\\'t bad. . .Price was horrible Not worth it, bad concept Downright awful! Has sucralose :( PARTIALLY HYDROGENATED VEGETABLE OIL Weird after taste, sugar substitute Stay away from artificial sweeatners STALE Very very Stale Love Cracker Jacks, hate them from Amazon Cracker Jacks were STALE Pink perfection! Long lost find! Pink Grapefruit forever! a little surprised quality food for less NO TUNA!! FALSE CLAIM !! Very Disappointed Late shipment A Bitter Pill Oh so bitter tasting...... Poor Food Design!!! Not as expected Bitter and a disappointment Nasty Simply Nasty Little ones like them...and NO SOY! No more shedding Artificial taste Yummy Dark Chocolate Awful Bad reviewers need to stir Dark chocolate cocoa Seriously??? Nasty watery drink Panda boxes of little licorice  pieces Doesn\\'t leave my teeth black Addicted Not Good Not good at all Very weak coffee missing in action Great drink, horrible price! Truffle Oil? Well, at least the oil is real. Among the Worst Candy Ever Produced Zesty spearmint and lemon are modulated by green tea into a substantial poti'"
            ]
          },
          "metadata": {},
          "execution_count": 64
        }
      ]
    },
    {
      "cell_type": "code",
      "metadata": {
        "colab": {
          "base_uri": "https://localhost:8080/"
        },
        "id": "3u77DGOzvdXR",
        "outputId": "e0bc6ce5-0cbc-4008-ae66-642d7337b40e"
      },
      "source": [
        "df['UserId'].nunique()"
      ],
      "execution_count": 66,
      "outputs": [
        {
          "output_type": "execute_result",
          "data": {
            "text/plain": [
              "256059"
            ]
          },
          "metadata": {},
          "execution_count": 66
        }
      ]
    },
    {
      "cell_type": "code",
      "metadata": {
        "id": "K8DqPKv3vnTv"
      },
      "source": [
        "raw = df.groupby('UserId').agg({'Summary':'count','Text':'count','Score':'mean', 'ProductId':'count'}).sort_values(by='Text',ascending=False)"
      ],
      "execution_count": 71,
      "outputs": []
    },
    {
      "cell_type": "code",
      "metadata": {
        "colab": {
          "base_uri": "https://localhost:8080/",
          "height": 390
        },
        "id": "ov1w6d-9weU5",
        "outputId": "0f50678a-c98f-4c6f-a855-26c89036a482"
      },
      "source": [
        "raw.columns = ['number_of_summaries','num_text','avg_score','no_of_products_purchased']\n",
        "raw.head(10)"
      ],
      "execution_count": 72,
      "outputs": [
        {
          "output_type": "execute_result",
          "data": {
            "text/html": [
              "<div>\n",
              "<style scoped>\n",
              "    .dataframe tbody tr th:only-of-type {\n",
              "        vertical-align: middle;\n",
              "    }\n",
              "\n",
              "    .dataframe tbody tr th {\n",
              "        vertical-align: top;\n",
              "    }\n",
              "\n",
              "    .dataframe thead th {\n",
              "        text-align: right;\n",
              "    }\n",
              "</style>\n",
              "<table border=\"1\" class=\"dataframe\">\n",
              "  <thead>\n",
              "    <tr style=\"text-align: right;\">\n",
              "      <th></th>\n",
              "      <th>number_of_summaries</th>\n",
              "      <th>num_text</th>\n",
              "      <th>avg_score</th>\n",
              "      <th>no_of_products_purchased</th>\n",
              "    </tr>\n",
              "    <tr>\n",
              "      <th>UserId</th>\n",
              "      <th></th>\n",
              "      <th></th>\n",
              "      <th></th>\n",
              "      <th></th>\n",
              "    </tr>\n",
              "  </thead>\n",
              "  <tbody>\n",
              "    <tr>\n",
              "      <th>A3OXHLG6DIBRW8</th>\n",
              "      <td>448</td>\n",
              "      <td>448</td>\n",
              "      <td>4.535714</td>\n",
              "      <td>448</td>\n",
              "    </tr>\n",
              "    <tr>\n",
              "      <th>A1YUL9PCJR3JTY</th>\n",
              "      <td>421</td>\n",
              "      <td>421</td>\n",
              "      <td>4.494062</td>\n",
              "      <td>421</td>\n",
              "    </tr>\n",
              "    <tr>\n",
              "      <th>AY12DBB0U420B</th>\n",
              "      <td>389</td>\n",
              "      <td>389</td>\n",
              "      <td>4.647815</td>\n",
              "      <td>389</td>\n",
              "    </tr>\n",
              "    <tr>\n",
              "      <th>A281NPSIMI1C2R</th>\n",
              "      <td>365</td>\n",
              "      <td>365</td>\n",
              "      <td>4.841096</td>\n",
              "      <td>365</td>\n",
              "    </tr>\n",
              "    <tr>\n",
              "      <th>A1Z54EM24Y40LL</th>\n",
              "      <td>256</td>\n",
              "      <td>256</td>\n",
              "      <td>4.453125</td>\n",
              "      <td>256</td>\n",
              "    </tr>\n",
              "    <tr>\n",
              "      <th>A1TMAVN4CEM8U8</th>\n",
              "      <td>204</td>\n",
              "      <td>204</td>\n",
              "      <td>4.833333</td>\n",
              "      <td>204</td>\n",
              "    </tr>\n",
              "    <tr>\n",
              "      <th>A2MUGFV2TDQ47K</th>\n",
              "      <td>201</td>\n",
              "      <td>201</td>\n",
              "      <td>3.751244</td>\n",
              "      <td>201</td>\n",
              "    </tr>\n",
              "    <tr>\n",
              "      <th>A3TVZM3ZIXG8YW</th>\n",
              "      <td>199</td>\n",
              "      <td>199</td>\n",
              "      <td>1.000000</td>\n",
              "      <td>199</td>\n",
              "    </tr>\n",
              "    <tr>\n",
              "      <th>A3PJZ8TU8FDQ1K</th>\n",
              "      <td>178</td>\n",
              "      <td>178</td>\n",
              "      <td>4.601124</td>\n",
              "      <td>178</td>\n",
              "    </tr>\n",
              "    <tr>\n",
              "      <th>AQQLWCMRNDFGI</th>\n",
              "      <td>176</td>\n",
              "      <td>176</td>\n",
              "      <td>3.954545</td>\n",
              "      <td>176</td>\n",
              "    </tr>\n",
              "  </tbody>\n",
              "</table>\n",
              "</div>"
            ],
            "text/plain": [
              "                number_of_summaries  ...  no_of_products_purchased\n",
              "UserId                               ...                          \n",
              "A3OXHLG6DIBRW8                  448  ...                       448\n",
              "A1YUL9PCJR3JTY                  421  ...                       421\n",
              "AY12DBB0U420B                   389  ...                       389\n",
              "A281NPSIMI1C2R                  365  ...                       365\n",
              "A1Z54EM24Y40LL                  256  ...                       256\n",
              "A1TMAVN4CEM8U8                  204  ...                       204\n",
              "A2MUGFV2TDQ47K                  201  ...                       201\n",
              "A3TVZM3ZIXG8YW                  199  ...                       199\n",
              "A3PJZ8TU8FDQ1K                  178  ...                       178\n",
              "AQQLWCMRNDFGI                   176  ...                       176\n",
              "\n",
              "[10 rows x 4 columns]"
            ]
          },
          "metadata": {},
          "execution_count": 72
        }
      ]
    },
    {
      "cell_type": "code",
      "metadata": {
        "id": "KD4EsYTHwQT7"
      },
      "source": [
        "user_10 = raw.index[0:10]"
      ],
      "execution_count": 73,
      "outputs": []
    },
    {
      "cell_type": "code",
      "metadata": {
        "id": "FB5JZmPaw5hE"
      },
      "source": [
        "no_10 = raw['no_of_products_purchased'][0:10]"
      ],
      "execution_count": 75,
      "outputs": []
    },
    {
      "cell_type": "code",
      "metadata": {
        "colab": {
          "base_uri": "https://localhost:8080/",
          "height": 384
        },
        "id": "G8wRvl33xIg5",
        "outputId": "ae9f87c5-d99e-4498-d413-6ee3c7808bab"
      },
      "source": [
        "plt.bar(user_10,no_10,label='most recommended users')\n",
        "plt.xlabel('User_Id')\n",
        "plt.ylabel('Number of Products Purchased')\n",
        "plt.xticks(rotation= 'vertical')"
      ],
      "execution_count": 78,
      "outputs": [
        {
          "output_type": "execute_result",
          "data": {
            "text/plain": [
              "([0, 1, 2, 3, 4, 5, 6, 7, 8, 9], <a list of 10 Text major ticklabel objects>)"
            ]
          },
          "metadata": {},
          "execution_count": 78
        },
        {
          "output_type": "display_data",
          "data": {
            "image/png": "[encoded data removed]",
            "text/plain": [
              "<Figure size 432x288 with 1 Axes>"
            ]
          },
          "metadata": {
            "needs_background": "light"
          }
        }
      ]
    },
    {
      "cell_type": "code",
      "metadata": {
        "id": "AQrgZl9QxThs"
      },
      "source": [
        "#Analysing the length of comments and scores "
      ],
      "execution_count": 79,
      "outputs": []
    },
    {
      "cell_type": "code",
      "metadata": {
        "colab": {
          "base_uri": "https://localhost:8080/",
          "height": 289
        },
        "id": "f86XzA1gyKQP",
        "outputId": "a66b2d26-30bf-49bc-cec0-bb15632e8382"
      },
      "source": [
        "final = df.sample(n=2000)\n",
        "final.head()"
      ],
      "execution_count": 80,
      "outputs": [
        {
          "output_type": "execute_result",
          "data": {
            "text/html": [
              "<div>\n",
              "<style scoped>\n",
              "    .dataframe tbody tr th:only-of-type {\n",
              "        vertical-align: middle;\n",
              "    }\n",
              "\n",
              "    .dataframe tbody tr th {\n",
              "        vertical-align: top;\n",
              "    }\n",
              "\n",
              "    .dataframe thead th {\n",
              "        text-align: right;\n",
              "    }\n",
              "</style>\n",
              "<table border=\"1\" class=\"dataframe\">\n",
              "  <thead>\n",
              "    <tr style=\"text-align: right;\">\n",
              "      <th></th>\n",
              "      <th>Id</th>\n",
              "      <th>ProductId</th>\n",
              "      <th>UserId</th>\n",
              "      <th>ProfileName</th>\n",
              "      <th>HelpfulnessNumerator</th>\n",
              "      <th>HelpfulnessDenominator</th>\n",
              "      <th>Score</th>\n",
              "      <th>Time</th>\n",
              "      <th>Summary</th>\n",
              "      <th>Text</th>\n",
              "    </tr>\n",
              "  </thead>\n",
              "  <tbody>\n",
              "    <tr>\n",
              "      <th>209751</th>\n",
              "      <td>209752</td>\n",
              "      <td>B000Q7535Y</td>\n",
              "      <td>A1SLSU5VAOYTH0</td>\n",
              "      <td>Scott Pelton</td>\n",
              "      <td>0</td>\n",
              "      <td>0</td>\n",
              "      <td>4</td>\n",
              "      <td>1304726400</td>\n",
              "      <td>Great tasting snack, but way overpriced when n...</td>\n",
              "      <td>I really like the taste of these little cookie...</td>\n",
              "    </tr>\n",
              "    <tr>\n",
              "      <th>355561</th>\n",
              "      <td>355562</td>\n",
              "      <td>B002QWP8H0</td>\n",
              "      <td>A1P28UWVW8H4QD</td>\n",
              "      <td>J. J. Woodcock \"JW\"</td>\n",
              "      <td>0</td>\n",
              "      <td>0</td>\n",
              "      <td>5</td>\n",
              "      <td>1349481600</td>\n",
              "      <td>What my dogs have to say . . .</td>\n",
              "      <td>Anytime I shout out \"Mr. Greenie! Four dogs co...</td>\n",
              "    </tr>\n",
              "    <tr>\n",
              "      <th>237518</th>\n",
              "      <td>237519</td>\n",
              "      <td>B0000TLFEQ</td>\n",
              "      <td>A3GNEBFFJXN0O4</td>\n",
              "      <td>Steve Sowder</td>\n",
              "      <td>3</td>\n",
              "      <td>5</td>\n",
              "      <td>3</td>\n",
              "      <td>1179964800</td>\n",
              "      <td>Not like mom's</td>\n",
              "      <td>Good but not great. Reminded me a little bit l...</td>\n",
              "    </tr>\n",
              "    <tr>\n",
              "      <th>519296</th>\n",
              "      <td>519297</td>\n",
              "      <td>B0012KQOQQ</td>\n",
              "      <td>A2EW0RAG9I401F</td>\n",
              "      <td>Eray</td>\n",
              "      <td>0</td>\n",
              "      <td>0</td>\n",
              "      <td>5</td>\n",
              "      <td>1285977600</td>\n",
              "      <td>BEST TEA - TRY IT WITH LEMON - EXCELENT TEA AN...</td>\n",
              "      <td>BEST TEA - TRY IT WITH LEMON - EXCELENT TEA AN...</td>\n",
              "    </tr>\n",
              "    <tr>\n",
              "      <th>451676</th>\n",
              "      <td>451677</td>\n",
              "      <td>B005DQCJK0</td>\n",
              "      <td>A2GEZJHBV92EVR</td>\n",
              "      <td>History buff</td>\n",
              "      <td>1</td>\n",
              "      <td>1</td>\n",
              "      <td>5</td>\n",
              "      <td>1344470400</td>\n",
              "      <td>My cat likes it.</td>\n",
              "      <td>Was feeding my cat a higher priced food called...</td>\n",
              "    </tr>\n",
              "  </tbody>\n",
              "</table>\n",
              "</div>"
            ],
            "text/plain": [
              "            Id  ...                                               Text\n",
              "209751  209752  ...  I really like the taste of these little cookie...\n",
              "355561  355562  ...  Anytime I shout out \"Mr. Greenie! Four dogs co...\n",
              "237518  237519  ...  Good but not great. Reminded me a little bit l...\n",
              "519296  519297  ...  BEST TEA - TRY IT WITH LEMON - EXCELENT TEA AN...\n",
              "451676  451677  ...  Was feeding my cat a higher priced food called...\n",
              "\n",
              "[5 rows x 10 columns]"
            ]
          },
          "metadata": {},
          "execution_count": 80
        }
      ]
    },
    {
      "cell_type": "code",
      "metadata": {
        "colab": {
          "base_uri": "https://localhost:8080/"
        },
        "id": "uzbtWknkyZ8h",
        "outputId": "a5acc1fd-638c-4d6e-ea27-bd3a6c7c647d"
      },
      "source": [
        "final.isnull().sum()"
      ],
      "execution_count": 81,
      "outputs": [
        {
          "output_type": "execute_result",
          "data": {
            "text/plain": [
              "Id                        0\n",
              "ProductId                 0\n",
              "UserId                    0\n",
              "ProfileName               0\n",
              "HelpfulnessNumerator      0\n",
              "HelpfulnessDenominator    0\n",
              "Score                     0\n",
              "Time                      0\n",
              "Summary                   0\n",
              "Text                      0\n",
              "dtype: int64"
            ]
          },
          "metadata": {},
          "execution_count": 81
        }
      ]
    },
    {
      "cell_type": "code",
      "metadata": {
        "colab": {
          "base_uri": "https://localhost:8080/"
        },
        "id": "5j-T4akoyc8f",
        "outputId": "7bf8ef16-c044-4e26-f1ca-474b01714374"
      },
      "source": [
        "final.duplicated().sum()"
      ],
      "execution_count": 84,
      "outputs": [
        {
          "output_type": "execute_result",
          "data": {
            "text/plain": [
              "0"
            ]
          },
          "metadata": {},
          "execution_count": 84
        }
      ]
    },
    {
      "cell_type": "code",
      "metadata": {
        "id": "J1bLTzIMy1mf"
      },
      "source": [
        "def calc_len(text):\n",
        "  return len(text.split(' '))"
      ],
      "execution_count": 89,
      "outputs": []
    },
    {
      "cell_type": "code",
      "metadata": {
        "colab": {
          "base_uri": "https://localhost:8080/",
          "height": 419
        },
        "id": "XaW6L-Dh0a1P",
        "outputId": "39309752-fce4-4a0a-eb3a-97e2949001c6"
      },
      "source": [
        "text_length = final['Text'].apply(calc_len)\n",
        "text_length.reset_index()"
      ],
      "execution_count": 108,
      "outputs": [
        {
          "output_type": "execute_result",
          "data": {
            "text/html": [
              "<div>\n",
              "<style scoped>\n",
              "    .dataframe tbody tr th:only-of-type {\n",
              "        vertical-align: middle;\n",
              "    }\n",
              "\n",
              "    .dataframe tbody tr th {\n",
              "        vertical-align: top;\n",
              "    }\n",
              "\n",
              "    .dataframe thead th {\n",
              "        text-align: right;\n",
              "    }\n",
              "</style>\n",
              "<table border=\"1\" class=\"dataframe\">\n",
              "  <thead>\n",
              "    <tr style=\"text-align: right;\">\n",
              "      <th></th>\n",
              "      <th>index</th>\n",
              "      <th>Text</th>\n",
              "    </tr>\n",
              "  </thead>\n",
              "  <tbody>\n",
              "    <tr>\n",
              "      <th>0</th>\n",
              "      <td>209751</td>\n",
              "      <td>58</td>\n",
              "    </tr>\n",
              "    <tr>\n",
              "      <th>1</th>\n",
              "      <td>355561</td>\n",
              "      <td>34</td>\n",
              "    </tr>\n",
              "    <tr>\n",
              "      <th>2</th>\n",
              "      <td>237518</td>\n",
              "      <td>18</td>\n",
              "    </tr>\n",
              "    <tr>\n",
              "      <th>3</th>\n",
              "      <td>519296</td>\n",
              "      <td>16</td>\n",
              "    </tr>\n",
              "    <tr>\n",
              "      <th>4</th>\n",
              "      <td>451676</td>\n",
              "      <td>94</td>\n",
              "    </tr>\n",
              "    <tr>\n",
              "      <th>...</th>\n",
              "      <td>...</td>\n",
              "      <td>...</td>\n",
              "    </tr>\n",
              "    <tr>\n",
              "      <th>1995</th>\n",
              "      <td>170302</td>\n",
              "      <td>39</td>\n",
              "    </tr>\n",
              "    <tr>\n",
              "      <th>1996</th>\n",
              "      <td>132404</td>\n",
              "      <td>25</td>\n",
              "    </tr>\n",
              "    <tr>\n",
              "      <th>1997</th>\n",
              "      <td>403271</td>\n",
              "      <td>17</td>\n",
              "    </tr>\n",
              "    <tr>\n",
              "      <th>1998</th>\n",
              "      <td>325474</td>\n",
              "      <td>81</td>\n",
              "    </tr>\n",
              "    <tr>\n",
              "      <th>1999</th>\n",
              "      <td>473493</td>\n",
              "      <td>78</td>\n",
              "    </tr>\n",
              "  </tbody>\n",
              "</table>\n",
              "<p>2000 rows × 2 columns</p>\n",
              "</div>"
            ],
            "text/plain": [
              "       index  Text\n",
              "0     209751    58\n",
              "1     355561    34\n",
              "2     237518    18\n",
              "3     519296    16\n",
              "4     451676    94\n",
              "...      ...   ...\n",
              "1995  170302    39\n",
              "1996  132404    25\n",
              "1997  403271    17\n",
              "1998  325474    81\n",
              "1999  473493    78\n",
              "\n",
              "[2000 rows x 2 columns]"
            ]
          },
          "metadata": {},
          "execution_count": 108
        }
      ]
    },
    {
      "cell_type": "code",
      "metadata": {
        "colab": {
          "base_uri": "https://localhost:8080/",
          "height": 384
        },
        "id": "Eq_bakMb29d5",
        "outputId": "9ebdae9f-0132-4d0c-c7a8-f49ba724f54b"
      },
      "source": [
        "sns.countplot(final['Score'])"
      ],
      "execution_count": 109,
      "outputs": [
        {
          "output_type": "stream",
          "name": "stderr",
          "text": [
            "/usr/local/lib/python3.7/dist-packages/seaborn/_decorators.py:43: FutureWarning:\n",
            "\n",
            "Pass the following variable as a keyword arg: x. From version 0.12, the only valid positional argument will be `data`, and passing other arguments without an explicit keyword will result in an error or misinterpretation.\n",
            "\n"
          ]
        },
        {
          "output_type": "execute_result",
          "data": {
            "text/plain": [
              "<matplotlib.axes._subplots.AxesSubplot at 0x7fc2b599b890>"
            ]
          },
          "metadata": {},
          "execution_count": 109
        },
        {
          "output_type": "display_data",
          "data": {
            "image/png": "[encoded data removed]",
            "text/plain": [
              "<Figure size 432x288 with 1 Axes>"
            ]
          },
          "metadata": {
            "needs_background": "light"
          }
        }
      ]
    }
  ]
}